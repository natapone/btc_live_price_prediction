{
 "cells": [
  {
   "cell_type": "markdown",
   "metadata": {},
   "source": [
    "## Objective\n",
    "\n",
    "**Cryptocurrency prediction experiment** to predict direction of the close price of BTCUSDT for the next 10 hours\n",
    "\n",
    "Dataset:\n",
    "- BTCUSDT 1h in Json format from Binance\n",
    "\n",
    "Prediction target logic:\n",
    "- Set treshold to +-1%\n",
    "- If next 10 hours close price is higher than 1% of current close price, label as 1\n",
    "- If next 10 hours close price is lower than -1% of current close price, label as -1\n",
    "- Else label as 0\n",
    "\n",
    "Since we focus on the direction of the price, we will use classification model for this experiment"
   ]
  },
  {
   "cell_type": "code",
   "execution_count": 2,
   "metadata": {},
   "outputs": [],
   "source": [
    "import pandas as pd\n",
    "\n",
    "# Ref from data exploration\n",
    "def remove_outlier(df, iqr_threshold = 5):\n",
    "    \n",
    "    # Calculate the first quartile (25th percentile) and third quartile (75th percentile)\n",
    "    q1 = df['volume'].quantile(0.25)\n",
    "    q3 = df['volume'].quantile(0.75)\n",
    "\n",
    "    # Calculate the interquartile range (IQR)\n",
    "    iqr = q3 - q1\n",
    "\n",
    "    # Define lower and upper bounds for outliers\n",
    "    lower_bound = q1 - iqr_threshold * iqr\n",
    "    upper_bound = q3 + iqr_threshold * iqr\n",
    "\n",
    "    lower_bound = 0 if lower_bound < 0 else lower_bound\n",
    "\n",
    "    # remove outliers from df\n",
    "    df = df[(df['volume'] > lower_bound) & (df['volume'] < upper_bound)]\n",
    "    \n",
    "    return df\n",
    "\n",
    "def read_hist_data(name = 'BTC', timeframe = '1h'):\n",
    "    file_path = f\"./data/{name}_USDT-{timeframe}.json\"\n",
    "    df = pd.read_json(file_path)\n",
    "\n",
    "    # set column names\n",
    "    df.columns = ['datetime', 'open', 'high', 'low', 'close', 'volume']\n",
    "\n",
    "    # convert unix timestamp to datetime\n",
    "    df['datetime'] = pd.to_datetime(df['datetime'], unit='ms')\n",
    "    \n",
    "    df = remove_outlier(df)\n",
    "    return df\n",
    "\n",
    "random_state = 55"
   ]
  },
  {
   "cell_type": "markdown",
   "metadata": {},
   "source": [
    "## Feature Engineering"
   ]
  },
  {
   "cell_type": "code",
   "execution_count": 3,
   "metadata": {},
   "outputs": [
    {
     "name": "stdout",
     "output_type": "stream",
     "text": [
      "             datetime      open      high       low     close       volume\n",
      "0 2021-01-01 00:00:00  28923.63  29031.34  28690.17  28995.13  2311.811445\n",
      "1 2021-01-01 01:00:00  28995.13  29470.00  28960.35  29409.99  5403.068471\n",
      "2 2021-01-01 02:00:00  29410.00  29465.26  29120.03  29194.65  2384.231560\n",
      "3 2021-01-01 03:00:00  29195.25  29367.00  29150.02  29278.40  1461.345077\n",
      "4 2021-01-01 04:00:00  29278.41  29395.00  29029.40  29220.31  2038.046803\n",
      "5 2021-01-01 05:00:00  29220.31  29235.28  29084.11  29187.01  1469.956262\n",
      "6 2021-01-01 06:00:00  29187.01  29270.00  29077.32  29174.35  1420.726291\n",
      "7 2021-01-01 07:00:00  29174.35  29191.98  28806.54  29092.83  2380.180918\n",
      "8 2021-01-01 08:00:00  29092.84  29178.03  28872.24  29000.01  2008.165739\n",
      "9 2021-01-01 09:00:00  29000.01  29307.73  28970.00  29202.21  2022.056022\n",
      "                 datetime      open      high       low     close      volume\n",
      "23121 2023-08-22 23:00:00  25808.00  26070.04  25784.69  26056.00  2291.04723\n",
      "23122 2023-08-23 00:00:00  26055.99  26187.99  26030.56  26040.38  2447.77226\n",
      "23123 2023-08-23 01:00:00  26040.38  26081.64  25994.12  26049.41   728.81260\n",
      "23124 2023-08-23 02:00:00  26049.41  26091.75  26033.00  26044.42   795.45411\n",
      "23125 2023-08-23 03:00:00  26044.41  26078.01  25990.15  26006.32   764.41941\n",
      "23126 2023-08-23 04:00:00  26006.32  26062.00  25976.72  26050.01   903.41765\n",
      "23127 2023-08-23 05:00:00  26050.02  26053.53  25991.10  26042.01   967.31063\n",
      "23128 2023-08-23 06:00:00  26042.00  26183.91  26038.31  26064.00  1927.97125\n",
      "23129 2023-08-23 07:00:00  26063.99  26132.47  26014.70  26057.13  1267.75092\n",
      "23130 2023-08-23 08:00:00  26057.12  26096.00  26027.49  26037.99   643.97550\n"
     ]
    },
    {
     "data": {
      "text/html": [
       "<div>\n",
       "<style scoped>\n",
       "    .dataframe tbody tr th:only-of-type {\n",
       "        vertical-align: middle;\n",
       "    }\n",
       "\n",
       "    .dataframe tbody tr th {\n",
       "        vertical-align: top;\n",
       "    }\n",
       "\n",
       "    .dataframe thead th {\n",
       "        text-align: right;\n",
       "    }\n",
       "</style>\n",
       "<table border=\"1\" class=\"dataframe\">\n",
       "  <thead>\n",
       "    <tr style=\"text-align: right;\">\n",
       "      <th></th>\n",
       "      <th>datetime</th>\n",
       "      <th>open</th>\n",
       "      <th>high</th>\n",
       "      <th>low</th>\n",
       "      <th>close</th>\n",
       "      <th>volume</th>\n",
       "    </tr>\n",
       "  </thead>\n",
       "  <tbody>\n",
       "    <tr>\n",
       "      <th>count</th>\n",
       "      <td>22915</td>\n",
       "      <td>22915.000000</td>\n",
       "      <td>22915.000000</td>\n",
       "      <td>22915.000000</td>\n",
       "      <td>22915.000000</td>\n",
       "      <td>22915.000000</td>\n",
       "    </tr>\n",
       "    <tr>\n",
       "      <th>mean</th>\n",
       "      <td>2022-04-26 04:37:59.869081600</td>\n",
       "      <td>35117.336473</td>\n",
       "      <td>35297.705123</td>\n",
       "      <td>34928.163154</td>\n",
       "      <td>35117.620848</td>\n",
       "      <td>4477.749672</td>\n",
       "    </tr>\n",
       "    <tr>\n",
       "      <th>min</th>\n",
       "      <td>2021-01-01 00:00:00</td>\n",
       "      <td>15648.230000</td>\n",
       "      <td>15769.990000</td>\n",
       "      <td>15476.000000</td>\n",
       "      <td>15649.520000</td>\n",
       "      <td>5.887034</td>\n",
       "    </tr>\n",
       "    <tr>\n",
       "      <th>25%</th>\n",
       "      <td>2021-08-28 09:30:00</td>\n",
       "      <td>23415.510000</td>\n",
       "      <td>23483.855000</td>\n",
       "      <td>23341.975000</td>\n",
       "      <td>23414.470000</td>\n",
       "      <td>1398.628235</td>\n",
       "    </tr>\n",
       "    <tr>\n",
       "      <th>50%</th>\n",
       "      <td>2022-04-24 06:00:00</td>\n",
       "      <td>32099.970000</td>\n",
       "      <td>32345.000000</td>\n",
       "      <td>31800.000000</td>\n",
       "      <td>32099.980000</td>\n",
       "      <td>2658.617538</td>\n",
       "    </tr>\n",
       "    <tr>\n",
       "      <th>75%</th>\n",
       "      <td>2022-12-22 12:30:00</td>\n",
       "      <td>45197.645000</td>\n",
       "      <td>45485.530000</td>\n",
       "      <td>44869.145000</td>\n",
       "      <td>45197.975000</td>\n",
       "      <td>5828.032940</td>\n",
       "    </tr>\n",
       "    <tr>\n",
       "      <th>max</th>\n",
       "      <td>2023-08-23 08:00:00</td>\n",
       "      <td>68635.120000</td>\n",
       "      <td>69000.000000</td>\n",
       "      <td>68451.190000</td>\n",
       "      <td>68633.690000</td>\n",
       "      <td>28721.893750</td>\n",
       "    </tr>\n",
       "    <tr>\n",
       "      <th>std</th>\n",
       "      <td>NaN</td>\n",
       "      <td>13125.131469</td>\n",
       "      <td>13210.580569</td>\n",
       "      <td>13033.198250</td>\n",
       "      <td>13125.379765</td>\n",
       "      <td>4697.700455</td>\n",
       "    </tr>\n",
       "  </tbody>\n",
       "</table>\n",
       "</div>"
      ],
      "text/plain": [
       "                            datetime          open          high  \\\n",
       "count                          22915  22915.000000  22915.000000   \n",
       "mean   2022-04-26 04:37:59.869081600  35117.336473  35297.705123   \n",
       "min              2021-01-01 00:00:00  15648.230000  15769.990000   \n",
       "25%              2021-08-28 09:30:00  23415.510000  23483.855000   \n",
       "50%              2022-04-24 06:00:00  32099.970000  32345.000000   \n",
       "75%              2022-12-22 12:30:00  45197.645000  45485.530000   \n",
       "max              2023-08-23 08:00:00  68635.120000  69000.000000   \n",
       "std                              NaN  13125.131469  13210.580569   \n",
       "\n",
       "                low         close        volume  \n",
       "count  22915.000000  22915.000000  22915.000000  \n",
       "mean   34928.163154  35117.620848   4477.749672  \n",
       "min    15476.000000  15649.520000      5.887034  \n",
       "25%    23341.975000  23414.470000   1398.628235  \n",
       "50%    31800.000000  32099.980000   2658.617538  \n",
       "75%    44869.145000  45197.975000   5828.032940  \n",
       "max    68451.190000  68633.690000  28721.893750  \n",
       "std    13033.198250  13125.379765   4697.700455  "
      ]
     },
     "execution_count": 3,
     "metadata": {},
     "output_type": "execute_result"
    }
   ],
   "source": [
    "df = read_hist_data(name = 'BTC', timeframe = '1h') # read data\n",
    "# df = read_hist_data(name = 'BTC', timeframe = '5m') # read data\n",
    "print(df.head(10))\n",
    "print(df.tail(10)) \n",
    "\n",
    "df.describe()"
   ]
  },
  {
   "cell_type": "markdown",
   "metadata": {},
   "source": [
    "### Experiment 1: Create features from indicators"
   ]
  },
  {
   "cell_type": "markdown",
   "metadata": {},
   "source": [
    "Use TAlib (Technical Analysis Library) in Python to create technical indicators that might have prediction power.\n",
    "- We will explore all available data whixh is Open, High, Low, Close, Volume\n",
    "- We will focus in index type indicators since it's more generalizable to other stocks"
   ]
  },
  {
   "cell_type": "code",
   "execution_count": 4,
   "metadata": {},
   "outputs": [
    {
     "name": "stdout",
     "output_type": "stream",
     "text": [
      "               datetime      open      high       low     close       volume  \\\n",
      "598 2021-01-25 22:00:00  32715.53  32732.99  31910.00  32462.36  3761.903244   \n",
      "599 2021-01-25 23:00:00  32462.38  32650.00  32201.44  32254.20  2777.021592   \n",
      "600 2021-01-26 00:00:00  32254.19  32793.01  31758.00  32474.33  3799.041198   \n",
      "601 2021-01-26 01:00:00  32474.34  32827.33  32210.01  32758.85  2324.035401   \n",
      "602 2021-01-26 02:00:00  32754.20  32765.41  32230.29  32307.97  2168.256682   \n",
      "\n",
      "     high_pct_4  high_ema_4  high_rsi_4  high_trix_4  ...  volume_var_200  \\\n",
      "598   -3.815782   -1.716759    8.849644    -0.469483  ...    5.152259e+06   \n",
      "599   -3.369146   -1.188915    8.175968    -0.579663  ...    5.155260e+06   \n",
      "600   -2.034151   -0.455044   21.845644    -0.576277  ...    5.155131e+06   \n",
      "601   -1.903168   -0.210814   25.399214    -0.506497  ...    5.153162e+06   \n",
      "602    0.099044   -0.239807   22.894982    -0.426357  ...    5.140007e+06   \n",
      "\n",
      "     volume_lag1_200  volume_lag2_200  price_atr_200  price_interact_200  \\\n",
      "598       102.545726       -17.431208       2.221715          -14.625976   \n",
      "599        32.042845       102.545726       2.231827          -21.702496   \n",
      "600       -36.031537        32.042845       2.221551          -21.254959   \n",
      "601         6.151413       -36.031537       2.200667          -18.903438   \n",
      "602         6.027223         6.151413       2.228503          -21.053520   \n",
      "\n",
      "     pv_interact_200  price_adx_200    mfi_200  price_dx_200  target  \n",
      "598      -210.944150      11.517027  45.237289     13.820209      -1  \n",
      "599       350.374052      11.528543  45.097567     13.820209      -1  \n",
      "600       -58.854400      11.543267  44.596663     14.473271       0  \n",
      "601       -51.773048      11.557579  44.903071     14.405836      -1  \n",
      "602      -435.090992      11.571821  44.872249     14.405836      -1  \n",
      "\n",
      "[5 rows x 259 columns]\n",
      "                 datetime      open      high       low     close      volume  \\\n",
      "23126 2023-08-23 04:00:00  26006.32  26062.00  25976.72  26050.01   903.41765   \n",
      "23127 2023-08-23 05:00:00  26050.02  26053.53  25991.10  26042.01   967.31063   \n",
      "23128 2023-08-23 06:00:00  26042.00  26183.91  26038.31  26064.00  1927.97125   \n",
      "23129 2023-08-23 07:00:00  26063.99  26132.47  26014.70  26057.13  1267.75092   \n",
      "23130 2023-08-23 08:00:00  26057.12  26096.00  26027.49  26037.99   643.97550   \n",
      "\n",
      "       high_pct_4  high_ema_4  high_rsi_4  high_trix_4  ...  volume_var_200  \\\n",
      "23126   -0.481098   -0.034995   50.842936     0.046598  ...    4.595741e+06   \n",
      "23127   -0.107777   -0.040501   48.073656     0.028555  ...    4.588873e+06   \n",
      "23128    0.353215    0.275330   75.482144     0.046929  ...    4.582831e+06   \n",
      "23129    0.208835    0.046985   59.078051     0.051039  ...    4.574845e+06   \n",
      "23130    0.130458   -0.055604   49.009600     0.038399  ...    4.572268e+06   \n",
      "\n",
      "       volume_lag1_200  volume_lag2_200  price_atr_200  price_interact_200  \\\n",
      "23126        16.688905       -74.130671       0.449241           -5.120012   \n",
      "23127        57.836892        16.688905       0.448331           -5.127644   \n",
      "23128       188.503413        57.836892       0.448506           -5.140495   \n",
      "23129       206.942837       188.503413       0.448641           -5.142972   \n",
      "23130       219.912444       206.942837       0.448041           -5.169211   \n",
      "\n",
      "       pv_interact_200  price_adx_200    mfi_200  price_dx_200  target  \n",
      "23126      -659.168519      20.404216  36.467037     32.043159       0  \n",
      "23127     -2155.948973      20.462410  36.303026     32.043159       0  \n",
      "23128     -2371.849757      20.511978  36.517556     30.375922       0  \n",
      "23129     -2520.955346      20.562096  36.435093     30.535548       0  \n",
      "23130      -567.849251      20.611963  36.419415     30.535548       0  \n",
      "\n",
      "[5 rows x 259 columns]\n"
     ]
    }
   ],
   "source": [
    "import talib\n",
    "import numpy as np\n",
    "import warnings\n",
    "\n",
    "\n",
    "\n",
    "def get_features(df):\n",
    "\n",
    "    # List of periods\n",
    "    periods = [4, 12, 24, 48, 100, 200]\n",
    "    inputs = ['high', 'low', 'close', 'volume']\n",
    "\n",
    "    \n",
    "    # loop periods and inputs\n",
    "    for period in periods:\n",
    "        for input in inputs:\n",
    "            # Generate indicators\n",
    "\n",
    "            # % of change\n",
    "            df[f'{input}_pct_{period}'] = df[input].pct_change(periods=period) * 100\n",
    "\n",
    "            # % of ema\n",
    "            pct_ema = talib.EMA(df[input].values, timeperiod=period)\n",
    "            df[f'{input}_ema_{period}'] = (df[input] - pct_ema) / pct_ema * 100\n",
    "\n",
    "            # RSI\n",
    "            df[f'{input}_rsi_{period}'] = talib.RSI(df[input].values, timeperiod=period)\n",
    "\n",
    "            # TRIX\n",
    "            df[f'{input}_trix_{period}'] = talib.TRIX(df[input].values, timeperiod=period)\n",
    "\n",
    "            # SD\n",
    "            pct_sd = talib.STDDEV(df[input].values, timeperiod=period)\n",
    "            df[f'{input}_sd_{period}'] = pct_sd / df[input] * 100\n",
    "\n",
    "            # ROC\n",
    "            df[f'{input}_roc_{period}'] = talib.ROC(df[input].values, timeperiod=period)\n",
    "\n",
    "            # VAR\n",
    "            df[f'{input}_var_{period}'] = talib.VAR(df[input].values, timeperiod=period)\n",
    "\n",
    "            # Lagged\n",
    "\n",
    "            # pct change - lagged 1\n",
    "            df[f'{input}_lag1_{period}'] = df[f'{input}_pct_{period}'].shift(1)\n",
    "\n",
    "            # pct change - lagged 2\n",
    "            df[f'{input}_lag2_{period}'] = df[f'{input}_pct_{period}'].shift(2)\n",
    "\n",
    "            \n",
    "\n",
    "\n",
    "        \n",
    "        # Multiple inputs indicators\n",
    "        # ATR\n",
    "        pct_atr = talib.ATR(df['high'].values, df['low'].values, df['close'].values, timeperiod=period)\n",
    "        df[f'price_atr_{period}'] = pct_atr / df['close'] * 100\n",
    "\n",
    "        # Price interaction Features:\n",
    "        df[f'price_interact_{period}'] = df[f'close_roc_{period}'] * df[f'price_atr_{period}']\n",
    "\n",
    "        # Price volume interaction:\n",
    "        df[f'pv_interact_{period}'] = df[f'close_roc_{period}'] * df[f'volume_roc_{period}']\n",
    "\n",
    "        # ADX\n",
    "        df[f'price_adx_{period}'] = talib.ADX(df['high'].values, df['low'].values, df['close'].values, timeperiod=period)\n",
    "\n",
    "        # MFI\n",
    "        df[f'mfi_{period}'] = talib.MFI(df['high'].values, df['low'].values, df['close'].values, df['volume'].values, timeperiod=period)\n",
    "\n",
    "        # DX\n",
    "        df[f'price_dx_{period}'] = talib.DX(df['high'].values, df['low'].values, df['close'].values, timeperiod=period)\n",
    "\n",
    "    return df\n",
    "\n",
    "# to predict if the price will go up (+1%) or down (-1%) in the next 10 periods\n",
    "def get_target_next_close(df, target_shift = 10):\n",
    "\n",
    "    target_treshold = 0.01\n",
    "    conditions = [\n",
    "        (df['close'].shift(target_shift * -1).isnull()), \n",
    "        (df['close'].shift(target_shift * -1) > df['close'] * (1+target_treshold )),\n",
    "        (df['close'].shift(target_shift * -1) < df['close'] * (1-target_treshold)),\n",
    "        (df['close'].shift(target_shift * -1) >= df['close'] * (1-target_treshold)) & \n",
    "        (df['close'].shift(target_shift * -1) <= df['close'] * (1+target_treshold))\n",
    "    ]\n",
    "    values = [np.nan, 1, -1, 0]\n",
    "    df['target'] = np.select(conditions, values)\n",
    "    df = df.dropna()\n",
    "    return df\n",
    "\n",
    "def get_features_target_next_close():\n",
    "\n",
    "    # Disable the PerformanceWarning temporarily\n",
    "    warnings.filterwarnings(\"ignore\", category=pd.errors.PerformanceWarning)\n",
    "\n",
    "    df = read_hist_data()\n",
    "    df = get_features(df)\n",
    "    df = get_target_next_close(df)\n",
    "\n",
    "    # Re-enable warnings\n",
    "    warnings.resetwarnings()\n",
    "\n",
    "    return df\n",
    "\n",
    "df = get_features_target_next_close()\n",
    "\n",
    "print(df.head(5))\n",
    "print(df.tail(5))\n",
    "\n"
   ]
  },
  {
   "cell_type": "code",
   "execution_count": 4,
   "metadata": {},
   "outputs": [
    {
     "name": "stdout",
     "output_type": "stream",
     "text": [
      "Total columns: 259\n"
     ]
    }
   ],
   "source": [
    "# total columns\n",
    "print(f'Total columns: {len(df.columns)}')\n",
    "\n",
    "# list(df.columns)"
   ]
  },
  {
   "cell_type": "markdown",
   "metadata": {},
   "source": [
    "##### Identify the most important features"
   ]
  },
  {
   "cell_type": "markdown",
   "metadata": {},
   "source": [
    "When dealing with a large number of features, it's crucial to determine which features are most relevant for predicting your target variable. Feature selection techniques can help you identify the most relevant features, reduce overfitting, improve accuracy, and reduce training time.\n",
    "\n",
    "We will use a **Tree-Based Model** to rank the importance of each feature."
   ]
  },
  {
   "cell_type": "code",
   "execution_count": 23,
   "metadata": {},
   "outputs": [],
   "source": [
    "from sklearn.model_selection import train_test_split\n",
    "from sklearn.ensemble import RandomForestClassifier\n",
    "import matplotlib.pyplot as plt\n",
    "import numpy as np\n",
    "\n",
    "# Assuming df is the DataFrame with features and target variable\n",
    "# Separate features and target\n",
    "X = df.drop(columns=['datetime', 'target'])\n",
    "y = df['target']\n",
    "\n",
    "# Split the data into training and test sets\n",
    "X_train, X_test, y_train, y_test = train_test_split(X, y, test_size=0.3, random_state=random_state)\n",
    "\n",
    "# Initialize and train the model\n",
    "clf = RandomForestClassifier(random_state=random_state)\n",
    "clf.fit(X_train, y_train)\n",
    "\n",
    "# Get feature importances\n",
    "feature_importances = clf.feature_importances_\n",
    "\n",
    "# Sort feature importances in descending order and get the indices\n",
    "indices = np.argsort(feature_importances)[::-1]\n",
    "\n",
    "# Rearrange feature names so they match the sorted feature importances\n",
    "feature_names = [X.columns[i] for i in indices]\n",
    "\n"
   ]
  },
  {
   "cell_type": "code",
   "execution_count": 24,
   "metadata": {},
   "outputs": [
    {
     "data": {
      "image/png": "[encoded data removed]",
      "text/plain": [
       "<Figure size 3000x700 with 1 Axes>"
      ]
     },
     "metadata": {},
     "output_type": "display_data"
    },
    {
     "name": "stdout",
     "output_type": "stream",
     "text": [
      "Total features: 257\n",
      "Top 25 important features:  ['price_atr_200', 'price_atr_100', 'low_var_200', 'price_atr_48', 'price_atr_24', 'close_var_200', 'close_var_24', 'high_var_200', 'price_atr_12', 'volume_trix_100', 'price_atr_4', 'price_adx_100', 'high_var_24', 'volume_var_200', 'volume_trix_200', 'low', 'open', 'volume_var_100', 'high', 'close_sd_200', 'price_adx_200', 'volume_var_48', 'close', 'price_adx_48', 'high_sd_200']\n",
      "Least 25 important features:  ['low_rsi_24', 'close_roc_12', 'close_pct_12', 'high_ema_4', 'high_ema_100', 'low_rsi_48', 'high_roc_4', 'high_ema_24', 'close_ema_12', 'low_rsi_12', 'price_interact_4', 'high_pct_4', 'low_ema_100', 'close_ema_24', 'mfi_4', 'close_pct_4', 'close_roc_4', 'low_pct_4', 'high_rsi_12', 'high_ema_48', 'high_ema_12', 'close_lag1_12', 'low_ema_48', 'low_ema_12', 'low_ema_24']\n"
     ]
    }
   ],
   "source": [
    "# Create a plot\n",
    "plt.figure(figsize=(30, 7))\n",
    "\n",
    "# Create plot title\n",
    "plt.title(\"Feature Importance\")\n",
    "\n",
    "# Add bars for each feature, small font size to fit the features\n",
    "plt.bar(range(X.shape[1]), feature_importances[indices] )\n",
    "\n",
    "# Add feature names as x-axis labels\n",
    "plt.xticks(range(X.shape[1]), feature_names, rotation=90, fontsize = 8)\n",
    "\n",
    "# Show plot\n",
    "plt.show()\n",
    "\n",
    "# print total features\n",
    "print(f'Total features: {len(feature_names)}')\n",
    "\n",
    "# print most important 25 features\n",
    "print(\"Top 25 important features: \", feature_names[:25])\n",
    "\n",
    "# print least important 25 features\n",
    "print(\"Least 25 important features: \", feature_names[-25:])\n"
   ]
  },
  {
   "cell_type": "markdown",
   "metadata": {},
   "source": [
    "The feature importances give valuable insights into what the model views as the most and least predictive features. \n",
    "\n",
    "##### Interpretation\n",
    "\n",
    "1. **Price ATR (Average True Range)**: The top important features are different periods of 'price_atr', suggesting that the model finds the Average True Range of different timeframes quite significant in predicting the future price direction. ATR is often used as a volatility measure.\n",
    "\n",
    "2. **Variance (VAR)**: Variance for 'low', 'high', and 'close' prices for various periods like 200 and 24 are among the important features, suggesting that the model uses past price fluctuation as a strong signal.\n",
    "\n",
    "3. **ADX (Average Directional Movement Index)**: Features like 'price_adx_100' and 'price_adx_200' are also considered important by the model, possibly because ADX measures the strength of the trend.\n",
    "\n",
    "4. **TRIX**: Interestingly, 'volume_trix_100' and 'volume_trix_200' appear among the top features, suggesting that the model finds TRIX (a momentum oscillator) for volume crucial in making decisions.\n",
    "\n",
    "5. **Direct Price Features**: The model also considers features like 'low', 'open', 'high', and 'close' as important, suggesting the raw values themselves have significant predictive power.\n",
    "\n",
    "##### Least Important Features\n",
    "\n",
    "On the other end, \n",
    "- It seems like RSIs, EMAs, and ROCs for various periods and price types are among the least important features according to the model. \n",
    "- We might consider eliminating these from thr feature set for the sake of simplicity and computational efficiency\n",
    "\n",
    "##### Next Steps\n",
    "\n",
    "**Feature Reduction**: Consider dropping the least important features to reduce the complexity."
   ]
  },
  {
   "cell_type": "markdown",
   "metadata": {},
   "source": [
    "----"
   ]
  },
  {
   "cell_type": "markdown",
   "metadata": {},
   "source": [
    "### Experiment 2: Pre-process the data"
   ]
  },
  {
   "cell_type": "markdown",
   "metadata": {},
   "source": [
    "Pre-processing the data can often lead to better model performance.\n",
    "\n",
    "- First, calcualte baseline metrics for the model performance"
   ]
  },
  {
   "cell_type": "code",
   "execution_count": 25,
   "metadata": {},
   "outputs": [
    {
     "name": "stdout",
     "output_type": "stream",
     "text": [
      "Accuracy: 0.7605\n",
      "F1-Score: 0.7539\n",
      "Precision: 0.7725\n",
      "Recall: 0.7605\n"
     ]
    }
   ],
   "source": [
    "from sklearn.metrics import accuracy_score, f1_score, precision_score, recall_score, roc_auc_score\n",
    "\n",
    "# Predict labels for the test set\n",
    "y_pred = clf.predict(X_test)\n",
    "\n",
    "# Calculate metrics\n",
    "accuracy = accuracy_score(y_test, y_pred)\n",
    "f1 = f1_score(y_test, y_pred, average='weighted')  # Use weighted average if classes are imbalanced\n",
    "precision = precision_score(y_test, y_pred, average='weighted')\n",
    "recall = recall_score(y_test, y_pred, average='weighted')\n",
    "\n",
    "# Print metrics\n",
    "print(f\"Accuracy: {accuracy:0.4f}\")\n",
    "print(f\"F1-Score: {f1:0.4f}\")\n",
    "print(f\"Precision: {precision:0.4f}\")\n",
    "print(f\"Recall: {recall:0.4f}\")\n"
   ]
  },
  {
   "cell_type": "markdown",
   "metadata": {},
   "source": [
    "##### 1. Normalization / Standardization: \n",
    "\n",
    "Scale the features to have a mean of 0 and standard deviation of 1."
   ]
  },
  {
   "cell_type": "code",
   "execution_count": 29,
   "metadata": {},
   "outputs": [],
   "source": [
    "# Scale the data\n",
    "from sklearn.preprocessing import StandardScaler\n",
    "scaler = StandardScaler()\n",
    "X_train_scaled = scaler.fit_transform(X_train)\n",
    "X_test_scaled = scaler.transform(X_test)\n",
    "\n",
    "# Retrain the model on scaled data\n",
    "clf.fit(X_train_scaled, y_train)\n",
    "\n",
    "# Make predictions\n",
    "y_pred_new = clf.predict(X_test_scaled)\n",
    "\n",
    "# Compute metrics for the retrained model\n",
    "accuracy_new = accuracy_score(y_test, y_pred_new)\n",
    "f1_new = f1_score(y_test, y_pred_new, average='weighted')\n",
    "precision_new = precision_score(y_test, y_pred_new, average='weighted')\n",
    "recall_new = recall_score(y_test, y_pred_new, average='weighted')\n"
   ]
  },
  {
   "cell_type": "code",
   "execution_count": 37,
   "metadata": {},
   "outputs": [
    {
     "name": "stdout",
     "output_type": "stream",
     "text": [
      "New Accuracy: 0.7633, Baseline: 0.7605. Difference : 0.28 %\n",
      "New F1-Score: 0.7570411244964756, Baseline: 0.7539448267015957, Difference : 0.31 %\n",
      "New Precision: 0.7750994971328324, Baseline: 0.7725319101325274,  Difference : 0.26 %\n",
      "New Recall: 0.7632915173237754, Baseline: 0.7604540023894862, Difference : 0.28 %\n"
     ]
    }
   ],
   "source": [
    "# Compare new metrics with baseline\n",
    "print(f\"New Accuracy: {accuracy_new:0.4f}, Baseline: {accuracy:0.4f}. Difference : {(accuracy_new - accuracy)*100:0.2f} %\")\n",
    "print(f\"New F1-Score: {f1_new}, Baseline: {f1}, Difference : {(f1_new - f1)*100:0.2f} %\")\n",
    "print(f\"New Precision: {precision_new}, Baseline: {precision},  Difference : {(precision_new - precision)*100:0.2f} %\")\n",
    "print(f\"New Recall: {recall_new}, Baseline: {recall}, Difference : {(recall_new - recall)*100:0.2f} %\")"
   ]
  },
  {
   "cell_type": "markdown",
   "metadata": {},
   "source": [
    "##### 2. Handling Imbalanced Data\n",
    "\n",
    "Data imbalance is a common issue in classification tasks, and techniques like SMOTE can help address this by generating synthetic samples in the feature space. "
   ]
  },
  {
   "cell_type": "markdown",
   "metadata": {},
   "source": [
    "**SMOTE (Synthetic Minority Over-sampling Technique)**"
   ]
  },
  {
   "cell_type": "code",
   "execution_count": 39,
   "metadata": {},
   "outputs": [],
   "source": [
    "from imblearn.over_sampling import SMOTE\n",
    "\n",
    "sm = SMOTE(random_state=random_state)\n",
    "X_train_res, y_train_res = sm.fit_resample(X_train_scaled, y_train)\n"
   ]
  },
  {
   "cell_type": "code",
   "execution_count": 42,
   "metadata": {},
   "outputs": [],
   "source": [
    "# Retrain the model on smote data\n",
    "clf.fit(X_train_res, y_train_res)\n",
    "\n",
    "# Make predictions\n",
    "y_pred_new = clf.predict(X_test_scaled)\n",
    "\n",
    "# Compute metrics for the retrained model\n",
    "accuracy_new = accuracy_score(y_test, y_pred_new)\n",
    "f1_new = f1_score(y_test, y_pred_new, average='weighted')\n",
    "precision_new = precision_score(y_test, y_pred_new, average='weighted')\n",
    "recall_new = recall_score(y_test, y_pred_new, average='weighted')"
   ]
  },
  {
   "cell_type": "code",
   "execution_count": 43,
   "metadata": {},
   "outputs": [
    {
     "name": "stdout",
     "output_type": "stream",
     "text": [
      "New Accuracy: 0.7852, Baseline: 0.7605. Difference : 2.48 %\n",
      "New F1-Score: 0.7851594875329512, Baseline: 0.7539448267015957, Difference : 3.12 %\n",
      "New Precision: 0.7850933073529637, Baseline: 0.7725319101325274,  Difference : 1.26 %\n",
      "New Recall: 0.7852449223416965, Baseline: 0.7604540023894862, Difference : 2.48 %\n"
     ]
    }
   ],
   "source": [
    "# Compare new metrics with baseline\n",
    "print(f\"New Accuracy: {accuracy_new:0.4f}, Baseline: {accuracy:0.4f}. Difference : {(accuracy_new - accuracy)*100:0.2f} %\")\n",
    "print(f\"New F1-Score: {f1_new}, Baseline: {f1}, Difference : {(f1_new - f1)*100:0.2f} %\")\n",
    "print(f\"New Precision: {precision_new}, Baseline: {precision},  Difference : {(precision_new - precision)*100:0.2f} %\")\n",
    "print(f\"New Recall: {recall_new}, Baseline: {recall}, Difference : {(recall_new - recall)*100:0.2f} %\")"
   ]
  },
  {
   "cell_type": "markdown",
   "metadata": {},
   "source": [
    "**ADASYN (Adaptive Synthetic Sampling)**\n",
    "\n",
    "Similar to SMOTE but generates samples based on the density of the minority class."
   ]
  },
  {
   "cell_type": "code",
   "execution_count": 44,
   "metadata": {},
   "outputs": [],
   "source": [
    "from imblearn.over_sampling import ADASYN\n",
    "\n",
    "ada = ADASYN(random_state=random_state)\n",
    "X_train_res, y_train_res = ada.fit_resample(X_train_scaled, y_train)\n"
   ]
  },
  {
   "cell_type": "code",
   "execution_count": 45,
   "metadata": {},
   "outputs": [],
   "source": [
    "# Retrain the model on smote data\n",
    "clf.fit(X_train_res, y_train_res)\n",
    "\n",
    "# Make predictions\n",
    "y_pred_new = clf.predict(X_test_scaled)\n",
    "\n",
    "# Compute metrics for the retrained model\n",
    "accuracy_new = accuracy_score(y_test, y_pred_new)\n",
    "f1_new = f1_score(y_test, y_pred_new, average='weighted')\n",
    "precision_new = precision_score(y_test, y_pred_new, average='weighted')\n",
    "recall_new = recall_score(y_test, y_pred_new, average='weighted')"
   ]
  },
  {
   "cell_type": "code",
   "execution_count": 46,
   "metadata": {},
   "outputs": [
    {
     "name": "stdout",
     "output_type": "stream",
     "text": [
      "New Accuracy: 0.7766, Baseline: 0.7605. Difference : 1.61 %\n",
      "New F1-Score: 0.7769090779472217, Baseline: 0.7539448267015957, Difference : 2.30 %\n",
      "New Precision: 0.7778315907753625, Baseline: 0.7725319101325274,  Difference : 0.53 %\n",
      "New Recall: 0.7765830346475507, Baseline: 0.7604540023894862, Difference : 1.61 %\n"
     ]
    }
   ],
   "source": [
    "# Compare new metrics with baseline\n",
    "print(f\"New Accuracy: {accuracy_new:0.4f}, Baseline: {accuracy:0.4f}. Difference : {(accuracy_new - accuracy)*100:0.2f} %\")\n",
    "print(f\"New F1-Score: {f1_new}, Baseline: {f1}, Difference : {(f1_new - f1)*100:0.2f} %\")\n",
    "print(f\"New Precision: {precision_new}, Baseline: {precision},  Difference : {(precision_new - precision)*100:0.2f} %\")\n",
    "print(f\"New Recall: {recall_new}, Baseline: {recall}, Difference : {(recall_new - recall)*100:0.2f} %\")"
   ]
  },
  {
   "cell_type": "markdown",
   "metadata": {},
   "source": [
    "The results after applying SMOTE and ADASYN for handling imbalanced data show a clear improvement over the baseline in all metrics.\n",
    "\n",
    "##### Observations:\n",
    "\n",
    "- Both SMOTE and ADASYN improved the model's performance compared to the baseline across all metrics.\n",
    "- SMOTE had a greater positive impact on F1-score and Accuracy compared to ADASYN.\n",
    "- In Precision, SMOTE also outperformed ADASYN, albeit by a smaller margin.\n",
    "- The improvements in Recall were fairly close for both SMOTE and ADASYN.\n",
    "\n",
    "Based on these results, we proceed with the model trained using the **SMOTE** technique, as it shows the most substantial improvement in metrics across the board.\n",
    "\n",
    "Note:\n",
    "- Over-sampling techniques like SMOTE and ADASYN could potentially lead to overfitting\n"
   ]
  },
  {
   "cell_type": "markdown",
   "metadata": {},
   "source": [
    "##### 3. Feature Decomposition:\n",
    "\n",
    "PCA (Principal Component Analysis) is a popular technique for reducing the number of features by projecting them onto a lower-dimensional space."
   ]
  },
  {
   "cell_type": "code",
   "execution_count": 54,
   "metadata": {},
   "outputs": [],
   "source": [
    "# Apply SMOTE\n",
    "X_train_res, y_train_res = sm.fit_resample(X_train_scaled, y_train)"
   ]
  },
  {
   "cell_type": "code",
   "execution_count": 64,
   "metadata": {},
   "outputs": [],
   "source": [
    "from sklearn.decomposition import PCA\n",
    "\n",
    "pca = PCA(n_components=0.80)\n",
    "X_train_pca = pca.fit_transform(X_train_res)\n",
    "X_test_pca = pca.transform(X_test_scaled)\n"
   ]
  },
  {
   "cell_type": "code",
   "execution_count": 65,
   "metadata": {},
   "outputs": [],
   "source": [
    "# Retrain the model on smote data\n",
    "clf.fit(X_train_pca, y_train_res)\n",
    "\n",
    "# Make predictions\n",
    "y_pred_new = clf.predict(X_test_pca)\n",
    "\n",
    "# Compute metrics for the retrained model\n",
    "accuracy_new = accuracy_score(y_test, y_pred_new)\n",
    "f1_new = f1_score(y_test, y_pred_new, average='weighted')\n",
    "precision_new = precision_score(y_test, y_pred_new, average='weighted')\n",
    "recall_new = recall_score(y_test, y_pred_new, average='weighted')"
   ]
  },
  {
   "cell_type": "code",
   "execution_count": 66,
   "metadata": {},
   "outputs": [
    {
     "name": "stdout",
     "output_type": "stream",
     "text": [
      "New Accuracy: 0.6456, Baseline: 0.7605. Difference : -11.48 %\n",
      "New F1-Score: 0.645180521410249, Baseline: 0.7539448267015957, Difference : -10.88 %\n",
      "New Precision: 0.6447899935336835, Baseline: 0.7725319101325274,  Difference : -12.77 %\n",
      "New Recall: 0.6456093189964157, Baseline: 0.7604540023894862, Difference : -11.48 %\n"
     ]
    }
   ],
   "source": [
    "# Compare new metrics with baseline\n",
    "print(f\"New Accuracy: {accuracy_new:0.4f}, Baseline: {accuracy:0.4f}. Difference : {(accuracy_new - accuracy)*100:0.2f} %\")\n",
    "print(f\"New F1-Score: {f1_new}, Baseline: {f1}, Difference : {(f1_new - f1)*100:0.2f} %\")\n",
    "print(f\"New Precision: {precision_new}, Baseline: {precision},  Difference : {(precision_new - precision)*100:0.2f} %\")\n",
    "print(f\"New Recall: {recall_new}, Baseline: {recall}, Difference : {(recall_new - recall)*100:0.2f} %\")"
   ]
  },
  {
   "cell_type": "markdown",
   "metadata": {},
   "source": [
    "PCA seems to have led to a decrease in performance across all evaluation metrics:\n",
    "\n",
    "##### Observations:\n",
    "\n",
    "- All performance metrics have deteriorated compared to the baseline model.\n",
    "- The most significant drop occurred in Precision, followed by Accuracy, Recall, and F1-Score."
   ]
  },
  {
   "cell_type": "markdown",
   "metadata": {},
   "source": [
    "----"
   ]
  },
  {
   "cell_type": "markdown",
   "metadata": {},
   "source": [
    "### Experiment 3: Test alternative models"
   ]
  },
  {
   "cell_type": "markdown",
   "metadata": {},
   "source": [
    "We will compare multiple classifiers against baseline RandomForest model, we will create a pipeline that will loop through various classifiers and evaluate them based on their **accuracy**."
   ]
  },
  {
   "cell_type": "markdown",
   "metadata": {},
   "source": [
    "##### Rewrite baseline model\n",
    "\n",
    "We will include scaling and SMOTE in pipeline. However, we will not include PCA in the pipeline since it didn't yield favorable results in the previous experiment."
   ]
  },
  {
   "cell_type": "code",
   "execution_count": 8,
   "metadata": {},
   "outputs": [],
   "source": [
    "## Rewrite latest model as baseline\n",
    "\n",
    "from sklearn.model_selection import train_test_split\n",
    "from sklearn.ensemble import RandomForestClassifier\n",
    "import matplotlib.pyplot as plt\n",
    "import numpy as np\n",
    "from sklearn.preprocessing import StandardScaler\n",
    "from imblearn.over_sampling import SMOTE\n",
    "\n",
    "random_state = 55\n",
    "\n",
    "# Separate features and target\n",
    "X = df.drop(columns=['datetime', 'target'])\n",
    "y = df['target']\n",
    "\n",
    "# Split the data into training and test sets\n",
    "X_train, X_test, y_train, y_test = train_test_split(X, y, test_size=0.3, random_state=random_state)\n",
    "\n",
    "# Scale the data\n",
    "scaler = StandardScaler()\n",
    "X_train_scaled = scaler.fit_transform(X_train)\n",
    "X_test_scaled = scaler.transform(X_test)\n",
    "\n",
    "# Apply SMOTE\n",
    "sm = SMOTE(random_state=random_state)\n",
    "X_train_res, y_train_res = sm.fit_resample(X_train_scaled, y_train)"
   ]
  },
  {
   "cell_type": "code",
   "execution_count": 9,
   "metadata": {},
   "outputs": [
    {
     "name": "stdout",
     "output_type": "stream",
     "text": [
      "Accuracy: 0.7851\n",
      "F1-Score: 0.7850\n",
      "Precision: 0.7850\n",
      "Recall: 0.7851\n"
     ]
    }
   ],
   "source": [
    "from sklearn.metrics import accuracy_score, f1_score, precision_score, recall_score\n",
    "\n",
    "# Initialize and train the model\n",
    "clf = RandomForestClassifier(random_state=random_state)\n",
    "clf.fit(X_train_res, y_train_res)\n",
    "\n",
    "# Predict labels for the test set\n",
    "y_pred = clf.predict(X_test_scaled)\n",
    "\n",
    "# Calculate metrics\n",
    "accuracy = accuracy_score(y_test, y_pred)\n",
    "f1 = f1_score(y_test, y_pred, average='weighted')  # Use weighted average if classes are imbalanced\n",
    "precision = precision_score(y_test, y_pred, average='weighted')\n",
    "recall = recall_score(y_test, y_pred, average='weighted')\n",
    "\n",
    "# Print metrics\n",
    "print(f\"Accuracy: {accuracy:0.4f}\")\n",
    "print(f\"F1-Score: {f1:0.4f}\")\n",
    "print(f\"Precision: {precision:0.4f}\")\n",
    "print(f\"Recall: {recall:0.4f}\")"
   ]
  },
  {
   "cell_type": "markdown",
   "metadata": {},
   "source": [
    "Import the following classifiers and necessary modules:"
   ]
  },
  {
   "cell_type": "code",
   "execution_count": 38,
   "metadata": {},
   "outputs": [],
   "source": [
    "from sklearn.linear_model import LogisticRegression\n",
    "from sklearn.svm import SVC\n",
    "from sklearn.tree import DecisionTreeClassifier\n",
    "from sklearn.neighbors import KNeighborsClassifier\n",
    "from sklearn.naive_bayes import GaussianNB\n",
    "from sklearn.ensemble import RandomForestClassifier, AdaBoostClassifier, GradientBoostingClassifier, StackingClassifier\n",
    "import lightgbm as lgb\n",
    "\n",
    "from sklearn.metrics import accuracy_score\n",
    "from sklearn.pipeline import Pipeline\n",
    "from sklearn.model_selection import cross_val_score"
   ]
  },
  {
   "cell_type": "markdown",
   "metadata": {},
   "source": [
    "We will include cross-validation into model comparison pipeline to get a more robust estimate of each model's performance."
   ]
  },
  {
   "cell_type": "code",
   "execution_count": 43,
   "metadata": {},
   "outputs": [
    {
     "name": "stdout",
     "output_type": "stream",
     "text": [
      "Random Forest (Baseline): Mean Accuracy: 0.8854, Standard Deviation: 0.0212 - Duration: 0.19 minutes\n",
      "Logistic Regression: Mean Accuracy: 0.5011, Standard Deviation: 0.0121 - Duration: 1.18 minutes\n",
      "SVM linear: Mean Accuracy: 0.5067, Standard Deviation: 0.0115 - Duration: 18.25 minutes\n",
      "SVM rbf: Mean Accuracy: 0.6423, Standard Deviation: 0.0228 - Duration: 3.79 minutes\n",
      "Decision Tree: Mean Accuracy: 0.7416, Standard Deviation: 0.0304 - Duration: 0.59 minutes\n",
      "K-Nearest Neighbors: Mean Accuracy: 0.8103, Standard Deviation: 0.0309 - Duration: 0.03 minutes\n",
      "Naive Bayes: Mean Accuracy: 0.3964, Standard Deviation: 0.0069 - Duration: 0.00 minutes\n",
      "Gradient Boosting: Mean Accuracy: 0.6313, Standard Deviation: 0.0317 - Duration: 36.72 minutes\n",
      "AdaBoost: Mean Accuracy: 0.4881, Standard Deviation: 0.0218 - Duration: 2.31 minutes\n",
      "LightGBM: Mean Accuracy: 0.8026, Standard Deviation: 0.0413 - Duration: 0.11 minutes\n"
     ]
    },
    {
     "data": {
      "image/png": "[encoded data removed]",
      "text/plain": [
       "<Figure size 1500x600 with 1 Axes>"
      ]
     },
     "metadata": {},
     "output_type": "display_data"
    }
   ],
   "source": [
    "import time\n",
    "\n",
    "# Define classifiers to test\n",
    "classifiers = {\n",
    "    \"Random Forest (Baseline)\": RandomForestClassifier(random_state=random_state, n_jobs=-1),\n",
    "    \"Logistic Regression\": LogisticRegression(random_state=random_state, solver='lbfgs', max_iter=10000, n_jobs=-1),\n",
    "    \"SVM linear\": SVC(kernel='linear', random_state=random_state),\n",
    "    \"SVM rbf\": SVC(kernel='rbf', random_state=random_state),\n",
    "    \"Decision Tree\": DecisionTreeClassifier(random_state=random_state),\n",
    "    \"K-Nearest Neighbors\": KNeighborsClassifier(n_jobs=-1),\n",
    "    \"Naive Bayes\": GaussianNB(),\n",
    "    \"Gradient Boosting\": GradientBoostingClassifier(random_state=random_state),\n",
    "    \"AdaBoost\": AdaBoostClassifier(random_state=random_state),\n",
    "    'LightGBM': lgb.LGBMClassifier(random_state=random_state, n_jobs=-1, verbose=-1),\n",
    "}\n",
    "\n",
    "# Initialize an empty dictionary to store the results\n",
    "results = {}\n",
    "\n",
    "# Loop through classifiers\n",
    "for name, clf in classifiers.items():\n",
    "    # Calculate execute start time\n",
    "    start = time.time()\n",
    "\n",
    "    # Define pipeline\n",
    "    pipeline = Pipeline([\n",
    "        ('model', clf)\n",
    "    ])\n",
    "    \n",
    "    # Perform 5-fold cross-validation\n",
    "    scores = cross_val_score(pipeline, X_train_res, y_train_res, scoring='accuracy', cv=5)\n",
    "    \n",
    "    # Store mean and standard deviation of scores\n",
    "    results[name] = (scores.mean(), scores.std())\n",
    "\n",
    "    # Calculate execute duration\n",
    "    duration = time.time() - start\n",
    "    \n",
    "    # Print results\n",
    "    print(f\"{name}: Mean Accuracy: {scores.mean():.4f}, Standard Deviation: {scores.std():.4f} - Duration: {duration/60:.2f} minutes\")\n",
    "\n",
    "# Optionally, plot the results\n",
    "names = list(results.keys())\n",
    "values = [x[0] for x in results.values()]  # Extract the mean accuracy values\n",
    "\n",
    "plt.figure(figsize=(15, 6))\n",
    "plt.barh(names, values, color='skyblue')\n",
    "plt.xlabel('Mean Accuracy')\n",
    "plt.title('Comparison of Classifiers with Cross-Validation')\n",
    "plt.show()\n"
   ]
  },
  {
   "cell_type": "markdown",
   "metadata": {},
   "source": [
    "We select the models sorted by mean accuracy (above 70%) and reasonable training time.\n",
    "\n",
    "1. **Random Forest (Baseline)**: 88.54% accuracy, with a standard deviation of 0.0212, and a duration of 0.19 minutes.\n",
    "2. **K-Nearest Neighbors**: 81.03% accuracy, with a standard deviation of 0.0309, and a duration of 0.03 minutes.\n",
    "3. **LightGBM**: 80.26% accuracy, with a standard deviation of 0.0413, and a duration of 0.11 minutes.\n",
    "4. **Decision Tree**: 74.16% accuracy, with a standard deviation of 0.0304, and a duration of 0.59 minutes.\n",
    "\n",
    "\n",
    "##### Next step: Ensemble Methods\n",
    "\n",
    "Using these ensemble methods, we could potentially increase the predictive power by combining the strengths of the top-performing individual classifiers."
   ]
  },
  {
   "cell_type": "markdown",
   "metadata": {},
   "source": [
    "----"
   ]
  },
  {
   "cell_type": "markdown",
   "metadata": {},
   "source": [
    "### Experiment 4: Ensemble Methods"
   ]
  },
  {
   "cell_type": "markdown",
   "metadata": {},
   "source": [
    "We focus on using ensemble methods to combine the predictions of multiple models especially Bagging and Stacking. However, they work best under different conditions and serve different purposes.\n",
    "\n",
    "##### Bagging:\n",
    "- **Strengths**: It can reduce overfitting by creating an ensemble of parallel models.\n",
    "- **Weaknesses**: All base models are of the same type and are trained on different subsets of the training data.\n",
    "- **Use Case**: Effective when the base model has high variance (like Decision Trees). Bagging can help reduce overfitting and variance by averaging predictions.\n",
    "  \n",
    "##### Stacking:\n",
    "- **Strengths**: Can capture complex patterns by combining predictions from diverse model types, improving the model's performance.\n",
    "- **Weaknesses**: More computationally expensive and can be prone to overfitting if not carefully tuned.\n",
    "- **Use Case**: Effective for models with complementary strengths and weaknesses.\n",
    "\n",
    "##### Implementation\n",
    "- **For Bagging:** We will use the **RandomForestClassifier** and **Decision Tree** as the base model.\n",
    "- **For Stacking:** We will use the **K-Nearest Neighbors**, **LightGBM** and new 2 Bagging models as the base model."
   ]
  },
  {
   "cell_type": "code",
   "execution_count": 19,
   "metadata": {},
   "outputs": [],
   "source": [
    "## Rewrite latest model as baseline\n",
    "\n",
    "from sklearn.model_selection import train_test_split\n",
    "import numpy as np\n",
    "from sklearn.preprocessing import StandardScaler\n",
    "from imblearn.over_sampling import SMOTE\n",
    "\n",
    "random_state = 55\n",
    "\n",
    "# Separate features and target\n",
    "X = df.drop(columns=['datetime', 'target'])\n",
    "y = df['target']\n",
    "\n",
    "# Split the data into training and test sets\n",
    "X_train, X_test, y_train, y_test = train_test_split(X, y, test_size=0.3, random_state=random_state)\n",
    "\n",
    "# Scale the data\n",
    "scaler = StandardScaler()\n",
    "X_train_scaled = scaler.fit_transform(X_train)\n",
    "X_test_scaled = scaler.transform(X_test)\n",
    "\n",
    "# Apply SMOTE\n",
    "sm = SMOTE(random_state=random_state)\n",
    "X_train_res, y_train_res = sm.fit_resample(X_train_scaled, y_train)"
   ]
  },
  {
   "cell_type": "code",
   "execution_count": 20,
   "metadata": {},
   "outputs": [],
   "source": [
    "from sklearn.ensemble import RandomForestClassifier, BaggingClassifier, StackingClassifier, VotingClassifier\n",
    "from sklearn.tree import DecisionTreeClassifier\n",
    "from sklearn.neighbors import KNeighborsClassifier\n",
    "import lightgbm as lgb\n",
    "from sklearn.model_selection import cross_val_score\n"
   ]
  },
  {
   "cell_type": "markdown",
   "metadata": {},
   "source": [
    "##### Bagging with RandomForest and DecisionTree"
   ]
  },
  {
   "cell_type": "code",
   "execution_count": 8,
   "metadata": {},
   "outputs": [
    {
     "name": "stdout",
     "output_type": "stream",
     "text": [
      "Bagging with Random Forest: Mean Accuracy: 0.8677, Standard Deviation: 0.0224\n"
     ]
    }
   ],
   "source": [
    "# Initialize Bagging with RandomForest\n",
    "bagging_rf = BaggingClassifier(estimator=RandomForestClassifier(random_state=random_state, n_jobs=-1), \n",
    "                               n_estimators=10, random_state=random_state, n_jobs=-1)\n",
    "bagging_rf_scores = cross_val_score(bagging_rf, X_train_res, y_train_res, cv=5)\n",
    "\n",
    "print(f\"Bagging with Random Forest: Mean Accuracy: {bagging_rf_scores.mean():.4f}, Standard Deviation: {bagging_rf_scores.std():.4f}\")\n"
   ]
  },
  {
   "cell_type": "code",
   "execution_count": 11,
   "metadata": {},
   "outputs": [
    {
     "name": "stdout",
     "output_type": "stream",
     "text": [
      "Bagging with Decision Tree: Mean Accuracy: 0.8297, Standard Deviation: 0.0235\n"
     ]
    }
   ],
   "source": [
    "# Initialize Bagging with DecisionTree\n",
    "bagging_dt = BaggingClassifier(estimator=DecisionTreeClassifier(random_state=random_state), \n",
    "                               n_estimators=10, random_state=random_state, n_jobs=-1)\n",
    "bagging_dt_scores = cross_val_score(bagging_dt, X_train_res, y_train_res, cv=5)\n",
    "\n",
    "print(f\"Bagging with Decision Tree: Mean Accuracy: {bagging_dt_scores.mean():.4f}, Standard Deviation: {bagging_dt_scores.std():.4f}\")"
   ]
  },
  {
   "cell_type": "markdown",
   "metadata": {},
   "source": [
    "##### Stacking with K-Nearest Neighbors, LightGBM, and Bagging models"
   ]
  },
  {
   "cell_type": "code",
   "execution_count": 13,
   "metadata": {},
   "outputs": [
    {
     "name": "stdout",
     "output_type": "stream",
     "text": [
      "Stacking with Random Forest: Mean Accuracy: 0.8799, Standard Deviation: 0.0286\n"
     ]
    }
   ],
   "source": [
    "# Define the base models\n",
    "base_estimators = [\n",
    "                 ('knn', KNeighborsClassifier(n_jobs=-1)),\n",
    "                 ('lgbm', lgb.LGBMClassifier(random_state=random_state, n_jobs=-1, verbose=-1)),\n",
    "                 ('bagging_rf', bagging_rf),\n",
    "                 ('bagging_dt', bagging_dt)\n",
    "                ]\n",
    "\n",
    "# Initialize the Stacking Classifier with a Random Forest Regressor as the final estimator\n",
    "stacking_rf = StackingClassifier(estimators=base_estimators, final_estimator=RandomForestClassifier(random_state=random_state, n_jobs=-1))\n",
    "\n",
    "# Evaluate the Stacking Classifier\n",
    "stacking_rf_scores = cross_val_score(stacking_rf, X_train_res, y_train_res, cv=5)\n",
    "\n",
    "print(f\"Stacking with Random Forest: Mean Accuracy: {stacking_rf_scores.mean():.4f}, Standard Deviation: {stacking_rf_scores.std():.4f}\")\n"
   ]
  },
  {
   "cell_type": "code",
   "execution_count": 21,
   "metadata": {},
   "outputs": [
    {
     "name": "stdout",
     "output_type": "stream",
     "text": [
      "Stacking with Logistic Regression: Mean Accuracy: 0.8822, Standard Deviation: 0.0268\n"
     ]
    }
   ],
   "source": [
    "from sklearn.linear_model import LogisticRegression\n",
    "\n",
    "# Initialize the Stacking Classifier with a logistic regression as the final estimator\n",
    "stacking_lr = StackingClassifier(estimators=base_estimators, final_estimator=LogisticRegression(max_iter=10000), n_jobs=-1)\n",
    "\n",
    "# Evaluate the Stacking Classifier\n",
    "stacking_lr_scores = cross_val_score(stacking_lr, X_train_res, y_train_res, cv=5)\n",
    "\n",
    "print(f\"Stacking with Logistic Regression: Mean Accuracy: {stacking_lr_scores.mean():.4f}, Standard Deviation: {stacking_lr_scores.std():.4f}\")\n"
   ]
  },
  {
   "cell_type": "code",
   "execution_count": 24,
   "metadata": {},
   "outputs": [
    {
     "name": "stdout",
     "output_type": "stream",
     "text": [
      "Stacking with Decision Tree: Mean Accuracy: 0.8253, Standard Deviation: 0.0235\n"
     ]
    }
   ],
   "source": [
    "# Initialize the Stacking Classifier with a Decision Tree as the final estimator\n",
    "stacking_dt = StackingClassifier(estimators=base_estimators, final_estimator=DecisionTreeClassifier(random_state=random_state), n_jobs=-1)\n",
    "\n",
    "# Evaluate the Stacking Classifier\n",
    "stacking_dt_scores = cross_val_score(stacking_dt, X_train_res, y_train_res, cv=5)\n",
    "\n",
    "print(f\"Stacking with Decision Tree: Mean Accuracy: {stacking_dt_scores.mean():.4f}, Standard Deviation: {stacking_dt_scores.std():.4f}\")"
   ]
  },
  {
   "cell_type": "code",
   "execution_count": 22,
   "metadata": {},
   "outputs": [
    {
     "name": "stdout",
     "output_type": "stream",
     "text": [
      "Voting Soft Classifier: Mean Accuracy: 0.8651, Standard Deviation: 0.0241\n"
     ]
    }
   ],
   "source": [
    "# Initialize the Voting soft Classifier\n",
    "voting_soft = VotingClassifier(estimators=base_estimators, voting='soft', n_jobs=-1)\n",
    "\n",
    "# Evaluate the Voting Classifier\n",
    "voting_soft_scores = cross_val_score(voting_soft, X_train_res, y_train_res, cv=5)\n",
    "\n",
    "print(f\"Voting Soft Classifier: Mean Accuracy: {voting_soft_scores.mean():.4f}, Standard Deviation: {voting_soft_scores.std():.4f}\")"
   ]
  },
  {
   "cell_type": "code",
   "execution_count": 23,
   "metadata": {},
   "outputs": [
    {
     "name": "stdout",
     "output_type": "stream",
     "text": [
      "Voting Hard Classifier: Mean Accuracy: 0.8571, Standard Deviation: 0.0252\n"
     ]
    }
   ],
   "source": [
    "# Initialize the Voting hard Classifier\n",
    "voting_hard = VotingClassifier(estimators=base_estimators, voting='hard', n_jobs=-1)\n",
    "\n",
    "# Evaluate the Voting Classifier\n",
    "voting_hard_scores = cross_val_score(voting_hard, X_train_res, y_train_res, cv=5)\n",
    "\n",
    "print(f\"Voting Hard Classifier: Mean Accuracy: {voting_hard_scores.mean():.4f}, Standard Deviation: {voting_hard_scores.std():.4f}\")"
   ]
  },
  {
   "cell_type": "markdown",
   "metadata": {},
   "source": [
    "##### Observations:\n",
    "\n",
    "The **Stacking with Logistic Regression** method yields the highest mean accuracy of 0.8822 with a standard deviation of 0.0286. It seems to be benefiting from the combined strengths of its base classifiers, as it outperforms each one individually.\n",
    "\n",
    "##### Next Steps:\n",
    "- Build final model using Stacking with Logistic Regression\n",
    "- Test the model with unseen data\n",
    "- Tune the hyperparameters of the model to improve its performance further\n"
   ]
  },
  {
   "cell_type": "markdown",
   "metadata": {},
   "source": [
    "----"
   ]
  },
  {
   "cell_type": "markdown",
   "metadata": {},
   "source": [
    "### Experiment 5: Test final model"
   ]
  },
  {
   "cell_type": "markdown",
   "metadata": {},
   "source": [
    "##### Load data and features"
   ]
  },
  {
   "cell_type": "code",
   "execution_count": 5,
   "metadata": {},
   "outputs": [],
   "source": [
    "df = get_features_target_next_close()"
   ]
  },
  {
   "cell_type": "markdown",
   "metadata": {},
   "source": [
    "Load modules"
   ]
  },
  {
   "cell_type": "code",
   "execution_count": 6,
   "metadata": {},
   "outputs": [],
   "source": [
    "from sklearn.ensemble import RandomForestClassifier, StackingClassifier, BaggingClassifier\n",
    "from sklearn.neighbors import KNeighborsClassifier\n",
    "from sklearn.tree import DecisionTreeClassifier\n",
    "import lightgbm as lgb\n",
    "from sklearn.model_selection import train_test_split\n",
    "from sklearn.preprocessing import StandardScaler\n",
    "from imblearn.over_sampling import SMOTE\n",
    "from sklearn.linear_model import LogisticRegression"
   ]
  },
  {
   "cell_type": "code",
   "execution_count": 7,
   "metadata": {},
   "outputs": [],
   "source": [
    "# Random state for reproducibility\n",
    "random_state = 55\n",
    "\n",
    "# Separate features and target\n",
    "X = df.drop(columns=['datetime', 'target'])\n",
    "y = df['target']\n",
    "\n",
    "# Data Preprocessing: Splitting and Scaling\n",
    "X_train, X_test, y_train, y_test = train_test_split(X, y, test_size=0.3, random_state=random_state)\n",
    "\n",
    "scaler = StandardScaler()\n",
    "X_train_scaled = scaler.fit_transform(X_train)\n",
    "X_test_scaled = scaler.transform(X_test)\n",
    "\n",
    "# Data Augmentation: SMOTE for imbalance handling\n",
    "sm = SMOTE(random_state=random_state)\n",
    "X_train_res, y_train_res = sm.fit_resample(X_train_scaled, y_train)"
   ]
  },
  {
   "cell_type": "code",
   "execution_count": 8,
   "metadata": {},
   "outputs": [],
   "source": [
    "# Initialize Bagging Classifiers\n",
    "\n",
    "bagging_rf = BaggingClassifier(estimator=RandomForestClassifier(random_state=random_state, n_jobs=-1),\n",
    "                               n_estimators=10, random_state=random_state, n_jobs=-1)\n",
    "\n",
    "bagging_dt = BaggingClassifier(estimator=DecisionTreeClassifier(random_state=random_state),\n",
    "                               n_estimators=10, random_state=random_state, n_jobs=-1)\n",
    "\n",
    "# Initialize base estimators for stacking\n",
    "base_estimators = [\n",
    "    ('knn', KNeighborsClassifier(n_jobs=-1)),\n",
    "    ('lgbm', lgb.LGBMClassifier(random_state=random_state, n_jobs=-1, verbose=-1)),\n",
    "    ('bagging_rf', bagging_rf),\n",
    "    ('bagging_dt', bagging_dt),\n",
    "    \n",
    "]\n",
    "\n",
    "# Initialize the final Stacking Classifier with Logistic Regression as the final estimator\n",
    "model = StackingClassifier(estimators=base_estimators, final_estimator=LogisticRegression(max_iter=10000), n_jobs=-1)\n",
    "\n",
    "# Train the final Stacking model\n",
    "model.fit(X_train_res, y_train_res)\n",
    "\n",
    "# You can evaluate the model on the test set\n",
    "y_pred = model.predict(X_test_scaled)"
   ]
  },
  {
   "cell_type": "markdown",
   "metadata": {},
   "source": [
    "Evaluate the model"
   ]
  },
  {
   "cell_type": "code",
   "execution_count": 9,
   "metadata": {},
   "outputs": [
    {
     "name": "stdout",
     "output_type": "stream",
     "text": [
      "\n",
      "Classification Report:\n",
      "               precision    recall  f1-score   support\n",
      "\n",
      "          -1       0.78      0.70      0.74      1601\n",
      "           0       0.78      0.83      0.80      3538\n",
      "           1       0.77      0.74      0.76      1557\n",
      "\n",
      "    accuracy                           0.78      6696\n",
      "   macro avg       0.78      0.76      0.77      6696\n",
      "weighted avg       0.78      0.78      0.78      6696\n",
      "\n"
     ]
    },
    {
     "data": {
      "image/png": "[encoded data removed]",
      "text/plain": [
       "<Figure size 800x600 with 2 Axes>"
      ]
     },
     "metadata": {},
     "output_type": "display_data"
    }
   ],
   "source": [
    "import matplotlib.pyplot as plt\n",
    "import seaborn as sns\n",
    "from sklearn.metrics import confusion_matrix\n",
    "\n",
    "# Confusion report\n",
    "from sklearn.metrics import classification_report\n",
    "print(\"\\nClassification Report:\\n\", classification_report(y_test, y_pred))\n",
    "\n",
    "# 1. Confusion Matrix\n",
    "conf_matrix = confusion_matrix(y_test, y_pred)\n",
    "# print(conf_matrix)\n",
    "\n",
    "plt.figure(figsize=(8, 6))\n",
    "sns.heatmap(conf_matrix, annot=True, fmt='g', cmap='Blues', \n",
    "            xticklabels=['-1', '0', '+1'], \n",
    "            yticklabels=['-1', '0', '+1'])\n",
    "plt.xlabel('Predicted labels')\n",
    "plt.ylabel('True labels')\n",
    "plt.title('Confusion Matrix')\n",
    "plt.show()\n"
   ]
  },
  {
   "cell_type": "markdown",
   "metadata": {},
   "source": [
    "The discrepancy between the training performance and the performance on unseen data may be due to a variety of factors. Below are some of the common reasons and corresponding solutions:\n",
    "\n",
    "##### Overfitting\n",
    "The model may have overfit to the training data, learning the noise in the training data, but not the actual relationship between the variables.\n",
    "\n",
    "**Solutions:**\n",
    "- Try simplifying the model, for example by reducing the number of features or changing hyperparameters.\n",
    "- Use regularization methods.\n",
    "  \n",
    "##### Data Distribution Shift\n",
    "The distribution of the unseen data may be different from the distribution of the training data.\n",
    "\n",
    "**Solutions:**\n",
    "- Make sure that the training and test datasets come from the same distribution.\n",
    "- Rebalance classes, if needed.\n",
    "\n",
    "##### Model Robustness\n",
    "It's also possible that while the model is good at the \"average case\" in the training data, it may not be robust to outliers or rare events in the unseen data.\n",
    "\n",
    "**Solutions:**\n",
    "- Use techniques like bootstrapping to make the model more robust.\n",
    "- Re-visit feature engineering steps."
   ]
  },
  {
   "cell_type": "markdown",
   "metadata": {},
   "source": [
    "----"
   ]
  }
 ],
 "metadata": {
  "kernelspec": {
   "display_name": ".venv",
   "language": "python",
   "name": "python3"
  },
  "language_info": {
   "codemirror_mode": {
    "name": "ipython",
    "version": 3
   },
   "file_extension": ".py",
   "mimetype": "text/x-python",
   "name": "python",
   "nbconvert_exporter": "python",
   "pygments_lexer": "ipython3",
   "version": "3.10.12"
  },
  "orig_nbformat": 4
 },
 "nbformat": 4,
 "nbformat_minor": 2
}
