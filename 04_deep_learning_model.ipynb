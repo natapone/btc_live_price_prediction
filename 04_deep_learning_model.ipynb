{
 "cells": [
  {
   "cell_type": "markdown",
   "metadata": {},
   "source": [
    "## Objective: \n",
    "\n",
    "**Predicting BTCUSDT Price Trend With Deep Learinig Model**\n",
    "\n",
    "In a series of ongoing experiments, I have been exploring the potential of machine learning in forecasting the future trend of BTC prices, with an ultimate goal to harness these predictions as indicators for a trading system. My journey began with basic models, gradually elevating to ensemble techniques, all in pursuit of accurately anticipating BTC price movements.\n",
    "\n",
    "Initially, my strategy revolved around predicting the MACD for a 2-hour span. However, due to MACD's inherent sensitivity leading to false signals, I pivoted to using fast/slow EMAs to better discern the trend. Despite these adjustments, the predictive capability of the models remained constrained to a mere 1-2 hours into the future.\n",
    "\n",
    "Building on these findings, this experiment aims to delve deeper. We will be integrating Deep Learning techniques, aiming to expand our forecasting horizon to 3-5 hours ahead, anticipating that such advanced models might offer us a clearer window into future BTC price movements."
   ]
  },
  {
   "cell_type": "markdown",
   "metadata": {},
   "source": [
    "**Data source**: \n",
    "\n",
    "- Binance\n",
    "- BTCUSDT hourly prices in JSON.\n",
    "\n",
    "**Prediction Logic**:\n",
    "- **+2 (Strong Upward Trend)**: Conditions – EMA 10 > EMA 20 and exhibits an increase from its previous value.\n",
    "- **+1 (Weak Upward Trend)**: Conditions – EMA 10 > EMA 20, but there's a decrease relative to its prior value.\n",
    "- **-2 (Strong Downward Trend)**: Conditions – EMA 10 < EMA 20 and further decreases from its preceding value.\n",
    "- **-1 (Weak Downward Trend)**: Conditions – EMA 10 < EMA 20 but shows an increase when juxtaposed with its preceding value.\n",
    "- **0 (No Clear Trend)**: Conditions – differt of EMA 10 and EMA 20 between threshold values."
   ]
  }
 ],
 "metadata": {
  "language_info": {
   "name": "python"
  },
  "orig_nbformat": 4
 },
 "nbformat": 4,
 "nbformat_minor": 2
}
