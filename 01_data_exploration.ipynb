{
 "cells": [
  {
   "cell_type": "code",
   "execution_count": 6,
   "metadata": {},
   "outputs": [
    {
     "name": "stdout",
     "output_type": "stream",
     "text": [
      "             datetime      open      high       low     close       volume\n",
      "0 2021-01-01 00:00:00  28923.63  29031.34  28690.17  28995.13  2311.811445\n",
      "1 2021-01-01 01:00:00  28995.13  29470.00  28960.35  29409.99  5403.068471\n",
      "2 2021-01-01 02:00:00  29410.00  29465.26  29120.03  29194.65  2384.231560\n",
      "                 datetime      open      high       low     close      volume\n",
      "23128 2023-08-23 06:00:00  26042.00  26183.91  26038.31  26064.00  1927.97125\n",
      "23129 2023-08-23 07:00:00  26063.99  26132.47  26014.70  26057.13  1267.75092\n",
      "23130 2023-08-23 08:00:00  26057.12  26096.00  26027.49  26037.99   643.97550\n"
     ]
    }
   ],
   "source": [
    "import pandas as pd\n",
    "\n",
    "def read_hist_data(name = 'BTC', timeframe = '1h'):\n",
    "    file_path = f\"./data/{name}_USDT-{timeframe}.json\"\n",
    "    df = pd.read_json(file_path)\n",
    "\n",
    "    # set column names\n",
    "    df.columns = ['datetime', 'open', 'high', 'low', 'close', 'volume']\n",
    "\n",
    "    # convert unix timestamp to datetime\n",
    "    df['datetime'] = pd.to_datetime(df['datetime'], unit='ms')\n",
    "    \n",
    "    return df\n",
    "\n",
    "df = read_hist_data(name = 'BTC', timeframe = '1h') # read data\n",
    "# df = read_hist_data(name = 'BTC', timeframe = '5m') # read data\n",
    "print(df.head(3))\n",
    "print(df.tail(3)) "
   ]
  }
 ],
 "metadata": {
  "kernelspec": {
   "display_name": ".venv",
   "language": "python",
   "name": "python3"
  },
  "language_info": {
   "codemirror_mode": {
    "name": "ipython",
    "version": 3
   },
   "file_extension": ".py",
   "mimetype": "text/x-python",
   "name": "python",
   "nbconvert_exporter": "python",
   "pygments_lexer": "ipython3",
   "version": "3.10.12"
  },
  "orig_nbformat": 4
 },
 "nbformat": 4,
 "nbformat_minor": 2
}
