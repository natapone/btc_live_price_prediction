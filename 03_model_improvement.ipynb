{
 "cells": [
  {
   "cell_type": "markdown",
   "metadata": {},
   "source": [
    "## Model Improvement"
   ]
  },
  {
   "cell_type": "markdown",
   "metadata": {},
   "source": [
    "Summarize the setup and the model from the previous experiment:\n",
    "\n",
    "#### Context\n",
    "The code describes a predictive modeling setup to predict price changes over the next 10 hours based on some given features. \n",
    "The potential outcomes are:\n",
    "- **+1**: The price will increase by more than +1% from the current close.\n",
    "- **-1**: The price will decrease by more than -1% from the current close.\n",
    "- **0**: The price change will be within +- 1% of the current close."
   ]
  },
  {
   "cell_type": "markdown",
   "metadata": {},
   "source": [
    "#### Model Structure\n",
    "\n",
    "##### Data Preprocessing\n",
    "- **Features and Targets**: Dropped 'datetime' and 'target' from features, used 'target' as label.\n",
    "- **Train-Test Split**: 70% training and 30% test data.\n",
    "- **Scaling**: Applied Standard Scaler to normalize feature data.\n",
    "- **Handling Class Imbalance**: Used SMOTE to resample the minority class.\n",
    "\n",
    "##### Base Models for Ensemble\n",
    "1. **K-Nearest Neighbors**: A simple model for classification based on closest data points in the feature space.\n",
    "2. **LightGBM**: A gradient boosting framework that uses tree-based learning algorithms.\n",
    "3. **Bagging with Random Forest**: A Bagging model using RandomForest as the base estimator.\n",
    "4. **Bagging with Decision Tree**: Another Bagging model but using Decision Tree as the base estimator.\n",
    "\n",
    "##### Ensemble Strategy\n",
    "- **Stacking Classifier**: Used as the final model.\n",
    "    - **Base Estimators**: KNN, LightGBM, Bagging with RandomForest, and Bagging with Decision Tree.\n",
    "    - **Final Estimator**: Logistic Regression.\n",
    "\n",
    "##### Model Training\n",
    "- The final stacking model is trained on the resampled (SMOTE) and scaled training data.\n",
    "  \n",
    "##### Evaluation Metrics (on Training Data with Cross-Validation)\n",
    "- **Stacking with Logistic Regression as Final Estimator**: Mean Accuracy: 88.01%, Standard Deviation: 0.0286\n",
    "\n",
    "##### Performance on Unseen Data\n",
    "- The model was also tested on unseen data, with an overall accuracy of 78%.\n",
    "\n",
    "##### Solution for problem with unseen data\n",
    "- **Overfitting** The model may have overfit to the training data, learning the noise in the training data, but not the actual relationship between the variables.\n",
    "- **Solution** Try simplifying the model, for example by reducing the number of features or changing hyperparameters.\n"
   ]
  },
  {
   "cell_type": "markdown",
   "metadata": {},
   "source": [
    "### Current Model"
   ]
  },
  {
   "cell_type": "code",
   "execution_count": 1,
   "metadata": {},
   "outputs": [
    {
     "name": "stdout",
     "output_type": "stream",
     "text": [
      "               datetime      open      high       low     close       volume  \\\n",
      "598 2021-01-25 22:00:00  32715.53  32732.99  31910.00  32462.36  3761.903244   \n",
      "599 2021-01-25 23:00:00  32462.38  32650.00  32201.44  32254.20  2777.021592   \n",
      "600 2021-01-26 00:00:00  32254.19  32793.01  31758.00  32474.33  3799.041198   \n",
      "601 2021-01-26 01:00:00  32474.34  32827.33  32210.01  32758.85  2324.035401   \n",
      "602 2021-01-26 02:00:00  32754.20  32765.41  32230.29  32307.97  2168.256682   \n",
      "\n",
      "     high_pct_4  high_ema_4  high_rsi_4  high_trix_4  ...  volume_var_200  \\\n",
      "598   -3.815782   -1.716759    8.849644    -0.469483  ...    5.152259e+06   \n",
      "599   -3.369146   -1.188915    8.175968    -0.579663  ...    5.155260e+06   \n",
      "600   -2.034151   -0.455044   21.845644    -0.576277  ...    5.155131e+06   \n",
      "601   -1.903168   -0.210814   25.399214    -0.506497  ...    5.153162e+06   \n",
      "602    0.099044   -0.239807   22.894982    -0.426357  ...    5.140007e+06   \n",
      "\n",
      "     volume_lag1_200  volume_lag2_200  price_atr_200  price_interact_200  \\\n",
      "598       102.545726       -17.431208       2.221715          -14.625976   \n",
      "599        32.042845       102.545726       2.231827          -21.702496   \n",
      "600       -36.031537        32.042845       2.221551          -21.254959   \n",
      "601         6.151413       -36.031537       2.200667          -18.903438   \n",
      "602         6.027223         6.151413       2.228503          -21.053520   \n",
      "\n",
      "     pv_interact_200  price_adx_200    mfi_200  price_dx_200  target  \n",
      "598      -210.944150      11.517027  45.237289     13.820209    -1.0  \n",
      "599       350.374052      11.528543  45.097567     13.820209    -1.0  \n",
      "600       -58.854400      11.543267  44.596663     14.473271     0.0  \n",
      "601       -51.773048      11.557579  44.903071     14.405836    -1.0  \n",
      "602      -435.090992      11.571821  44.872249     14.405836    -1.0  \n",
      "\n",
      "[5 rows x 259 columns]\n",
      "                 datetime      open      high       low     close      volume  \\\n",
      "23116 2023-08-22 18:00:00  25832.41  26008.64  25770.14  25905.60  1817.32770   \n",
      "23117 2023-08-22 19:00:00  25905.60  25963.99  25773.96  25779.99  1191.08715   \n",
      "23118 2023-08-22 20:00:00  25780.00  25870.01  25779.99  25864.01   899.40168   \n",
      "23119 2023-08-22 21:00:00  25864.00  25903.78  25300.00  25669.29  5609.68716   \n",
      "23120 2023-08-22 22:00:00  25669.30  25856.63  25643.46  25807.99  1801.76946   \n",
      "\n",
      "       high_pct_4  high_ema_4  high_rsi_4  high_trix_4  ...  volume_var_200  \\\n",
      "23116   -0.193254   -0.083090   27.333871    -0.028193  ...    4.540974e+06   \n",
      "23117   -0.234428   -0.152928   17.047162    -0.041962  ...    4.535598e+06   \n",
      "23118   -0.708969   -0.309239    8.290793    -0.073085  ...    4.534728e+06   \n",
      "23119   -0.496523   -0.107540   26.402835    -0.084072  ...    4.605710e+06   \n",
      "23120   -0.584460   -0.173820   19.305146    -0.093087  ...    4.599817e+06   \n",
      "\n",
      "       volume_lag1_200  volume_lag2_200  price_atr_200  price_interact_200  \\\n",
      "23116       277.079771       269.095011       0.438284           -5.253384   \n",
      "23117       173.470414       277.079771       0.441903           -5.454302   \n",
      "23118       112.887953       173.470414       0.440006           -5.270964   \n",
      "23119        12.363209       112.887953       0.452888           -5.726621   \n",
      "23120       551.920695        12.363209       0.452331           -5.706613   \n",
      "\n",
      "       pv_interact_200  price_adx_200    mfi_200  price_dx_200  target  \n",
      "23116     -2079.258286      19.761073  36.592444     32.715425     0.0  \n",
      "23117     -1393.347193      19.825845  36.536753     32.715425     1.0  \n",
      "23118      -148.102648      19.890292  36.537835     32.715425     0.0  \n",
      "23119     -6978.862261      19.970211  36.083580     35.873910     1.0  \n",
      "23120       460.261979      20.049729  35.832665     35.873910     0.0  \n",
      "\n",
      "[5 rows x 259 columns]\n"
     ]
    }
   ],
   "source": [
    "import pandas as pd\n",
    "import warnings\n",
    "\n",
    "# Ref from data exploration\n",
    "def remove_outlier(df, iqr_threshold = 5):\n",
    "    \n",
    "    # Calculate the first quartile (25th percentile) and third quartile (75th percentile)\n",
    "    q1 = df['volume'].quantile(0.25)\n",
    "    q3 = df['volume'].quantile(0.75)\n",
    "\n",
    "    # Calculate the interquartile range (IQR)\n",
    "    iqr = q3 - q1\n",
    "\n",
    "    # Define lower and upper bounds for outliers\n",
    "    lower_bound = q1 - iqr_threshold * iqr\n",
    "    upper_bound = q3 + iqr_threshold * iqr\n",
    "\n",
    "    lower_bound = 0 if lower_bound < 0 else lower_bound\n",
    "\n",
    "    # remove outliers from df\n",
    "    df = df[(df['volume'] > lower_bound) & (df['volume'] < upper_bound)]\n",
    "    \n",
    "    return df\n",
    "\n",
    "def read_hist_data(name = 'BTC', timeframe = '1h'):\n",
    "    file_path = f\"./data/{name}_USDT-{timeframe}.json\"\n",
    "    df = pd.read_json(file_path)\n",
    "\n",
    "    # set column names\n",
    "    df.columns = ['datetime', 'open', 'high', 'low', 'close', 'volume']\n",
    "\n",
    "    # convert unix timestamp to datetime\n",
    "    df['datetime'] = pd.to_datetime(df['datetime'], unit='ms')\n",
    "    \n",
    "    df = remove_outlier(df)\n",
    "    return df\n",
    "\n",
    "import talib\n",
    "import numpy as np\n",
    "import warnings\n",
    "\n",
    "\n",
    "\n",
    "def get_features(df):\n",
    "\n",
    "    # List of periods\n",
    "    periods = [4, 12, 24, 48, 100, 200]\n",
    "    inputs = ['high', 'low', 'close', 'volume']\n",
    "\n",
    "    \n",
    "    # loop periods and inputs\n",
    "    for period in periods:\n",
    "        for input in inputs:\n",
    "            # Generate indicators\n",
    "\n",
    "            # % of change\n",
    "            df[f'{input}_pct_{period}'] = df[input].pct_change(periods=period) * 100\n",
    "\n",
    "            # % of ema\n",
    "            pct_ema = talib.EMA(df[input].values, timeperiod=period)\n",
    "            df[f'{input}_ema_{period}'] = (df[input] - pct_ema) / pct_ema * 100\n",
    "\n",
    "            # RSI\n",
    "            df[f'{input}_rsi_{period}'] = talib.RSI(df[input].values, timeperiod=period)\n",
    "\n",
    "            # TRIX\n",
    "            df[f'{input}_trix_{period}'] = talib.TRIX(df[input].values, timeperiod=period)\n",
    "\n",
    "            # SD\n",
    "            pct_sd = talib.STDDEV(df[input].values, timeperiod=period)\n",
    "            df[f'{input}_sd_{period}'] = pct_sd / df[input] * 100\n",
    "\n",
    "            # ROC\n",
    "            df[f'{input}_roc_{period}'] = talib.ROC(df[input].values, timeperiod=period)\n",
    "\n",
    "            # VAR\n",
    "            df[f'{input}_var_{period}'] = talib.VAR(df[input].values, timeperiod=period)\n",
    "\n",
    "            # Lagged\n",
    "\n",
    "            # pct change - lagged 1\n",
    "            df[f'{input}_lag1_{period}'] = df[f'{input}_pct_{period}'].shift(1)\n",
    "\n",
    "            # pct change - lagged 2\n",
    "            df[f'{input}_lag2_{period}'] = df[f'{input}_pct_{period}'].shift(2)\n",
    "\n",
    "            \n",
    "\n",
    "\n",
    "        \n",
    "        # Multiple inputs indicators\n",
    "        # ATR\n",
    "        pct_atr = talib.ATR(df['high'].values, df['low'].values, df['close'].values, timeperiod=period)\n",
    "        df[f'price_atr_{period}'] = pct_atr / df['close'] * 100\n",
    "\n",
    "        # Price interaction Features:\n",
    "        df[f'price_interact_{period}'] = df[f'close_roc_{period}'] * df[f'price_atr_{period}']\n",
    "\n",
    "        # Price volume interaction:\n",
    "        df[f'pv_interact_{period}'] = df[f'close_roc_{period}'] * df[f'volume_roc_{period}']\n",
    "\n",
    "        # ADX\n",
    "        df[f'price_adx_{period}'] = talib.ADX(df['high'].values, df['low'].values, df['close'].values, timeperiod=period)\n",
    "\n",
    "        # MFI\n",
    "        df[f'mfi_{period}'] = talib.MFI(df['high'].values, df['low'].values, df['close'].values, df['volume'].values, timeperiod=period)\n",
    "\n",
    "        # DX\n",
    "        df[f'price_dx_{period}'] = talib.DX(df['high'].values, df['low'].values, df['close'].values, timeperiod=period)\n",
    "\n",
    "    return df\n",
    "\n",
    "# to predict if the price will go up (+1%) or down (-1%) in the next 10 periods\n",
    "def get_target_next_close(df, target_shift = 10):\n",
    "\n",
    "    target_treshold = 0.01\n",
    "    conditions = [\n",
    "        (df['close'].shift(target_shift * -1).isnull()), \n",
    "        (df['close'].shift(target_shift * -1) > df['close'] * (1+target_treshold )),\n",
    "        (df['close'].shift(target_shift * -1) < df['close'] * (1-target_treshold)),\n",
    "        (df['close'].shift(target_shift * -1) >= df['close'] * (1-target_treshold)) & \n",
    "        (df['close'].shift(target_shift * -1) <= df['close'] * (1+target_treshold))\n",
    "    ]\n",
    "    values = [np.nan, 1, -1, 0]\n",
    "    df['target'] = np.select(conditions, values)\n",
    "    df = df.dropna()\n",
    "    return df\n",
    "\n",
    "def get_features_target_next_close():\n",
    "\n",
    "    # Disable the PerformanceWarning temporarily\n",
    "    warnings.filterwarnings(\"ignore\", category=pd.errors.PerformanceWarning)\n",
    "\n",
    "    df = read_hist_data()\n",
    "    df = get_features(df)\n",
    "    df = get_target_next_close(df)\n",
    "\n",
    "    # Re-enable warnings\n",
    "    warnings.resetwarnings()\n",
    "\n",
    "    return df\n",
    "\n",
    "df = get_features_target_next_close()\n",
    "\n",
    "print(df.head(5))\n",
    "print(df.tail(5))"
   ]
  },
  {
   "cell_type": "code",
   "execution_count": 2,
   "metadata": {},
   "outputs": [],
   "source": [
    "from sklearn.ensemble import RandomForestClassifier, StackingClassifier, BaggingClassifier\n",
    "from sklearn.neighbors import KNeighborsClassifier\n",
    "from sklearn.tree import DecisionTreeClassifier\n",
    "import lightgbm as lgb\n",
    "from sklearn.model_selection import train_test_split\n",
    "from sklearn.preprocessing import StandardScaler\n",
    "from imblearn.over_sampling import SMOTE\n",
    "from sklearn.linear_model import LogisticRegression\n",
    "from sklearn.metrics import classification_report\n",
    "import joblib\n",
    "\n",
    "# Train model: Stacking Classifier with Logistic Regression as the final estimator\n",
    "def train_model_stacking_lr(X, y, random_state = 55, print_report = True, model_name = 'btc_10h_direction', model_path = './models/'):\n",
    "    # Data Preprocessing: Splitting and Scaling\n",
    "    X_train, X_test, y_train, y_test = train_test_split(X, y, test_size=0.3, random_state=random_state)\n",
    "\n",
    "    scaler = StandardScaler()\n",
    "    X_train_scaled = scaler.fit_transform(X_train)\n",
    "    X_test_scaled = scaler.transform(X_test)\n",
    "\n",
    "    # save scaler\n",
    "    scaler_filepath = model_path + model_name + '_scaler.joblib'\n",
    "    joblib.dump(scaler, scaler_filepath)\n",
    "\n",
    "    # Data Augmentation: SMOTE for imbalance handling\n",
    "    sm = SMOTE(random_state=random_state)\n",
    "    X_train_res, y_train_res = sm.fit_resample(X_train_scaled, y_train)\n",
    "\n",
    "    # Initialize Bagging Classifiers\n",
    "\n",
    "    bagging_rf = BaggingClassifier(estimator=RandomForestClassifier(random_state=random_state, n_jobs=-1),\n",
    "                                n_estimators=10, random_state=random_state, n_jobs=-1)\n",
    "\n",
    "    bagging_dt = BaggingClassifier(estimator=DecisionTreeClassifier(random_state=random_state),\n",
    "                                n_estimators=10, random_state=random_state, n_jobs=-1)\n",
    "\n",
    "    # Initialize base estimators for stacking\n",
    "    base_estimators = [\n",
    "        ('knn', KNeighborsClassifier(n_jobs=-1)),\n",
    "        ('lgbm', lgb.LGBMClassifier(random_state=random_state, n_jobs=-1, verbose=-1)),\n",
    "        ('bagging_rf', bagging_rf),\n",
    "        ('bagging_dt', bagging_dt),\n",
    "        \n",
    "    ]\n",
    "\n",
    "    # Initialize the final Stacking Classifier with Logistic Regression as the final estimator\n",
    "    model = StackingClassifier(estimators=base_estimators, final_estimator=LogisticRegression(max_iter=10000), n_jobs=-1)\n",
    "\n",
    "    # Train the final Stacking model\n",
    "    model.fit(X_train_res, y_train_res)\n",
    "\n",
    "    # save model\n",
    "    model_filepath = model_path + model_name + '_model.joblib'\n",
    "    joblib.dump(model, model_filepath)\n",
    "\n",
    "    if print_report:\n",
    "        # Evaluate the final Stacking model with classification_report\n",
    "        y_pred = model.predict(X_test_scaled)\n",
    "        print(classification_report(y_test, y_pred))\n",
    "    \n",
    "    \n",
    "    return model\n"
   ]
  },
  {
   "cell_type": "code",
   "execution_count": 94,
   "metadata": {},
   "outputs": [
    {
     "name": "stdout",
     "output_type": "stream",
     "text": [
      "              precision    recall  f1-score   support\n",
      "\n",
      "        -1.0       0.77      0.70      0.74      1583\n",
      "         0.0       0.78      0.83      0.80      3534\n",
      "         1.0       0.78      0.73      0.75      1576\n",
      "\n",
      "    accuracy                           0.77      6693\n",
      "   macro avg       0.77      0.75      0.76      6693\n",
      "weighted avg       0.77      0.77      0.77      6693\n",
      "\n"
     ]
    }
   ],
   "source": [
    "# Separate features and target\n",
    "X = df.drop(columns=['datetime', 'target'])\n",
    "y = df['target']\n",
    "\n",
    "# Train the model\n",
    "model = train_model_stacking_lr(X, y)\n"
   ]
  },
  {
   "cell_type": "markdown",
   "metadata": {},
   "source": [
    "##### Test the model with live data"
   ]
  },
  {
   "cell_type": "code",
   "execution_count": 95,
   "metadata": {},
   "outputs": [
    {
     "name": "stdout",
     "output_type": "stream",
     "text": [
      "             datetime      open      high       low     close      volume\n",
      "0 2023-07-17 14:00:00  30286.65  30308.00  30230.38  30274.80  1020.42617\n",
      "1 2023-07-17 15:00:00  30274.81  30291.74  30112.99  30174.83   968.95706\n",
      "2 2023-07-17 16:00:00  30174.84  30241.03  30078.00  30144.01  1466.07769\n",
      "3 2023-07-17 17:00:00  30144.00  30159.99  29920.00  30030.67  2742.68881\n",
      "4 2023-07-17 18:00:00  30030.67  30060.00  29659.20  29802.39  4222.31153\n",
      "               datetime      open      high       low     close      volume\n",
      "994 2023-08-28 00:00:00  26101.78  26105.00  25986.41  26023.51  1227.44710\n",
      "995 2023-08-28 01:00:00  26023.51  26063.39  25993.58  26028.01   857.51904\n",
      "996 2023-08-28 02:00:00  26028.02  26056.93  26019.53  26030.50   481.96317\n",
      "997 2023-08-28 03:00:00  26030.49  26050.75  26012.98  26012.98   742.29889\n",
      "998 2023-08-28 04:00:00  26012.98  26038.83  26009.37  26026.61   514.74670\n"
     ]
    }
   ],
   "source": [
    "# Fetch BTCUSDT-1h data 500 rows from binance API\n",
    "import requests\n",
    "import pandas as pd\n",
    "import json\n",
    "import time\n",
    "import datetime\n",
    "import numpy as np\n",
    "import warnings\n",
    "\n",
    "def format_live_binance_data(df):\n",
    "\n",
    "    # use only completed hour\n",
    "    df = df[df['close_time'] <= datetime.datetime.now(datetime.timezone.utc).strftime(\"%Y-%m-%d %H:%M:%S\")] \n",
    "\n",
    "    df_live = pd.DataFrame()\n",
    "    df_live['datetime'] = df['open_time']\n",
    "    df_live['open'] = df['open']\n",
    "    df_live['high'] = df['high']\n",
    "    df_live['low'] = df['low']\n",
    "    df_live['close'] = df['close']\n",
    "    df_live['volume'] = df['volume']\n",
    "    \n",
    "    return df_live\n",
    "\n",
    "def fetch_live_binance_data(name = 'BTC', timeframe = '1h', limit = 1000):\n",
    "    url = f\"https://api.binance.com/api/v3/klines?symbol={name}USDT&interval={timeframe}&limit={limit}\"\n",
    "    response = requests.get(url)\n",
    "    df = pd.DataFrame(json.loads(response.text))\n",
    "    df.columns = ['open_time',\n",
    "                'open', 'high', 'low', 'close', 'volume',\n",
    "                'close_time', 'quote_asset_volume', 'number_of_trades',\n",
    "                'taker_buy_base_asset_volume', 'taker_buy_quote_asset_volume', 'ignore']\n",
    "    \n",
    "    df = df.astype(float)\n",
    "    df['open_time'] = pd.to_datetime(df['open_time'], unit='ms')\n",
    "    df['close_time'] = pd.to_datetime(df['close_time'], unit='ms')\n",
    "\n",
    "    df = format_live_binance_data(df)\n",
    "    return df\n",
    "\n",
    "df_live = fetch_live_binance_data()\n",
    "\n",
    "print(df_live.head(5))\n",
    "print(df_live.tail(5))"
   ]
  },
  {
   "cell_type": "markdown",
   "metadata": {},
   "source": [
    "##### Calculate feature values for live data"
   ]
  },
  {
   "cell_type": "code",
   "execution_count": 96,
   "metadata": {},
   "outputs": [],
   "source": [
    "# Disable the PerformanceWarning temporarily\n",
    "warnings.filterwarnings(\"ignore\", category=pd.errors.PerformanceWarning)\n",
    "\n",
    "X_live = df_live.copy()\n",
    "X_live = get_features(X_live)\n",
    "X_live.dropna(inplace=True)\n",
    "\n",
    "# Re-enable warnings\n",
    "warnings.resetwarnings()"
   ]
  },
  {
   "cell_type": "code",
   "execution_count": 97,
   "metadata": {},
   "outputs": [],
   "source": [
    "def predict_live_data(X_live, model_name = 'btc_10h_direction', model_path = './models/'):\n",
    "    # Separate features and target\n",
    "    X_live_features = X_live.drop(columns=['datetime'])\n",
    "\n",
    "    # load scaler\n",
    "    scaler_filepath = model_path + model_name + '_scaler.joblib'\n",
    "    scaler = joblib.load(scaler_filepath)\n",
    "    X_live_scaled = scaler.transform(X_live_features)\n",
    "\n",
    "    # load model\n",
    "    model_filepath = model_path + model_name + '_model.joblib'\n",
    "    model = joblib.load(model_filepath)\n",
    "\n",
    "    # predict\n",
    "    y_pred = model.predict(X_live_scaled)\n",
    "\n",
    "    # match prediction with live data\n",
    "    X_live = X_live.copy() # fix fragmented\n",
    "    X_live['prediction'] = y_pred\n",
    "\n",
    "    return X_live\n",
    "\n",
    "y_live_pred = predict_live_data(X_live)"
   ]
  },
  {
   "cell_type": "code",
   "execution_count": 101,
   "metadata": {},
   "outputs": [
    {
     "name": "stdout",
     "output_type": "stream",
     "text": [
      "\n",
      "Classification Report:\n",
      "               precision    recall  f1-score   support\n",
      "\n",
      "        -1.0       0.94      0.64      0.76        45\n",
      "         0.0       0.94      0.99      0.96       333\n",
      "         1.0       0.67      0.31      0.42        13\n",
      "\n",
      "    accuracy                           0.93       391\n",
      "   macro avg       0.85      0.65      0.72       391\n",
      "weighted avg       0.93      0.93      0.92       391\n",
      "\n"
     ]
    },
    {
     "data": {
      "image/png": "[encoded data removed]",
      "text/plain": [
       "<Figure size 800x600 with 2 Axes>"
      ]
     },
     "metadata": {},
     "output_type": "display_data"
    }
   ],
   "source": [
    "from sklearn.metrics import classification_report, confusion_matrix\n",
    "import matplotlib.pyplot as plt\n",
    "import seaborn as sns\n",
    "\n",
    "def evaluate_live_data(y_pred):\n",
    "    pred_result = y_pred[['datetime', 'close', 'prediction']].copy()\n",
    "\n",
    "    pred_target = get_target_next_close(pred_result)\n",
    "\n",
    "    # Confusion report\n",
    "    print(\"\\nClassification Report:\\n\", classification_report(pred_target['target'], pred_target['prediction']))\n",
    "\n",
    "    # 1. Confusion Matrix\n",
    "    conf_matrix = confusion_matrix(pred_target['target'], pred_target['prediction'])\n",
    "\n",
    "    plt.figure(figsize=(8, 6))\n",
    "    sns.heatmap(conf_matrix, annot=True, fmt='g', cmap='Blues', \n",
    "                xticklabels=['-1', '0', '+1'], \n",
    "                yticklabels=['-1', '0', '+1'])\n",
    "    plt.xlabel('Predicted labels')\n",
    "    plt.ylabel('True labels')\n",
    "    plt.title('Confusion Matrix')\n",
    "    plt.show()\n",
    "\n",
    "evaluate_live_data(y_live_pred)"
   ]
  },
  {
   "cell_type": "markdown",
   "metadata": {},
   "source": [
    "The model performs exceptionally well for the majority class (0.0) but struggles to effectively identify instances of the minority classes (-1.0 and 1.0). \n",
    "- High precision but low recall for the minority classes indicates that when the model predicts these classes, it is usually correct, but it also misses a significant number of instances that it should have caught."
   ]
  },
  {
   "cell_type": "code",
   "execution_count": 135,
   "metadata": {},
   "outputs": [
    {
     "data": {
      "image/png": "[encoded data removed]",
      "text/plain": [
       "<Figure size 2500x1000 with 1 Axes>"
      ]
     },
     "metadata": {},
     "output_type": "display_data"
    }
   ],
   "source": [
    "def plot_live_data(y_pred, target_treshold = 0.01, target_shift = 10):\n",
    "    pred_result = y_pred[['datetime', 'close', 'prediction']].copy()\n",
    "\n",
    "    # Calculate future close price, if prediction is 1, then close price will be 1% higher, if prediction is -1, then close price will be 1% lower\n",
    "    pred_result['future_close'] = pred_result['close'] * (1 + pred_result['prediction'] * target_treshold)\n",
    "\n",
    "    # Extend the prediction to the future\n",
    "    date_range = pd.date_range(start=pred_result['datetime'].iloc[-1], periods=(target_shift+1), freq='H')\n",
    "    # remove first row of date_range\n",
    "    date_range = date_range[1:]\n",
    "\n",
    "    pred_result_future = pd.DataFrame()\n",
    "    pred_result_future['datetime'] = date_range\n",
    "    pred_result_future['close'] = np.nan\n",
    "    pred_result_future['prediction'] = np.nan\n",
    "    pred_result_future['future_close'] = np.nan\n",
    "\n",
    "    # concat pred_result and pred_result_future\n",
    "    pred_result = pd.concat([pred_result, pred_result_future])\n",
    "\n",
    "    # shift future_close 10 periods up\n",
    "    pred_result['future_close'] = pred_result['future_close'].shift(target_shift)\n",
    "\n",
    "    # plot 2 lines of close and future_close with sns\n",
    "    plt.figure(figsize=(25, 10))\n",
    "    \n",
    "    sns.lineplot(data=pred_result, x='datetime', y='future_close', label='Predicted Close', color='orange')\n",
    "    sns.lineplot(data=pred_result, x='datetime', y='close', label='Actual Close', color='blue')\n",
    "\n",
    "    plt.scatter(\n",
    "        pred_result[pred_result['prediction'] == 1]['datetime'], \n",
    "        pred_result[pred_result['prediction'] == 1]['close'] - 100, \n",
    "        color='green', \n",
    "        marker='^', \n",
    "        label='Prediction = +1'\n",
    "    )\n",
    "\n",
    "    # Plot scatter points for negative predictions\n",
    "    plt.scatter(\n",
    "        pred_result[pred_result['prediction'] == -1]['datetime'], \n",
    "        pred_result[pred_result['prediction'] == -1]['close'] + 100, \n",
    "        color='red', \n",
    "        marker='v',\n",
    "        label='Prediction = -1'\n",
    "    )\n",
    "\n",
    "    plt.xlabel('Date')\n",
    "    plt.ylabel('Price')\n",
    "    plt.title('Prediction Result')\n",
    "    plt.legend()\n",
    "    plt.show()\n",
    "\n",
    "\n",
    "# print(y_live_pred.tail(5))\n",
    "plot_live_data(y_live_pred)"
   ]
  },
  {
   "cell_type": "markdown",
   "metadata": {},
   "source": [
    "----"
   ]
  },
  {
   "cell_type": "markdown",
   "metadata": {},
   "source": [
    "### Experiment 1: Improvement with Feature Selection"
   ]
  },
  {
   "cell_type": "markdown",
   "metadata": {},
   "source": [
    "The large number of features can add noise or collinearity, which can lead to overfitting. We could improve by reducing the number of features.\n",
    "\n",
    "1. **Feature Importance**: Use algorithms like Random Forests or XGBoost to identify important features. Drop those which do not contribute much to the target variable.\n",
    "   \n",
    "2. **Correlation Analysis**: Remove highly correlated features as they can cause multicollinearity problems."
   ]
  },
  {
   "cell_type": "markdown",
   "metadata": {},
   "source": [
    "##### Feature Importance\n",
    "\n",
    "Refer from least important features in previous experiment, we will drop them and test the model again.\n",
    "- RSIs, EMAs, and ROCs\n",
    "\n",
    "We consider adding more information for the top important features:\n",
    "- ATR lagged\n",
    "\n",
    "Lastly, we try to reduce the number of periods to save computation time:"
   ]
  },
  {
   "cell_type": "code",
   "execution_count": 5,
   "metadata": {},
   "outputs": [],
   "source": [
    "def get_features_v2(df):\n",
    "\n",
    "    # List of periods\n",
    "    periods = [10, 20, 50, 100, 200]\n",
    "    inputs = ['high', 'low', 'close', 'volume']\n",
    "\n",
    "    \n",
    "    # loop periods and inputs\n",
    "    for period in periods:\n",
    "        for input in inputs:\n",
    "            # Generate indicators\n",
    "\n",
    "            # % of change\n",
    "            df[f'{input}_pct_{period}'] = df[input].pct_change(periods=period) * 100\n",
    "\n",
    "            # TRIX\n",
    "            df[f'{input}_trix_{period}'] = talib.TRIX(df[input].values, timeperiod=period)\n",
    "\n",
    "            # SD\n",
    "            pct_sd = talib.STDDEV(df[input].values, timeperiod=period)\n",
    "            df[f'{input}_sd_{period}'] = pct_sd / df[input] * 100\n",
    "\n",
    "            # VAR\n",
    "            df[f'{input}_var_{period}'] = talib.VAR(df[input].values, timeperiod=period)\n",
    "\n",
    "            df = df.copy()\n",
    "\n",
    "            \n",
    "\n",
    "\n",
    "        \n",
    "        # Multiple inputs indicators\n",
    "        # ATR\n",
    "        pct_atr = talib.ATR(df['high'].values, df['low'].values, df['close'].values, timeperiod=period)\n",
    "        df[f'price_atr_{period}'] = pct_atr / df['close'] * 100\n",
    "\n",
    "        # ATR - lagged 1\n",
    "        df[f'price_atr_lag1_{period}'] = df[f'price_atr_{period}'].shift(1)\n",
    "\n",
    "        # ATR - lagged 2\n",
    "        df[f'price_atr_lag2_{period}'] = df[f'price_atr_{period}'].shift(2)\n",
    "\n",
    "        # Price interaction Features:\n",
    "        df[f'price_interact_{period}'] = df[f'close_pct_{period}'] * df[f'price_atr_{period}']\n",
    "\n",
    "        # Price volume interaction:\n",
    "        df[f'pv_interact_{period}'] = df[f'close_pct_{period}'] * df[f'volume_pct_{period}']\n",
    "\n",
    "        # ADX\n",
    "        df[f'price_adx_{period}'] = talib.ADX(df['high'].values, df['low'].values, df['close'].values, timeperiod=period)\n",
    "\n",
    "        # MFI\n",
    "        df[f'mfi_{period}'] = talib.MFI(df['high'].values, df['low'].values, df['close'].values, df['volume'].values, timeperiod=period)\n",
    "\n",
    "        # DX\n",
    "        df[f'price_dx_{period}'] = talib.DX(df['high'].values, df['low'].values, df['close'].values, timeperiod=period)\n",
    "\n",
    "        df = df.copy()\n",
    "\n",
    "    return df\n",
    "\n",
    "def get_features_v2_target_next_close():\n",
    "\n",
    "    df = read_hist_data()\n",
    "    df = get_features_v2(df)\n",
    "    df = get_target_next_close(df)\n",
    "\n",
    "    return df\n",
    "\n",
    "df = get_features_v2_target_next_close()\n",
    "\n"
   ]
  },
  {
   "cell_type": "code",
   "execution_count": 6,
   "metadata": {},
   "outputs": [
    {
     "name": "stdout",
     "output_type": "stream",
     "text": [
      "               datetime      open      high       low     close       volume  \\\n",
      "598 2021-01-25 22:00:00  32715.53  32732.99  31910.00  32462.36  3761.903244   \n",
      "599 2021-01-25 23:00:00  32462.38  32650.00  32201.44  32254.20  2777.021592   \n",
      "600 2021-01-26 00:00:00  32254.19  32793.01  31758.00  32474.33  3799.041198   \n",
      "601 2021-01-26 01:00:00  32474.34  32827.33  32210.01  32758.85  2324.035401   \n",
      "602 2021-01-26 02:00:00  32754.20  32765.41  32230.29  32307.97  2168.256682   \n",
      "\n",
      "     high_pct_10  high_trix_10  high_sd_10    high_var_10  ...  \\\n",
      "598    -4.568542      0.127206    1.981095  420515.414542  ...   \n",
      "599    -5.891319      0.070057    2.236237  533091.604260  ...   \n",
      "600    -5.969864      0.017296    2.144141  494389.700350  ...   \n",
      "601    -5.092822     -0.027989    2.016728  438294.373684  ...   \n",
      "602    -5.302283     -0.066215    1.735132  323218.431721  ...   \n",
      "\n",
      "     volume_var_200  price_atr_200  price_atr_lag1_200  price_atr_lag2_200  \\\n",
      "598    5.152259e+06       2.221715            2.202788            2.144367   \n",
      "599    5.155260e+06       2.231827            2.221715            2.202788   \n",
      "600    5.155131e+06       2.221551            2.231827            2.221715   \n",
      "601    5.153162e+06       2.200667            2.221551            2.231827   \n",
      "602    5.140007e+06       2.228503            2.200667            2.221551   \n",
      "\n",
      "     price_interact_200  pv_interact_200  price_adx_200    mfi_200  \\\n",
      "598          -14.625976      -210.944150      11.517027  45.237289   \n",
      "599          -21.702496       350.374052      11.528543  45.097567   \n",
      "600          -21.254959       -58.854400      11.543267  44.596663   \n",
      "601          -18.903438       -51.773048      11.557579  44.903071   \n",
      "602          -21.053520      -435.090992      11.571821  44.872249   \n",
      "\n",
      "     price_dx_200  target  \n",
      "598     13.820209    -1.0  \n",
      "599     13.820209    -1.0  \n",
      "600     14.473271     0.0  \n",
      "601     14.405836    -1.0  \n",
      "602     14.405836    -1.0  \n",
      "\n",
      "[5 rows x 127 columns]\n",
      "                 datetime      open      high       low     close      volume  \\\n",
      "23116 2023-08-22 18:00:00  25832.41  26008.64  25770.14  25905.60  1817.32770   \n",
      "23117 2023-08-22 19:00:00  25905.60  25963.99  25773.96  25779.99  1191.08715   \n",
      "23118 2023-08-22 20:00:00  25780.00  25870.01  25779.99  25864.01   899.40168   \n",
      "23119 2023-08-22 21:00:00  25864.00  25903.78  25300.00  25669.29  5609.68716   \n",
      "23120 2023-08-22 22:00:00  25669.30  25856.63  25643.46  25807.99  1801.76946   \n",
      "\n",
      "       high_pct_10  high_trix_10  high_sd_10  high_var_10  ...  \\\n",
      "23116    -0.397512     -0.014987    0.099638   671.562973  ...   \n",
      "23117    -0.469172     -0.017394    0.135993  1246.734778  ...   \n",
      "23118    -0.713809     -0.022242    0.240165  3860.210461  ...   \n",
      "23119    -0.622343     -0.027097    0.269258  4864.774033  ...   \n",
      "23120    -0.933325     -0.032457    0.291974  5699.445073  ...   \n",
      "\n",
      "       volume_var_200  price_atr_200  price_atr_lag1_200  price_atr_lag2_200  \\\n",
      "23116    4.540974e+06       0.438284            0.437095            0.430201   \n",
      "23117    4.535598e+06       0.441903            0.438284            0.437095   \n",
      "23118    4.534728e+06       0.440006            0.441903            0.438284   \n",
      "23119    4.605710e+06       0.452888            0.440006            0.441903   \n",
      "23120    4.599817e+06       0.452331            0.452888            0.440006   \n",
      "\n",
      "       price_interact_200  pv_interact_200  price_adx_200    mfi_200  \\\n",
      "23116           -5.253384     -2079.258286      19.761073  36.592444   \n",
      "23117           -5.454302     -1393.347193      19.825845  36.536753   \n",
      "23118           -5.270964      -148.102648      19.890292  36.537835   \n",
      "23119           -5.726621     -6978.862261      19.970211  36.083580   \n",
      "23120           -5.706613       460.261979      20.049729  35.832665   \n",
      "\n",
      "       price_dx_200  target  \n",
      "23116     32.715425     0.0  \n",
      "23117     32.715425     1.0  \n",
      "23118     32.715425     0.0  \n",
      "23119     35.873910     1.0  \n",
      "23120     35.873910     0.0  \n",
      "\n",
      "[5 rows x 127 columns]\n",
      "Total columns: 127\n"
     ]
    }
   ],
   "source": [
    "print(df.head(5))\n",
    "print(df.tail(5))   \n",
    "\n",
    "print(f'Total columns: {len(df.columns)}')"
   ]
  },
  {
   "cell_type": "code",
   "execution_count": 209,
   "metadata": {},
   "outputs": [],
   "source": [
    "from sklearn.model_selection import train_test_split\n",
    "from sklearn.ensemble import RandomForestClassifier\n",
    "import matplotlib.pyplot as plt\n",
    "import numpy as np\n",
    "\n",
    "random_state=55\n",
    "\n",
    "# Assuming df is the DataFrame with features and target variable\n",
    "# Separate features and target\n",
    "X = df.drop(columns=['datetime', 'target'])\n",
    "y = df['target']\n",
    "\n",
    "# Split the data into training and test sets\n",
    "X_train, X_test, y_train, y_test = train_test_split(X, y, test_size=0.3, random_state=random_state)\n",
    "\n",
    "# Initialize and train the model\n",
    "clf = RandomForestClassifier(random_state=random_state, n_jobs=-1)\n",
    "clf.fit(X_train, y_train)\n",
    "\n",
    "# Get feature importances\n",
    "feature_importances = clf.feature_importances_\n",
    "\n",
    "# Sort feature importances in descending order and get the indices\n",
    "indices = np.argsort(feature_importances)[::-1]\n",
    "\n",
    "# Rearrange feature names so they match the sorted feature importances\n",
    "feature_names = [X.columns[i] for i in indices]\n"
   ]
  },
  {
   "cell_type": "code",
   "execution_count": 210,
   "metadata": {},
   "outputs": [
    {
     "data": {
      "image/png": "[encoded data removed]",
      "text/plain": [
       "<Figure size 3000x700 with 1 Axes>"
      ]
     },
     "metadata": {},
     "output_type": "display_data"
    },
    {
     "name": "stdout",
     "output_type": "stream",
     "text": [
      "Total features: 125\n",
      "Top 25 important features:  ['price_atr_lag1_200', 'price_atr_100', 'price_atr_200', 'price_atr_50', 'price_atr_lag2_200', 'price_atr_lag2_100', 'price_adx_100', 'price_adx_200', 'volume_trix_100', 'volume_trix_200', 'volume_var_100', 'price_atr_lag1_50', 'price_atr_lag1_100', 'low_var_200', 'high_var_200', 'price_atr_20', 'volume_var_200', 'close_var_200', 'close', 'volume_var_50', 'price_adx_50', 'volume_trix_20', 'price_atr_lag2_20', 'high', 'price_atr_lag2_50']\n",
      "Least 25 important features:  ['high_pct_100', 'low_var_10', 'low_pct_20', 'price_interact_50', 'close_sd_10', 'close_pct_100', 'price_interact_20', 'price_interact_10', 'volume_pct_100', 'volume_sd_100', 'pv_interact_100', 'high_pct_50', 'low_pct_10', 'high_sd_10', 'volume_pct_50', 'pv_interact_200', 'high_pct_10', 'pv_interact_50', 'high_pct_20', 'volume_pct_10', 'pv_interact_20', 'volume_sd_200', 'volume_pct_20', 'pv_interact_10', 'volume']\n"
     ]
    }
   ],
   "source": [
    "# Create a plot\n",
    "plt.figure(figsize=(30, 7))\n",
    "\n",
    "# Create plot title\n",
    "plt.title(\"Feature Importance\")\n",
    "\n",
    "# Add bars for each feature, small font size to fit the features\n",
    "plt.bar(range(X.shape[1]), feature_importances[indices] )\n",
    "\n",
    "# Add feature names as x-axis labels\n",
    "plt.xticks(range(X.shape[1]), feature_names, rotation=90, fontsize = 8)\n",
    "\n",
    "# Show plot\n",
    "plt.show()\n",
    "\n",
    "# print total features\n",
    "print(f'Total features: {len(feature_names)}')\n",
    "\n",
    "# print most important 25 features\n",
    "print(\"Top 25 important features: \", feature_names[:25])\n",
    "\n",
    "# print least important 25 features\n",
    "print(\"Least 25 important features: \", feature_names[-25:])\n"
   ]
  },
  {
   "cell_type": "code",
   "execution_count": 211,
   "metadata": {},
   "outputs": [
    {
     "name": "stdout",
     "output_type": "stream",
     "text": [
      "Accuracy: 0.7978\n",
      "F1-Score: 0.7956\n",
      "Precision: 0.8016\n",
      "Recall: 0.7978\n"
     ]
    }
   ],
   "source": [
    "from sklearn.metrics import accuracy_score, f1_score, precision_score, recall_score\n",
    "\n",
    "# Predict labels for the test set\n",
    "y_pred = clf.predict(X_test)\n",
    "\n",
    "# Calculate metrics\n",
    "accuracy = accuracy_score(y_test, y_pred)\n",
    "f1 = f1_score(y_test, y_pred, average='weighted')  # Use weighted average if classes are imbalanced\n",
    "precision = precision_score(y_test, y_pred, average='weighted')\n",
    "recall = recall_score(y_test, y_pred, average='weighted')\n",
    "\n",
    "# Print metrics\n",
    "print(f\"Accuracy: {accuracy:0.4f}\")\n",
    "print(f\"F1-Score: {f1:0.4f}\")\n",
    "print(f\"Precision: {precision:0.4f}\")\n",
    "print(f\"Recall: {recall:0.4f}\")"
   ]
  },
  {
   "cell_type": "markdown",
   "metadata": {},
   "source": [
    "##### Observations\n",
    "\n",
    "1. **Improved Performance**: After reducing the number of features, all the performance metrics improved.\n",
    "2. **Feature Importance**: By narrowing down to important features, the model seems to have reduced noise and therefore improved its generalization capability.\n",
    "3. **Lagged Features**: Introducing lagged features ('price_atr_lag1_200', 'price_atr_lag2_200') appeared beneficial.\n",
    "4. **Overfitting**: The model initially suffered from overfitting due to too many features, but this seemed to have been improved by feature reduction."
   ]
  },
  {
   "cell_type": "markdown",
   "metadata": {},
   "source": [
    "##### Rebuild the model with the new features"
   ]
  },
  {
   "cell_type": "code",
   "execution_count": 213,
   "metadata": {},
   "outputs": [
    {
     "name": "stdout",
     "output_type": "stream",
     "text": [
      "              precision    recall  f1-score   support\n",
      "\n",
      "        -1.0       0.78      0.77      0.77      1583\n",
      "         0.0       0.81      0.82      0.82      3534\n",
      "         1.0       0.80      0.79      0.79      1576\n",
      "\n",
      "    accuracy                           0.80      6693\n",
      "   macro avg       0.80      0.79      0.80      6693\n",
      "weighted avg       0.80      0.80      0.80      6693\n",
      "\n"
     ]
    }
   ],
   "source": [
    "# Separate features and target\n",
    "X = df.drop(columns=['datetime', 'target'])\n",
    "y = df['target']\n",
    "\n",
    "# Train the model\n",
    "model = train_model_stacking_lr(X, y, model_name = 'btc_10h_direction_v2')"
   ]
  },
  {
   "cell_type": "markdown",
   "metadata": {},
   "source": [
    "##### Observations\n",
    "\n",
    "1. **Improved Performance**: Your performance metrics have improved across all classes and overall after the feature reduction. This validates that your approach to feature selection was effective.\n",
    "  \n",
    "2. **Balanced Class-wise Metrics**: Your model appears to be balanced across classes after the feature reduction, showing no significant bias towards any specific class.\n",
    "\n",
    "3. **Overall Consistency**: All metrics such as precision, recall, F1-score, and accuracy have improved, suggesting that the model is likely more robust and generalizable than before.\n",
    "\n",
    "##### Next Steps\n",
    "\n",
    "- **Hyperparameter Tuning**: Experimenting with the model hyperparameters might yield even better results."
   ]
  },
  {
   "cell_type": "markdown",
   "metadata": {},
   "source": [
    "----"
   ]
  },
  {
   "cell_type": "markdown",
   "metadata": {},
   "source": [
    "### Experiment 2: Hyperparameter Tuning"
   ]
  },
  {
   "cell_type": "code",
   "execution_count": null,
   "metadata": {},
   "outputs": [],
   "source": [
    "from sklearn.model_selection import GridSearchCV\n",
    "\n",
    "# Function for hyperparameter tuning\n",
    "def tune_model_stacking_lr(X, y, random_state=55, cv_folds=5):\n",
    "    \n",
    "    # Data Preprocessing: Splitting and Scaling\n",
    "    X_train, X_test, y_train, y_test = train_test_split(X, y, test_size=0.3, random_state=random_state)\n",
    "    scaler = StandardScaler()\n",
    "    X_train_scaled = scaler.fit_transform(X_train)\n",
    "\n",
    "    # Data Augmentation: SMOTE\n",
    "    sm = SMOTE(random_state=random_state)\n",
    "    X_train_res, y_train_res = sm.fit_resample(X_train_scaled, y_train)\n",
    "\n",
    "    # Initialize base classifiers\n",
    "    knn = KNeighborsClassifier()\n",
    "    lgbm = lgb.LGBMClassifier()\n",
    "    rf = RandomForestClassifier()\n",
    "    dt = DecisionTreeClassifier()\n",
    "    \n",
    "    # Hyperparameter grid for each base classifier\n",
    "    knn_params = {'n_neighbors': [3, 5, 7], 'weights': ['uniform', 'distance']}\n",
    "    lgbm_params = {'learning_rate': [0.01, 0.1], 'n_estimators': [50, 100]}\n",
    "    rf_params = {'n_estimators': [10, 50], 'max_depth': [None, 10, 20]}\n",
    "    dt_params = {'criterion': ['gini', 'entropy'], 'max_depth': [None, 10, 20]}\n",
    "    lr_params = {'C': [0.1, 1, 10]}\n",
    "    \n",
    "    # Create grid for Stacking Classifier\n",
    "    param_grid = [\n",
    "        {\n",
    "            'knn__n_neighbors': knn_params['n_neighbors'],\n",
    "            'knn__weights': knn_params['weights'],\n",
    "            'lgbm__learning_rate': lgbm_params['learning_rate'],\n",
    "            'lgbm__n_estimators': lgbm_params['n_estimators'],\n",
    "            'bagging_rf__base_estimator__n_estimators': rf_params['n_estimators'],\n",
    "            'bagging_rf__base_estimator__max_depth': rf_params['max_depth'],\n",
    "            'bagging_dt__base_estimator__criterion': dt_params['criterion'],\n",
    "            'bagging_dt__base_estimator__max_depth': dt_params['max_depth'],\n",
    "            'final_estimator__C': lr_params['C']\n",
    "        }\n",
    "    ]\n",
    "    \n",
    "    # Initialize Bagging Classifiers\n",
    "    bagging_rf = BaggingClassifier(estimator=RandomForestClassifier(n_jobs=-1), n_estimators=10, random_state=random_state, n_jobs=-1)\n",
    "    bagging_dt = BaggingClassifier(estimator=DecisionTreeClassifier(), n_estimators=10, random_state=random_state, n_jobs=-1)\n",
    "\n",
    "    # Initialize base estimators for stacking\n",
    "    base_estimators = [\n",
    "        ('knn', knn),\n",
    "        ('lgbm', lgbm),\n",
    "        ('bagging_rf', bagging_rf),\n",
    "        ('bagging_dt', bagging_dt)\n",
    "    ]\n",
    "    \n",
    "    # Initialize Stacking Classifier\n",
    "    model = StackingClassifier(estimators=base_estimators, final_estimator=LogisticRegression(max_iter=10000), n_jobs=-1)\n",
    "    \n",
    "    # Initialize GridSearch\n",
    "    grid_search = GridSearchCV(estimator=model, param_grid=param_grid, \n",
    "                               cv=cv_folds, n_jobs=-1, verbose=2)\n",
    "    \n",
    "    # Perform hyperparameter search\n",
    "    grid_search.fit(X_train_res, y_train_res)\n",
    "    \n",
    "    return grid_search.best_params_, grid_search.best_estimator_\n",
    "\n",
    "# Run hyperparameter tuning\n",
    "best_params, best_model = tune_model_stacking_lr(X, y)\n",
    "print(f\"Best parameters: {best_params}\")\n"
   ]
  },
  {
   "cell_type": "markdown",
   "metadata": {},
   "source": [
    "The optimization has been running **more than 24 hours and still not finished**. I decided to stop the optimization and use the best parameters found so far."
   ]
  },
  {
   "cell_type": "markdown",
   "metadata": {},
   "source": [
    "##### Alternative ways to speed up the process:\n",
    "\n",
    "**1. Randomized Search**\n",
    "\n",
    "Instead of an exhaustive grid search, use a randomized search. It samples a fixed number of parameter combinations from the specified hyperparameter space. This can be more efficient and quicker.\n",
    "\n",
    "**2. Coarse-to-Fine Tuning**\n",
    "\n",
    "First perform a rough search over a wide range of parameter values, and then perform a more focused search around the best parameters found.\n",
    "\n",
    "**3. Parallelization**\n",
    "\n",
    "Increase the number of workers in the search, setting `n_jobs=-1` will use all available CPUs to perform the search.\n",
    "\n",
    "**4. Early Stopping**\n",
    "\n",
    "For algorithms that support it (e.g., gradient boosting, neural networks), you can set early stopping rules to halt the training process when it's clear the model is not improving.\n",
    "\n",
    "**5. Bayesian Optimization**\n",
    "\n",
    "This is a probabilistic model based optimization technique, and is more efficient than grid and random search. Libraries like `Hyperopt` or `Optuna` can be used for Bayesian Optimization.\n",
    "\n",
    "**6. Reduce Data Size**\n",
    "\n",
    "For a quicker run time, you can perform the hyperparameter tuning steps on a smaller subset of your data. Once the best parameters are found, you can use them to train the model on the complete dataset.\n",
    "\n",
    "**7. Incremental Training**\n",
    "\n",
    "If your model allows for incremental training (also known as \"warm starting\"), you can train it in chunks to allow for more iterative model updates.\n",
    "\n",
    "**8. Pre-emption**\n",
    "\n",
    "Some optimization frameworks allow you to preemptively halt the least promising trials before they complete, based on interim results.\n",
    "\n",
    "**9. Ensemble of Best Models**\n",
    "\n",
    "Instead of searching for one set of optimal parameters, you can train multiple models with different parameters and ensemble their predictions.\n",
    "\n",
    "**10. Checkpointing**\n",
    "\n",
    "Save the model and its best parameters periodically during training, so you can stop and restart the optimization process at will."
   ]
  },
  {
   "cell_type": "markdown",
   "metadata": {},
   "source": [
    "----"
   ]
  },
  {
   "cell_type": "markdown",
   "metadata": {},
   "source": [
    "### Experiment 3: Hyperparameter Tuning with Ensemble of Best Models Approach"
   ]
  },
  {
   "cell_type": "markdown",
   "metadata": {},
   "source": [
    "Long running times during hyperparameter optimization are common, especially when the parameter space is large and the model is complex. \n",
    "- I decide to use the ensemble of best models approach to spit the hyperparameter tuning into multiple runs. \n",
    "- Then I will stack the best models from each run to form the final model."
   ]
  },
  {
   "cell_type": "code",
   "execution_count": 10,
   "metadata": {},
   "outputs": [],
   "source": [
    "from sklearn.model_selection import train_test_split\n",
    "from sklearn.preprocessing import StandardScaler\n",
    "from imblearn.over_sampling import SMOTE\n",
    "import matplotlib.pyplot as plt\n",
    "import numpy as np\n",
    "\n",
    "\n",
    "df = get_features_v2_target_next_close()\n",
    "\n",
    "random_state=55\n",
    "\n",
    "# Separate features and target\n",
    "X = df.drop(columns=['datetime', 'target'])\n",
    "y = df['target']\n",
    "\n",
    "# Split the data into training and test sets\n",
    "X_train, X_test, y_train, y_test = train_test_split(X, y, test_size=0.3, random_state=random_state)\n",
    "\n",
    "# scaling\n",
    "scaler = StandardScaler()\n",
    "X_train_scaled = scaler.fit_transform(X_train)\n",
    "X_test_scaled = scaler.transform(X_test)\n",
    "\n",
    "# SMOTE\n",
    "sm = SMOTE(random_state=random_state)\n",
    "X_train_res, y_train_res = sm.fit_resample(X_train_scaled, y_train)"
   ]
  },
  {
   "cell_type": "markdown",
   "metadata": {},
   "source": [
    "Load modules"
   ]
  },
  {
   "cell_type": "code",
   "execution_count": 11,
   "metadata": {},
   "outputs": [],
   "source": [
    "from sklearn.ensemble import RandomForestClassifier, StackingClassifier\n",
    "from sklearn.neighbors import KNeighborsClassifier\n",
    "from sklearn.tree import DecisionTreeClassifier\n",
    "import lightgbm as lgb\n",
    "from sklearn.linear_model import LogisticRegression\n",
    "from sklearn.metrics import classification_report\n",
    "from sklearn.model_selection import GridSearchCV"
   ]
  },
  {
   "cell_type": "markdown",
   "metadata": {},
   "source": [
    "##### Step 1: Tune Each Base Model Separately and Save Best Parameters"
   ]
  },
  {
   "cell_type": "markdown",
   "metadata": {},
   "source": [
    "1.1 K-Nearest Neighbors"
   ]
  },
  {
   "cell_type": "code",
   "execution_count": 15,
   "metadata": {},
   "outputs": [
    {
     "name": "stdout",
     "output_type": "stream",
     "text": [
      "Best parameters for KNN: {'n_neighbors': 3, 'weights': 'distance'}\n"
     ]
    }
   ],
   "source": [
    "# Parameter grid for KNN\n",
    "param_grid_knn = {'n_neighbors': [3, 5, 7], 'weights': ['uniform', 'distance']}\n",
    "grid_knn = GridSearchCV(estimator=KNeighborsClassifier(), param_grid=param_grid_knn, n_jobs=-1, cv=5)\n",
    "grid_knn.fit(X_train_res, y_train_res)\n",
    "\n",
    "# Save best parameters\n",
    "best_params_knn = grid_knn.best_params_\n",
    "print(f\"Best parameters for KNN:\", best_params_knn)"
   ]
  },
  {
   "cell_type": "code",
   "execution_count": 16,
   "metadata": {},
   "outputs": [
    {
     "name": "stdout",
     "output_type": "stream",
     "text": [
      "\n",
      "Classification Report (Original Model):\n",
      "               precision    recall  f1-score   support\n",
      "\n",
      "        -1.0       0.65      0.82      0.73      1583\n",
      "         0.0       0.85      0.68      0.76      3534\n",
      "         1.0       0.70      0.82      0.76      1576\n",
      "\n",
      "    accuracy                           0.75      6693\n",
      "   macro avg       0.73      0.78      0.75      6693\n",
      "weighted avg       0.77      0.75      0.75      6693\n",
      "\n",
      "\n",
      "Classification Report (Best Model):\n",
      "               precision    recall  f1-score   support\n",
      "\n",
      "        -1.0       0.71      0.82      0.76      1583\n",
      "         0.0       0.84      0.74      0.78      3534\n",
      "         1.0       0.73      0.82      0.77      1576\n",
      "\n",
      "    accuracy                           0.78      6693\n",
      "   macro avg       0.76      0.79      0.77      6693\n",
      "weighted avg       0.78      0.78      0.78      6693\n",
      "\n"
     ]
    }
   ],
   "source": [
    "# predict with original model\n",
    "model = KNeighborsClassifier(n_jobs=-1)\n",
    "model.fit(X_train_res, y_train_res)\n",
    "y_pred = model.predict(X_test_scaled)\n",
    "\n",
    "# print original score\n",
    "print(\"\\nClassification Report (Original Model):\\n\", classification_report(y_test, y_pred))\n",
    "\n",
    "# predict with best model\n",
    "model = KNeighborsClassifier(**best_params_knn, n_jobs=-1)\n",
    "model.fit(X_train_res, y_train_res)\n",
    "y_pred = model.predict(X_test_scaled)\n",
    "\n",
    "# print best score\n",
    "print(\"\\nClassification Report (Best Model):\\n\", classification_report(y_test, y_pred))"
   ]
  },
  {
   "cell_type": "markdown",
   "metadata": {},
   "source": [
    "1.2 LightGBM"
   ]
  },
  {
   "cell_type": "code",
   "execution_count": 11,
   "metadata": {},
   "outputs": [
    {
     "name": "stdout",
     "output_type": "stream",
     "text": [
      "Best Parameters for RandomForest: {'learning_rate': 0.15, 'n_estimators': 250, 'num_leaves': 124}\n"
     ]
    }
   ],
   "source": [
    "# Suppress the DeprecationWarning temporarily\n",
    "warnings.filterwarnings(\"ignore\", category=DeprecationWarning)\n",
    "\n",
    "# Parameter grid for LightGBM\n",
    "param_grid_lgb = {'n_estimators': [50, 100, 150, 200, 250], 'learning_rate': [0.05, 0.1, 0.15], 'num_leaves': [31, 62, 124]}\n",
    "grid_lgb = GridSearchCV(lgb.LGBMClassifier(random_state=random_state, n_jobs=-1, verbose=-1), param_grid=param_grid_lgb, cv=5)\n",
    "grid_lgb.fit(X_train_res, y_train_res)\n",
    "\n",
    "# Save best parameters\n",
    "best_params_lgb = grid_lgb.best_params_\n",
    "print(\"Best Parameters for LightGBM:\", best_params_lgb)"
   ]
  },
  {
   "cell_type": "code",
   "execution_count": 13,
   "metadata": {},
   "outputs": [
    {
     "name": "stdout",
     "output_type": "stream",
     "text": [
      "\n",
      "Classification Report (Original Model):\n",
      "               precision    recall  f1-score   support\n",
      "\n",
      "        -1.0       0.65      0.74      0.69      1583\n",
      "         0.0       0.81      0.70      0.75      3534\n",
      "         1.0       0.66      0.77      0.71      1576\n",
      "\n",
      "    accuracy                           0.73      6693\n",
      "   macro avg       0.71      0.74      0.72      6693\n",
      "weighted avg       0.74      0.73      0.73      6693\n",
      "\n",
      "\n",
      "Classification Report (Best Model):\n",
      "               precision    recall  f1-score   support\n",
      "\n",
      "        -1.0       0.77      0.77      0.77      1583\n",
      "         0.0       0.82      0.82      0.82      3534\n",
      "         1.0       0.79      0.79      0.79      1576\n",
      "\n",
      "    accuracy                           0.80      6693\n",
      "   macro avg       0.79      0.79      0.79      6693\n",
      "weighted avg       0.80      0.80      0.80      6693\n",
      "\n"
     ]
    }
   ],
   "source": [
    "# predict with original model\n",
    "model = lgb.LGBMClassifier(random_state=random_state, n_jobs=-1, verbose=-1)\n",
    "model.fit(X_train_res, y_train_res)\n",
    "y_pred = model.predict(X_test_scaled)\n",
    "\n",
    "# print original score\n",
    "print(\"\\nClassification Report (Original Model):\\n\", classification_report(y_test, y_pred))\n",
    "\n",
    "# predict with best model\n",
    "model = lgb.LGBMClassifier(**best_params_lgb, random_state=random_state, n_jobs=-1, verbose=-1)\n",
    "model.fit(X_train_res, y_train_res)\n",
    "y_pred = model.predict(X_test_scaled)\n",
    "\n",
    "# print best score\n",
    "print(\"\\nClassification Report (Best Model):\\n\", classification_report(y_test, y_pred))\n",
    "\n",
    "# Re-enable warnings\n",
    "warnings.resetwarnings()"
   ]
  },
  {
   "cell_type": "markdown",
   "metadata": {},
   "source": [
    "1.3.1 Random Forest"
   ]
  },
  {
   "cell_type": "code",
   "execution_count": 17,
   "metadata": {},
   "outputs": [
    {
     "name": "stdout",
     "output_type": "stream",
     "text": [
      "Best Parameters for RandomForest: {'max_depth': 40, 'n_estimators': 300}\n"
     ]
    }
   ],
   "source": [
    "# Parameter grid for Random Forest\n",
    "param_grid_rf = {'n_estimators': [50, 100, 150, 200, 250, 300, 350], 'max_depth': [None, 10, 20, 30, 40, 50]}\n",
    "grid_rf = GridSearchCV(RandomForestClassifier(random_state=random_state, n_jobs=-1), param_grid=param_grid_rf, cv=5)\n",
    "grid_rf.fit(X_train_res, y_train_res)\n",
    "\n",
    "# Save best parameters\n",
    "best_params_rf = grid_rf.best_params_\n",
    "print(\"Best Parameters for Random Forest:\", best_params_rf)"
   ]
  },
  {
   "cell_type": "code",
   "execution_count": 19,
   "metadata": {},
   "outputs": [
    {
     "name": "stdout",
     "output_type": "stream",
     "text": [
      "\n",
      "Classification Report (Original Model):\n",
      "               precision    recall  f1-score   support\n",
      "\n",
      "        -1.0       0.77      0.79      0.78      1583\n",
      "         0.0       0.82      0.82      0.82      3534\n",
      "         1.0       0.80      0.79      0.80      1576\n",
      "\n",
      "    accuracy                           0.81      6693\n",
      "   macro avg       0.80      0.80      0.80      6693\n",
      "weighted avg       0.81      0.81      0.81      6693\n",
      "\n",
      "\n",
      "Classification Report (Best Model):\n",
      "               precision    recall  f1-score   support\n",
      "\n",
      "        -1.0       0.78      0.80      0.79      1583\n",
      "         0.0       0.83      0.82      0.83      3534\n",
      "         1.0       0.80      0.81      0.81      1576\n",
      "\n",
      "    accuracy                           0.81      6693\n",
      "   macro avg       0.80      0.81      0.81      6693\n",
      "weighted avg       0.81      0.81      0.81      6693\n",
      "\n"
     ]
    }
   ],
   "source": [
    "# predict with original model\n",
    "model = RandomForestClassifier(random_state=random_state, n_jobs=-1)\n",
    "model.fit(X_train_res, y_train_res)\n",
    "y_pred = model.predict(X_test_scaled)\n",
    "\n",
    "# print original score\n",
    "print(\"\\nClassification Report (Original Model):\\n\", classification_report(y_test, y_pred))\n",
    "\n",
    "# predict with best model\n",
    "model = RandomForestClassifier(**best_params_rf, random_state=random_state, n_jobs=-1)\n",
    "model.fit(X_train_res, y_train_res)\n",
    "y_pred = model.predict(X_test_scaled)\n",
    "\n",
    "# print best score\n",
    "print(\"\\nClassification Report (Best Model):\\n\", classification_report(y_test, y_pred))"
   ]
  },
  {
   "cell_type": "markdown",
   "metadata": {},
   "source": [
    "1.3.2 Bagging Random Forest"
   ]
  },
  {
   "cell_type": "code",
   "execution_count": 21,
   "metadata": {},
   "outputs": [
    {
     "name": "stdout",
     "output_type": "stream",
     "text": [
      "Best Parameters for BaggingForest: {'n_estimators': 100}\n"
     ]
    }
   ],
   "source": [
    "# Parameter grid for Bagging Random Forest\n",
    "param_grid_bf = {'n_estimators': [10, 25, 50, 100]}\n",
    "# Reuse the best parameters for RandomForest\n",
    "grid_bf = GridSearchCV(BaggingClassifier(\n",
    "        estimator=RandomForestClassifier(**best_params_rf, random_state=random_state), \n",
    "        random_state=random_state, n_jobs=-1), param_grid=param_grid_bf, cv=5)\n",
    "\n",
    "grid_bf.fit(X_train_res, y_train_res)\n",
    "\n",
    "# Save best parameters\n",
    "best_params_bf = grid_bf.best_params_\n",
    "print(\"Best Parameters for Bagging Random Forest:\", best_params_bf)"
   ]
  },
  {
   "cell_type": "code",
   "execution_count": 22,
   "metadata": {},
   "outputs": [
    {
     "name": "stdout",
     "output_type": "stream",
     "text": [
      "\n",
      "Classification Report (Original Model):\n",
      "               precision    recall  f1-score   support\n",
      "\n",
      "        -1.0       0.75      0.79      0.77      1583\n",
      "         0.0       0.83      0.79      0.81      3534\n",
      "         1.0       0.78      0.82      0.80      1576\n",
      "\n",
      "    accuracy                           0.80      6693\n",
      "   macro avg       0.79      0.80      0.79      6693\n",
      "weighted avg       0.80      0.80      0.80      6693\n",
      "\n",
      "\n",
      "Classification Report (Best Model):\n",
      "               precision    recall  f1-score   support\n",
      "\n",
      "        -1.0       0.75      0.79      0.77      1583\n",
      "         0.0       0.83      0.80      0.81      3534\n",
      "         1.0       0.78      0.82      0.80      1576\n",
      "\n",
      "    accuracy                           0.80      6693\n",
      "   macro avg       0.79      0.80      0.79      6693\n",
      "weighted avg       0.80      0.80      0.80      6693\n",
      "\n"
     ]
    }
   ],
   "source": [
    "# predict with original model\n",
    "model = BaggingClassifier(estimator=RandomForestClassifier(random_state=random_state), n_estimators=10, random_state=random_state, n_jobs=-1)\n",
    "model.fit(X_train_res, y_train_res)\n",
    "y_pred = model.predict(X_test_scaled)\n",
    "\n",
    "# print original score\n",
    "print(\"\\nClassification Report (Original Model):\\n\", classification_report(y_test, y_pred))\n",
    "\n",
    "# predict with best model\n",
    "model = BaggingClassifier(estimator=RandomForestClassifier(**best_params_rf, random_state=random_state), **best_params_bf, random_state=random_state, n_jobs=-1)\n",
    "model.fit(X_train_res, y_train_res)\n",
    "y_pred = model.predict(X_test_scaled)\n",
    "\n",
    "# print best score\n",
    "print(\"\\nClassification Report (Best Model):\\n\", classification_report(y_test, y_pred))\n",
    "\n",
    "# Re-enable warnings\n",
    "warnings.resetwarnings()"
   ]
  },
  {
   "cell_type": "markdown",
   "metadata": {},
   "source": [
    "NOTE: \n",
    "- The best parameters for Random Forest and Bagging Random Forest are the same.\n",
    "- We will use the simpliest model and best accuracy, **Random Forest**, for the base model."
   ]
  },
  {
   "cell_type": "markdown",
   "metadata": {},
   "source": [
    "1.4.1 Decision Tree"
   ]
  },
  {
   "cell_type": "code",
   "execution_count": 27,
   "metadata": {},
   "outputs": [
    {
     "name": "stdout",
     "output_type": "stream",
     "text": [
      "Best Parameters for DecisionTreeClassifier: {'class_weight': 'balanced', 'criterion': 'entropy', 'max_depth': None, 'max_features': 'sqrt', 'min_samples_split': 2, 'splitter': 'best'}\n"
     ]
    }
   ],
   "source": [
    "# Parameter grid for Decision Tree\n",
    "param_grid_dt = {'max_depth': [None, 10, 20, 30, 40, 50], 'min_samples_split': [2, 3, 5, 10, 20], 'max_features': ['sqrt', 'log2'], 'class_weight': ['balanced', None], 'criterion': ['gini', 'entropy'], 'splitter': ['best', 'random']}\n",
    "grid_dt = GridSearchCV(DecisionTreeClassifier(random_state=random_state), param_grid=param_grid_dt, cv=5, n_jobs=-1)\n",
    "grid_dt.fit(X_train, y_train)\n",
    "\n",
    "# Save best parameters\n",
    "best_params_dt = grid_dt.best_params_\n",
    "print(\"Best Parameters for Decision Tree:\", best_params_dt)"
   ]
  },
  {
   "cell_type": "code",
   "execution_count": 28,
   "metadata": {},
   "outputs": [
    {
     "name": "stdout",
     "output_type": "stream",
     "text": [
      "\n",
      "Classification Report (Original Model):\n",
      "               precision    recall  f1-score   support\n",
      "\n",
      "        -1.0       0.61      0.66      0.63      1583\n",
      "         0.0       0.75      0.70      0.72      3534\n",
      "         1.0       0.63      0.66      0.65      1576\n",
      "\n",
      "    accuracy                           0.68      6693\n",
      "   macro avg       0.66      0.67      0.67      6693\n",
      "weighted avg       0.69      0.68      0.68      6693\n",
      "\n",
      "\n",
      "Classification Report (Best Model):\n",
      "               precision    recall  f1-score   support\n",
      "\n",
      "        -1.0       0.62      0.66      0.64      1583\n",
      "         0.0       0.75      0.71      0.73      3534\n",
      "         1.0       0.65      0.68      0.66      1576\n",
      "\n",
      "    accuracy                           0.69      6693\n",
      "   macro avg       0.67      0.68      0.68      6693\n",
      "weighted avg       0.70      0.69      0.69      6693\n",
      "\n"
     ]
    }
   ],
   "source": [
    "# predict with original model\n",
    "model = DecisionTreeClassifier(random_state=random_state)\n",
    "model.fit(X_train_res, y_train_res)\n",
    "y_pred = model.predict(X_test_scaled)\n",
    "\n",
    "# print original score\n",
    "print(\"\\nClassification Report (Original Model):\\n\", classification_report(y_test, y_pred))\n",
    "\n",
    "# predict with best model\n",
    "model = DecisionTreeClassifier(**best_params_dt, random_state=random_state)\n",
    "model.fit(X_train_res, y_train_res)\n",
    "y_pred = model.predict(X_test_scaled)\n",
    "\n",
    "# print best score\n",
    "print(\"\\nClassification Report (Best Model):\\n\", classification_report(y_test, y_pred))"
   ]
  },
  {
   "cell_type": "markdown",
   "metadata": {},
   "source": [
    "1.4.2 Bagging Decision Tree"
   ]
  },
  {
   "cell_type": "code",
   "execution_count": 32,
   "metadata": {},
   "outputs": [
    {
     "name": "stdout",
     "output_type": "stream",
     "text": [
      "Best Parameters for BaggingTree: {'bootstrap': False, 'bootstrap_features': False, 'max_features': 1.0, 'max_samples': 1.0, 'n_estimators': 200, 'warm_start': True}\n"
     ]
    }
   ],
   "source": [
    "# Parameter grid for Bagging Decision Tree\n",
    "param_grid_bt = {'n_estimators': [10, 25, 50, 100, 150, 200], 'max_samples': [0.1, 0.5, 1.0], 'max_features': [0.1, 0.5, 1.0], 'bootstrap_features': [True, False], 'bootstrap': [True, False], 'warm_start': [True, False]}\n",
    "# Reuse the best parameters for DecisionTreeClassifier\n",
    "grid_bt = GridSearchCV(BaggingClassifier(\n",
    "        estimator=DecisionTreeClassifier(**best_params_dt, random_state=random_state), \n",
    "        random_state=random_state, n_jobs=-1), param_grid=param_grid_bt, cv=5)\n",
    "\n",
    "grid_bt.fit(X_train_res, y_train_res)\n",
    "\n",
    "# Save best parameters\n",
    "best_params_bt = grid_bt.best_params_\n",
    "print(\"Best Parameters for Bagging Decision Tree:\", best_params_bt)"
   ]
  },
  {
   "cell_type": "code",
   "execution_count": 33,
   "metadata": {},
   "outputs": [
    {
     "name": "stdout",
     "output_type": "stream",
     "text": [
      "\n",
      "Classification Report (Original Model):\n",
      "               precision    recall  f1-score   support\n",
      "\n",
      "        -1.0       0.70      0.77      0.73      1583\n",
      "         0.0       0.80      0.78      0.79      3534\n",
      "         1.0       0.77      0.73      0.75      1576\n",
      "\n",
      "    accuracy                           0.76      6693\n",
      "   macro avg       0.75      0.76      0.76      6693\n",
      "weighted avg       0.77      0.76      0.76      6693\n",
      "\n",
      "\n",
      "Classification Report (Best Model):\n",
      "               precision    recall  f1-score   support\n",
      "\n",
      "        -1.0       0.79      0.79      0.79      1583\n",
      "         0.0       0.83      0.84      0.83      3534\n",
      "         1.0       0.82      0.80      0.81      1576\n",
      "\n",
      "    accuracy                           0.82      6693\n",
      "   macro avg       0.81      0.81      0.81      6693\n",
      "weighted avg       0.81      0.82      0.81      6693\n",
      "\n"
     ]
    }
   ],
   "source": [
    "# predict with original model\n",
    "model = BaggingClassifier(estimator=DecisionTreeClassifier(), n_estimators=10, random_state=random_state, n_jobs=-1)\n",
    "model.fit(X_train_res, y_train_res)\n",
    "y_pred = model.predict(X_test_scaled)\n",
    "\n",
    "# print original score\n",
    "print(\"\\nClassification Report (Original Model):\\n\", classification_report(y_test, y_pred))\n",
    "\n",
    "# predict with best model\n",
    "model = BaggingClassifier(estimator=DecisionTreeClassifier(**best_params_dt, random_state=random_state), **best_params_bt, random_state=random_state, n_jobs=-1)\n",
    "model.fit(X_train_res, y_train_res)\n",
    "y_pred = model.predict(X_test_scaled)\n",
    "\n",
    "# print best score\n",
    "print(\"\\nClassification Report (Best Model):\\n\", classification_report(y_test, y_pred))"
   ]
  },
  {
   "cell_type": "markdown",
   "metadata": {},
   "source": [
    "Hyperparameter tuning results for each base model:\n",
    "- Best parameters for KNN: {'n_neighbors': 3, 'weights': 'distance'}\n",
    "- Best Parameters for LightGBM: {'learning_rate': 0.15, 'n_estimators': 250, 'num_leaves': 124}\n",
    "- Best Parameters for Random Forest: {'max_depth': 40, 'n_estimators': 300} _(replace Bagging Random Forest)_\n",
    "- Best Parameters for Decision Tree: {'class_weight': 'balanced', 'criterion': 'entropy', 'max_depth': None, 'max_features': 'sqrt', 'min_samples_split': 2, 'splitter': 'best'} _(base for Bagging Decision Tree)_\n",
    "- Best Parameters for Bagging Decision Tree: {'bootstrap': False, 'bootstrap_features': False, 'max_features': 1.0, 'max_samples': 1.0, 'n_estimators': 200, 'warm_start': True}"
   ]
  },
  {
   "cell_type": "markdown",
   "metadata": {},
   "source": [
    "##### Step 2: Create base Models Using best parameters"
   ]
  },
  {
   "cell_type": "code",
   "execution_count": 35,
   "metadata": {},
   "outputs": [],
   "source": [
    "# Initialize base models with best hyperparameters\n",
    "knn_best = KNeighborsClassifier(n_neighbors=3, weights='distance', n_jobs=-1)\n",
    "lgbm_best = lgb.LGBMClassifier(learning_rate=0.15, n_estimators=250, num_leaves=124, random_state=random_state, n_jobs=-1, verbose=-1)\n",
    "rf_best = RandomForestClassifier(max_depth=40, n_estimators=300, random_state=random_state, n_jobs=-1)\n",
    "\n",
    "dt_best = DecisionTreeClassifier(\n",
    "    class_weight='balanced',\n",
    "    criterion='entropy',\n",
    "    max_depth=None,\n",
    "    max_features='sqrt',\n",
    "    min_samples_split=2,\n",
    "    splitter='best',\n",
    "    random_state=random_state\n",
    ")\n",
    "\n",
    "# Best Bagging Decision Tree\n",
    "bagging_dt_best = BaggingClassifier(\n",
    "    estimator=dt_best,\n",
    "    n_estimators=200,\n",
    "    bootstrap=False,\n",
    "    bootstrap_features=False,\n",
    "    max_features=1.0,\n",
    "    max_samples=1.0,\n",
    "    warm_start=True,\n",
    "    random_state=random_state,\n",
    "    n_jobs=-1\n",
    ")\n",
    "\n",
    "# Base estimators for stacking\n",
    "base_estimators = [\n",
    "    ('knn_best', knn_best),\n",
    "    ('lgbm_best', lgbm_best),\n",
    "    ('rf_best', rf_best),\n",
    "    ('bagging_dt_best', bagging_dt_best),\n",
    "]"
   ]
  },
  {
   "cell_type": "markdown",
   "metadata": {},
   "source": [
    "##### Step 3: Tune Stacking Classifier using base models with best parameters "
   ]
  },
  {
   "cell_type": "markdown",
   "metadata": {},
   "source": [
    "3.1 Stacking Classifier with Logistic Regression as Final Estimator"
   ]
  },
  {
   "cell_type": "code",
   "execution_count": null,
   "metadata": {},
   "outputs": [],
   "source": [
    "from sklearn.model_selection import GridSearchCV\n",
    "\n",
    "# Parameter grid for Logistic Regression\n",
    "param_grid_stack_lr = {\n",
    "    'final_estimator__C': [0.001, 0.01, 0.1, 1, 10, 100],\n",
    "    'final_estimator__penalty': ['l1', 'l2'],\n",
    "    'final_estimator__solver': ['liblinear', 'saga']\n",
    "}\n",
    "\n",
    "# Initialize the Stacking Classifier with the base estimators\n",
    "stacking_model = StackingClassifier(estimators=base_estimators, final_estimator=LogisticRegression(max_iter=10000), n_jobs=-1)\n",
    "\n",
    "# Initialize GridSearchCV\n",
    "grid_search = GridSearchCV(stacking_model, param_grid=param_grid_stack_lr, cv=5, scoring='accuracy', n_jobs=-1, verbose=2)\n",
    "\n",
    "# Fit the model (this will take some time because of the complexity of the stacked model)\n",
    "grid_search.fit(X_train_res, y_train_res)\n",
    "\n",
    "# Save best parameters\n",
    "best_params_stack_lr = grid_bt.best_params_\n",
    "print(\"Best Parameters for Final Estimator in Stacking Logistic Regression:\", best_params_stack_lr)\n",
    "\n",
    "# # You can also fit the stacking model with the best parameters directly\n",
    "# best_stacking_model = grid_search.best_estimator_\n",
    "\n",
    "# # Evaluate the best model\n",
    "# y_pred = best_stacking_model.predict(X_test_scaled)\n",
    "# print(classification_report(y_test, y_pred))\n"
   ]
  },
  {
   "cell_type": "code",
   "execution_count": null,
   "metadata": {},
   "outputs": [],
   "source": [
    "# predict with original model + best base parameters\n",
    "model = StackingClassifier(estimators=base_estimators, final_estimator=LogisticRegression(max_iter=10000), n_jobs=-1)\n",
    "model.fit(X_train_res, y_train_res)\n",
    "y_pred = model.predict(X_test_scaled)\n",
    "\n",
    "# print original score\n",
    "print(\"\\nClassification Report (Original Model + best base parameters):\\n\", classification_report(y_test, y_pred))"
   ]
  },
  {
   "cell_type": "markdown",
   "metadata": {},
   "source": [
    "----"
   ]
  },
  {
   "cell_type": "markdown",
   "metadata": {},
   "source": [
    "----"
   ]
  },
  {
   "cell_type": "markdown",
   "metadata": {},
   "source": [
    "----"
   ]
  },
  {
   "cell_type": "markdown",
   "metadata": {},
   "source": [
    "### Experiment 1: Improvement with Feature Engineering"
   ]
  },
  {
   "cell_type": "markdown",
   "metadata": {},
   "source": [
    "Potential improvements based on feature engineering:\n",
    "\n",
    "1. **Feature Selection**: \n",
    "    - Eliminate redundant or less important features using methods like feature importance, Recursive Feature Elimination (RFE), or correlation matrices.\n",
    "   \n",
    "2. **Lagged Features**: \n",
    "    - Add past values (lags) of selected features such as closing prices or volumes from recent periods.\n",
    "   \n",
    "3. **Additional Moving Averages**: \n",
    "    - Incorporate Simple Moving Averages (SMA) and Weighted Moving Averages (WMA).\n",
    "   \n",
    "4. **Price Channels**: \n",
    "    - Calculate the range between the highest high and the lowest low for a set period.\n",
    "   \n",
    "5. **Volume-based Indicators**: \n",
    "    - Add more volume indicators, e.g., On-Balance Volume (OBV).\n",
    "   \n",
    "6. **Sentiment Analysis**: \n",
    "    - If available, use news data or financial reports to derive sentiment scores.\n",
    "   \n",
    "7. **Trend Detection**: \n",
    "    - Introduce indicators like MACD or Bollinger Bands for trend and breakout detection.\n",
    "   \n",
    "8. **Feature Transformation**: \n",
    "    - Consider generating polynomial features or interaction terms between significant features.\n",
    "   \n",
    "9. **Domain-Specific Features**: \n",
    "    - Incorporate features based on domain-specific events such as financial reports or product launches.\n",
    "   \n",
    "10. **Rolling Window Statistics**: \n",
    "    - Add features capturing statistics over rolling windows, such as mean, median, or standard deviation over the past 'n' periods.\n",
    "   \n",
    "11. **External Data**: \n",
    "    - Integrate external data points like geopolitical events, interest rates, or inflation rates if they are relevant and available."
   ]
  },
  {
   "cell_type": "code",
   "execution_count": 156,
   "metadata": {},
   "outputs": [
    {
     "name": "stdout",
     "output_type": "stream",
     "text": [
      "               datetime      open      high       low     close       volume  \\\n",
      "598 2021-01-25 22:00:00  32715.53  32732.99  31910.00  32462.36  3761.903244   \n",
      "599 2021-01-25 23:00:00  32462.38  32650.00  32201.44  32254.20  2777.021592   \n",
      "600 2021-01-26 00:00:00  32254.19  32793.01  31758.00  32474.33  3799.041198   \n",
      "601 2021-01-26 01:00:00  32474.34  32827.33  32210.01  32758.85  2324.035401   \n",
      "602 2021-01-26 02:00:00  32754.20  32765.41  32230.29  32307.97  2168.256682   \n",
      "\n",
      "     high_ema_4  high_rsi_4  high_trix_4  high_sd_4  ...  volume_sd_200  \\\n",
      "598   -1.716759    8.849644    -0.469483   1.183593  ...      60.338045   \n",
      "599   -1.188915    8.175968    -0.579663   1.194198  ...      81.760970   \n",
      "600   -0.455044   21.845644    -0.576277   0.987855  ...      59.764852   \n",
      "601   -0.210814   25.399214    -0.506497   0.205008  ...      97.677414   \n",
      "602   -0.239807   22.894982    -0.426357   0.203295  ...     104.561341   \n",
      "\n",
      "     volume_roc_200  volume_var_200  price_atr_200  price_interact_200  \\\n",
      "598       32.042845    5.152259e+06       2.221715          -14.625976   \n",
      "599      -36.031537    5.155260e+06       2.231827          -21.702496   \n",
      "600        6.151413    5.155131e+06       2.221551          -21.254959   \n",
      "601        6.027223    5.153162e+06       2.200667          -18.903438   \n",
      "602       46.054137    5.140007e+06       2.228503          -21.053520   \n",
      "\n",
      "     pv_interact_200  price_adx_200    mfi_200  price_dx_200  target  \n",
      "598      -210.944150      11.517027  45.237289     13.820209      -1  \n",
      "599       350.374052      11.528543  45.097567     13.820209      -1  \n",
      "600       -58.854400      11.543267  44.596663     14.473271       0  \n",
      "601       -51.773048      11.557579  44.903071     14.405836      -1  \n",
      "602      -435.090992      11.571821  44.872249     14.405836      -1  \n",
      "\n",
      "[5 rows x 187 columns]\n",
      "                 datetime      open      high       low     close      volume  \\\n",
      "23126 2023-08-23 04:00:00  26006.32  26062.00  25976.72  26050.01   903.41765   \n",
      "23127 2023-08-23 05:00:00  26050.02  26053.53  25991.10  26042.01   967.31063   \n",
      "23128 2023-08-23 06:00:00  26042.00  26183.91  26038.31  26064.00  1927.97125   \n",
      "23129 2023-08-23 07:00:00  26063.99  26132.47  26014.70  26057.13  1267.75092   \n",
      "23130 2023-08-23 08:00:00  26057.12  26096.00  26027.49  26037.99   643.97550   \n",
      "\n",
      "       high_ema_4  high_rsi_4  high_trix_4  high_sd_4  ...  volume_sd_200  \\\n",
      "23126   -0.034995   50.842936     0.046598   0.041050  ...     237.295343   \n",
      "23127   -0.040501   48.073656     0.028555   0.056459  ...     221.455793   \n",
      "23128    0.275330   75.482144     0.046929   0.200284  ...     111.036649   \n",
      "23129    0.046985   59.078051     0.051039   0.204682  ...     168.715224   \n",
      "23130   -0.055604   49.009600     0.038399   0.183623  ...     332.044666   \n",
      "\n",
      "       volume_roc_200  volume_var_200  price_atr_200  price_interact_200  \\\n",
      "23126       57.836892    4.595741e+06       0.449241           -5.120012   \n",
      "23127      188.503413    4.588873e+06       0.448331           -5.127644   \n",
      "23128      206.942837    4.582831e+06       0.448506           -5.140495   \n",
      "23129      219.912444    4.574845e+06       0.448641           -5.142972   \n",
      "23130       49.218340    4.572268e+06       0.448041           -5.169211   \n",
      "\n",
      "       pv_interact_200  price_adx_200    mfi_200  price_dx_200  target  \n",
      "23126      -659.168519      20.404216  36.467037     32.043159       0  \n",
      "23127     -2155.948973      20.462410  36.303026     32.043159       0  \n",
      "23128     -2371.849757      20.511978  36.517556     30.375922       0  \n",
      "23129     -2520.955346      20.562096  36.435093     30.535548       0  \n",
      "23130      -567.849251      20.611963  36.419415     30.535548       0  \n",
      "\n",
      "[5 rows x 187 columns]\n"
     ]
    }
   ],
   "source": [
    "import pandas as pd\n",
    "import warnings\n",
    "\n",
    "# Ref from data exploration\n",
    "def remove_outlier(df, iqr_threshold = 5):\n",
    "    \n",
    "    # Calculate the first quartile (25th percentile) and third quartile (75th percentile)\n",
    "    q1 = df['volume'].quantile(0.25)\n",
    "    q3 = df['volume'].quantile(0.75)\n",
    "\n",
    "    # Calculate the interquartile range (IQR)\n",
    "    iqr = q3 - q1\n",
    "\n",
    "    # Define lower and upper bounds for outliers\n",
    "    lower_bound = q1 - iqr_threshold * iqr\n",
    "    upper_bound = q3 + iqr_threshold * iqr\n",
    "\n",
    "    lower_bound = 0 if lower_bound < 0 else lower_bound\n",
    "\n",
    "    # remove outliers from df\n",
    "    df = df[(df['volume'] > lower_bound) & (df['volume'] < upper_bound)]\n",
    "    \n",
    "    return df\n",
    "\n",
    "def read_hist_data(name = 'BTC', timeframe = '1h'):\n",
    "    file_path = f\"./data/{name}_USDT-{timeframe}.json\"\n",
    "    df = pd.read_json(file_path)\n",
    "\n",
    "    # set column names\n",
    "    df.columns = ['datetime', 'open', 'high', 'low', 'close', 'volume']\n",
    "\n",
    "    # convert unix timestamp to datetime\n",
    "    df['datetime'] = pd.to_datetime(df['datetime'], unit='ms')\n",
    "    \n",
    "    df = remove_outlier(df)\n",
    "    return df\n",
    "\n",
    "import talib\n",
    "import numpy as np\n",
    "import warnings\n",
    "\n",
    "\n",
    "\n",
    "def get_features(df):\n",
    "    # df = read_hist_data()\n",
    "\n",
    "    # List of periods\n",
    "    periods = [4, 12, 24, 48, 100, 200]\n",
    "    inputs = ['high', 'low', 'close', 'volume']\n",
    "\n",
    "    \n",
    "    # loop periods and inputs\n",
    "    for period in periods:\n",
    "        for input in inputs:\n",
    "            # Generate indicators\n",
    "\n",
    "            # % of ema\n",
    "            pct_ema = talib.EMA(df[input].values, timeperiod=period)\n",
    "            df[f'{input}_ema_{period}'] = (df[input] - pct_ema) / pct_ema * 100\n",
    "\n",
    "            # RSI\n",
    "            df[f'{input}_rsi_{period}'] = talib.RSI(df[input].values, timeperiod=period)\n",
    "\n",
    "            # TRIX\n",
    "            df[f'{input}_trix_{period}'] = talib.TRIX(df[input].values, timeperiod=period)\n",
    "\n",
    "            # SD\n",
    "            pct_sd = talib.STDDEV(df[input].values, timeperiod=period)\n",
    "            df[f'{input}_sd_{period}'] = pct_sd / df[input] * 100\n",
    "\n",
    "            # ROC\n",
    "            df[f'{input}_roc_{period}'] = talib.ROC(df[input].values, timeperiod=period)\n",
    "\n",
    "            # VAR\n",
    "            df[f'{input}_var_{period}'] = talib.VAR(df[input].values, timeperiod=period)\n",
    "\n",
    "        \n",
    "        # Multiple inputs indicators\n",
    "        # ATR\n",
    "        pct_atr = talib.ATR(df['high'].values, df['low'].values, df['close'].values, timeperiod=period)\n",
    "        df[f'price_atr_{period}'] = pct_atr / df['close'] * 100\n",
    "\n",
    "        # Price interaction Features:\n",
    "        df[f'price_interact_{period}'] = df[f'close_roc_{period}'] * df[f'price_atr_{period}']\n",
    "\n",
    "        # Price volume interaction:\n",
    "        df[f'pv_interact_{period}'] = df[f'close_roc_{period}'] * df[f'volume_roc_{period}']\n",
    "\n",
    "        # ADX\n",
    "        df[f'price_adx_{period}'] = talib.ADX(df['high'].values, df['low'].values, df['close'].values, timeperiod=period)\n",
    "\n",
    "        # MFI\n",
    "        df[f'mfi_{period}'] = talib.MFI(df['high'].values, df['low'].values, df['close'].values, df['volume'].values, timeperiod=period)\n",
    "\n",
    "        # DX\n",
    "        df[f'price_dx_{period}'] = talib.DX(df['high'].values, df['low'].values, df['close'].values, timeperiod=period)\n",
    "\n",
    "    return df\n",
    "\n",
    "# to predict if the price will go up (+1%) or down (-1%) in the next 10 periods\n",
    "def get_target_next_close(df, target_shift = 10):\n",
    "    # df = get_features()\n",
    "\n",
    "    target_treshold = 0.01\n",
    "    conditions = [\n",
    "        (df['close'].shift(target_shift * -1) > df['close'] * (1+target_treshold )),\n",
    "        (df['close'].shift(target_shift * -1) < df['close'] * (1-target_treshold)),\n",
    "        (df['close'].shift(target_shift * -1) >= df['close'] * (1-target_treshold)) & \n",
    "        (df['close'].shift(target_shift * -1) <= df['close'] * (1+target_treshold))\n",
    "    ]\n",
    "    values = [1, -1, 0]\n",
    "    df['target'] = np.select(conditions, values)\n",
    "    df = df.dropna()\n",
    "    return df\n",
    "\n",
    "def get_features_target_next_close():\n",
    "\n",
    "    # Disable the PerformanceWarning temporarily\n",
    "    warnings.filterwarnings(\"ignore\", category=pd.errors.PerformanceWarning)\n",
    "\n",
    "    df = read_hist_data()\n",
    "    df = get_features(df)\n",
    "    df = get_target_next_close(df)\n",
    "\n",
    "    # Re-enable warnings\n",
    "    warnings.resetwarnings()\n",
    "\n",
    "    return df\n",
    "\n",
    "df = get_features_target_next_close()\n",
    "\n",
    "print(df.head(5))\n",
    "print(df.tail(5))"
   ]
  },
  {
   "cell_type": "markdown",
   "metadata": {},
   "source": [
    "#### Feature Selection"
   ]
  },
  {
   "cell_type": "markdown",
   "metadata": {},
   "source": [
    "We use the `feature_importances_` attribute of the RandomForestClassifier to rank the features in previous experiments. We can use this information to eliminate redundant or less important features."
   ]
  },
  {
   "cell_type": "markdown",
   "metadata": {},
   "source": [
    "- Change periods to factor of 6 hour\n",
    "- Remove high, low in general indicators since it is highly correlated with close.\n",
    "- Remove EMA, RSI and TRIX since they score low in feature importance."
   ]
  },
  {
   "cell_type": "code",
   "execution_count": 4,
   "metadata": {},
   "outputs": [],
   "source": [
    "def get_features_v2(df):\n",
    "    # df = read_hist_data()\n",
    "\n",
    "    # List of periods\n",
    "    periods = [6, 12, 24, 48, 96, 192]\n",
    "    inputs = ['close', 'volume']\n",
    "\n",
    "    \n",
    "    # loop periods and inputs\n",
    "    for period in periods:\n",
    "        for input in inputs:\n",
    "            # Generate indicators\n",
    "\n",
    "            # SD\n",
    "            pct_sd = talib.STDDEV(df[input].values, timeperiod=period)\n",
    "            df[f'{input}_sd_{period}'] = pct_sd / df[input] * 100\n",
    "\n",
    "            # ROC\n",
    "            df[f'{input}_roc_{period}'] = talib.ROC(df[input].values, timeperiod=period)\n",
    "\n",
    "            # VAR\n",
    "            df[f'{input}_var_{period}'] = talib.VAR(df[input].values, timeperiod=period)\n",
    "\n",
    "        \n",
    "        # Multiple inputs indicators\n",
    "        # ATR\n",
    "        pct_atr = talib.ATR(df['high'].values, df['low'].values, df['close'].values, timeperiod=period)\n",
    "        df[f'price_atr_{period}'] = pct_atr / df['close'] * 100\n",
    "\n",
    "        # Price interaction Features:\n",
    "        df[f'price_interact_{period}'] = df[f'close_roc_{period}'] * df[f'price_atr_{period}']\n",
    "\n",
    "        # Price volume interaction:\n",
    "        df[f'pv_interact_{period}'] = df[f'close_roc_{period}'] * df[f'volume_roc_{period}']\n",
    "\n",
    "        # ADX\n",
    "        df[f'price_adx_{period}'] = talib.ADX(df['high'].values, df['low'].values, df['close'].values, timeperiod=period)\n",
    "\n",
    "        # MFI\n",
    "        df[f'mfi_{period}'] = talib.MFI(df['high'].values, df['low'].values, df['close'].values, df['volume'].values, timeperiod=period)\n",
    "\n",
    "        # DX\n",
    "        df[f'price_dx_{period}'] = talib.DX(df['high'].values, df['low'].values, df['close'].values, timeperiod=period)\n",
    "\n",
    "  \n",
    "    \n",
    "    return df\n",
    "\n",
    "def get_features_v2_target_next_close():\n",
    "\n",
    "    # Disable the PerformanceWarning temporarily\n",
    "    warnings.filterwarnings(\"ignore\", category=pd.errors.PerformanceWarning)\n",
    "\n",
    "    df = read_hist_data()\n",
    "    df = get_features_v2(df)\n",
    "    df = get_target_next_close(df)\n",
    "\n",
    "    # Re-enable warnings\n",
    "    warnings.resetwarnings()\n",
    "\n",
    "    return df\n",
    "\n",
    "df = get_features_v2_target_next_close()"
   ]
  },
  {
   "cell_type": "code",
   "execution_count": null,
   "metadata": {},
   "outputs": [],
   "source": [
    "# print(df.head(5))\n",
    "# print(df.tail(5))"
   ]
  },
  {
   "cell_type": "code",
   "execution_count": 198,
   "metadata": {},
   "outputs": [],
   "source": [
    "from sklearn.model_selection import train_test_split\n",
    "\n",
    "df = get_features_v2_target_next_close()\n",
    "drop_cols = ['datetime', 'open', 'high', 'low', 'close', 'volume', 'target']\n",
    "X = df.drop(drop_cols, axis=1)\n",
    "y = df['target']\n",
    "\n",
    "X_train, X_test, y_train, y_test = train_test_split(X, y, test_size=0.3, random_state=55)"
   ]
  },
  {
   "cell_type": "code",
   "execution_count": 199,
   "metadata": {},
   "outputs": [],
   "source": [
    "from sklearn.ensemble import RandomForestRegressor\n",
    "\n",
    "model = RandomForestRegressor(n_estimators=100, random_state=55, n_jobs=-1) # n_jobs=-1 to use all cores\n",
    "model.fit(X_train, y_train)\n",
    "\n",
    "importances = model.feature_importances_"
   ]
  },
  {
   "cell_type": "code",
   "execution_count": 200,
   "metadata": {},
   "outputs": [
    {
     "data": {
      "image/png": "[encoded data removed]",
      "text/plain": [
       "<Figure size 1500x4000 with 1 Axes>"
      ]
     },
     "metadata": {},
     "output_type": "display_data"
    }
   ],
   "source": [
    "import matplotlib.pyplot as plt\n",
    "import seaborn as sns\n",
    "\n",
    "feature_names = X.columns\n",
    "indices = np.argsort(importances)[::-1]\n",
    "\n",
    "plt.figure(figsize=(15, 40))\n",
    "plt.title(\"Feature Importances\")\n",
    "plt.barh(range(X.shape[1]), importances[indices], align=\"center\")\n",
    "plt.yticks(range(X.shape[1]), [feature_names[i] for i in indices])\n",
    "plt.gca().invert_yaxis()\n",
    "plt.show()"
   ]
  },
  {
   "cell_type": "code",
   "execution_count": null,
   "metadata": {},
   "outputs": [],
   "source": [
    "# Pre-processing\n",
    "\n"
   ]
  },
  {
   "cell_type": "code",
   "execution_count": 201,
   "metadata": {},
   "outputs": [],
   "source": [
    "from sklearn.ensemble import StackingClassifier\n",
    "from sklearn.ensemble import RandomForestClassifier\n",
    "from sklearn.ensemble import BaggingClassifier\n",
    "from sklearn.linear_model import LogisticRegression\n",
    "from sklearn.tree import DecisionTreeClassifier\n",
    "from sklearn.naive_bayes import GaussianNB\n",
    "from sklearn.preprocessing import StandardScaler\n",
    "from imblearn.over_sampling import SMOTE\n",
    "from imblearn.pipeline import Pipeline as ImbPipeline\n",
    "import lightgbm as lgb\n",
    "\n",
    "random_state = 55\n",
    "\n",
    "# Base models\n",
    "estimators = [\n",
    "    ('RandomForest', RandomForestClassifier(n_estimators=100, random_state=random_state, n_jobs=-1)),\n",
    "    ('LightGBM', lgb.LGBMClassifier(n_estimators=100, random_state=random_state, n_jobs=-1, verbose=-1)),\n",
    "    ('BaggingForest', BaggingClassifier(estimator=RandomForestClassifier(n_estimators=10, random_state=random_state), n_estimators=10, random_state=random_state, n_jobs=-1)),\n",
    "    ('BaggingTree', BaggingClassifier(estimator=DecisionTreeClassifier(), n_estimators=10, random_state=random_state, n_jobs=-1)),\n",
    "    ('NaiveBayes', GaussianNB())\n",
    "]\n",
    "\n",
    "# Stacking Logistic Classifier\n",
    "stacking_logistic_model = StackingClassifier(estimators=estimators, final_estimator=LogisticRegression(max_iter=10000), n_jobs=-1)\n",
    "\n",
    "# Full pipeline\n",
    "pipeline = ImbPipeline([\n",
    "    ('scaler', StandardScaler()),\n",
    "    ('smote', SMOTE(random_state=random_state)),\n",
    "    ('model', stacking_logistic_model)\n",
    "])\n"
   ]
  },
  {
   "cell_type": "code",
   "execution_count": 202,
   "metadata": {},
   "outputs": [
    {
     "data": {
      "text/html": [
       "<style>#sk-container-id-13 {color: black;}#sk-container-id-13 pre{padding: 0;}#sk-container-id-13 div.sk-toggleable {background-color: white;}#sk-container-id-13 label.sk-toggleable__label {cursor: pointer;display: block;width: 100%;margin-bottom: 0;padding: 0.3em;box-sizing: border-box;text-align: center;}#sk-container-id-13 label.sk-toggleable__label-arrow:before {content: \"▸\";float: left;margin-right: 0.25em;color: #696969;}#sk-container-id-13 label.sk-toggleable__label-arrow:hover:before {color: black;}#sk-container-id-13 div.sk-estimator:hover label.sk-toggleable__label-arrow:before {color: black;}#sk-container-id-13 div.sk-toggleable__content {max-height: 0;max-width: 0;overflow: hidden;text-align: left;background-color: #f0f8ff;}#sk-container-id-13 div.sk-toggleable__content pre {margin: 0.2em;color: black;border-radius: 0.25em;background-color: #f0f8ff;}#sk-container-id-13 input.sk-toggleable__control:checked~div.sk-toggleable__content {max-height: 200px;max-width: 100%;overflow: auto;}#sk-container-id-13 input.sk-toggleable__control:checked~label.sk-toggleable__label-arrow:before {content: \"▾\";}#sk-container-id-13 div.sk-estimator input.sk-toggleable__control:checked~label.sk-toggleable__label {background-color: #d4ebff;}#sk-container-id-13 div.sk-label input.sk-toggleable__control:checked~label.sk-toggleable__label {background-color: #d4ebff;}#sk-container-id-13 input.sk-hidden--visually {border: 0;clip: rect(1px 1px 1px 1px);clip: rect(1px, 1px, 1px, 1px);height: 1px;margin: -1px;overflow: hidden;padding: 0;position: absolute;width: 1px;}#sk-container-id-13 div.sk-estimator {font-family: monospace;background-color: #f0f8ff;border: 1px dotted black;border-radius: 0.25em;box-sizing: border-box;margin-bottom: 0.5em;}#sk-container-id-13 div.sk-estimator:hover {background-color: #d4ebff;}#sk-container-id-13 div.sk-parallel-item::after {content: \"\";width: 100%;border-bottom: 1px solid gray;flex-grow: 1;}#sk-container-id-13 div.sk-label:hover label.sk-toggleable__label {background-color: #d4ebff;}#sk-container-id-13 div.sk-serial::before {content: \"\";position: absolute;border-left: 1px solid gray;box-sizing: border-box;top: 0;bottom: 0;left: 50%;z-index: 0;}#sk-container-id-13 div.sk-serial {display: flex;flex-direction: column;align-items: center;background-color: white;padding-right: 0.2em;padding-left: 0.2em;position: relative;}#sk-container-id-13 div.sk-item {position: relative;z-index: 1;}#sk-container-id-13 div.sk-parallel {display: flex;align-items: stretch;justify-content: center;background-color: white;position: relative;}#sk-container-id-13 div.sk-item::before, #sk-container-id-13 div.sk-parallel-item::before {content: \"\";position: absolute;border-left: 1px solid gray;box-sizing: border-box;top: 0;bottom: 0;left: 50%;z-index: -1;}#sk-container-id-13 div.sk-parallel-item {display: flex;flex-direction: column;z-index: 1;position: relative;background-color: white;}#sk-container-id-13 div.sk-parallel-item:first-child::after {align-self: flex-end;width: 50%;}#sk-container-id-13 div.sk-parallel-item:last-child::after {align-self: flex-start;width: 50%;}#sk-container-id-13 div.sk-parallel-item:only-child::after {width: 0;}#sk-container-id-13 div.sk-dashed-wrapped {border: 1px dashed gray;margin: 0 0.4em 0.5em 0.4em;box-sizing: border-box;padding-bottom: 0.4em;background-color: white;}#sk-container-id-13 div.sk-label label {font-family: monospace;font-weight: bold;display: inline-block;line-height: 1.2em;}#sk-container-id-13 div.sk-label-container {text-align: center;}#sk-container-id-13 div.sk-container {/* jupyter's `normalize.less` sets `[hidden] { display: none; }` but bootstrap.min.css set `[hidden] { display: none !important; }` so we also need the `!important` here to be able to override the default hidden behavior on the sphinx rendered scikit-learn.org. See: https://github.com/scikit-learn/scikit-learn/issues/21755 */display: inline-block !important;position: relative;}#sk-container-id-13 div.sk-text-repr-fallback {display: none;}</style><div id=\"sk-container-id-13\" class=\"sk-top-container\"><div class=\"sk-text-repr-fallback\"><pre>Pipeline(steps=[(&#x27;scaler&#x27;, StandardScaler()), (&#x27;smote&#x27;, SMOTE(random_state=55)),\n",
       "                (&#x27;model&#x27;,\n",
       "                 StackingClassifier(estimators=[(&#x27;RandomForest&#x27;,\n",
       "                                                 RandomForestClassifier(n_jobs=-1,\n",
       "                                                                        random_state=55)),\n",
       "                                                (&#x27;LightGBM&#x27;,\n",
       "                                                 LGBMClassifier(n_jobs=-1,\n",
       "                                                                random_state=55,\n",
       "                                                                verbose=-1)),\n",
       "                                                (&#x27;BaggingForest&#x27;,\n",
       "                                                 BaggingClassifier(estimator=RandomForestClassifier(n_estimators=10,\n",
       "                                                                                                    random_state=55),\n",
       "                                                                   n_jobs=-1,\n",
       "                                                                   random_state=55)),\n",
       "                                                (&#x27;BaggingTree&#x27;,\n",
       "                                                 BaggingClassifier(estimator=DecisionTreeClassifier(),\n",
       "                                                                   n_jobs=-1,\n",
       "                                                                   random_state=55)),\n",
       "                                                (&#x27;NaiveBayes&#x27;, GaussianNB())],\n",
       "                                    final_estimator=LogisticRegression(max_iter=10000),\n",
       "                                    n_jobs=-1))])</pre><b>In a Jupyter environment, please rerun this cell to show the HTML representation or trust the notebook. <br />On GitHub, the HTML representation is unable to render, please try loading this page with nbviewer.org.</b></div><div class=\"sk-container\" hidden><div class=\"sk-item sk-dashed-wrapped\"><div class=\"sk-label-container\"><div class=\"sk-label sk-toggleable\"><input class=\"sk-toggleable__control sk-hidden--visually\" id=\"sk-estimator-id-145\" type=\"checkbox\" ><label for=\"sk-estimator-id-145\" class=\"sk-toggleable__label sk-toggleable__label-arrow\">Pipeline</label><div class=\"sk-toggleable__content\"><pre>Pipeline(steps=[(&#x27;scaler&#x27;, StandardScaler()), (&#x27;smote&#x27;, SMOTE(random_state=55)),\n",
       "                (&#x27;model&#x27;,\n",
       "                 StackingClassifier(estimators=[(&#x27;RandomForest&#x27;,\n",
       "                                                 RandomForestClassifier(n_jobs=-1,\n",
       "                                                                        random_state=55)),\n",
       "                                                (&#x27;LightGBM&#x27;,\n",
       "                                                 LGBMClassifier(n_jobs=-1,\n",
       "                                                                random_state=55,\n",
       "                                                                verbose=-1)),\n",
       "                                                (&#x27;BaggingForest&#x27;,\n",
       "                                                 BaggingClassifier(estimator=RandomForestClassifier(n_estimators=10,\n",
       "                                                                                                    random_state=55),\n",
       "                                                                   n_jobs=-1,\n",
       "                                                                   random_state=55)),\n",
       "                                                (&#x27;BaggingTree&#x27;,\n",
       "                                                 BaggingClassifier(estimator=DecisionTreeClassifier(),\n",
       "                                                                   n_jobs=-1,\n",
       "                                                                   random_state=55)),\n",
       "                                                (&#x27;NaiveBayes&#x27;, GaussianNB())],\n",
       "                                    final_estimator=LogisticRegression(max_iter=10000),\n",
       "                                    n_jobs=-1))])</pre></div></div></div><div class=\"sk-serial\"><div class=\"sk-item\"><div class=\"sk-estimator sk-toggleable\"><input class=\"sk-toggleable__control sk-hidden--visually\" id=\"sk-estimator-id-146\" type=\"checkbox\" ><label for=\"sk-estimator-id-146\" class=\"sk-toggleable__label sk-toggleable__label-arrow\">StandardScaler</label><div class=\"sk-toggleable__content\"><pre>StandardScaler()</pre></div></div></div><div class=\"sk-item\"><div class=\"sk-estimator sk-toggleable\"><input class=\"sk-toggleable__control sk-hidden--visually\" id=\"sk-estimator-id-147\" type=\"checkbox\" ><label for=\"sk-estimator-id-147\" class=\"sk-toggleable__label sk-toggleable__label-arrow\">SMOTE</label><div class=\"sk-toggleable__content\"><pre>SMOTE(random_state=55)</pre></div></div></div><div class=\"sk-item\"><div class=\"sk-label-container\"><div class=\"sk-label sk-toggleable\"><input class=\"sk-toggleable__control sk-hidden--visually\" id=\"sk-estimator-id-148\" type=\"checkbox\" ><label for=\"sk-estimator-id-148\" class=\"sk-toggleable__label sk-toggleable__label-arrow\">model: StackingClassifier</label><div class=\"sk-toggleable__content\"><pre>StackingClassifier(estimators=[(&#x27;RandomForest&#x27;,\n",
       "                                RandomForestClassifier(n_jobs=-1,\n",
       "                                                       random_state=55)),\n",
       "                               (&#x27;LightGBM&#x27;,\n",
       "                                LGBMClassifier(n_jobs=-1, random_state=55,\n",
       "                                               verbose=-1)),\n",
       "                               (&#x27;BaggingForest&#x27;,\n",
       "                                BaggingClassifier(estimator=RandomForestClassifier(n_estimators=10,\n",
       "                                                                                   random_state=55),\n",
       "                                                  n_jobs=-1, random_state=55)),\n",
       "                               (&#x27;BaggingTree&#x27;,\n",
       "                                BaggingClassifier(estimator=DecisionTreeClassifier(),\n",
       "                                                  n_jobs=-1, random_state=55)),\n",
       "                               (&#x27;NaiveBayes&#x27;, GaussianNB())],\n",
       "                   final_estimator=LogisticRegression(max_iter=10000),\n",
       "                   n_jobs=-1)</pre></div></div></div><div class=\"sk-serial\"><div class=\"sk-item\"><div class=\"sk-parallel\"><div class=\"sk-parallel-item\"><div class=\"sk-item\"><div class=\"sk-label-container\"><div class=\"sk-label sk-toggleable\"><label>RandomForest</label></div></div><div class=\"sk-serial\"><div class=\"sk-item\"><div class=\"sk-estimator sk-toggleable\"><input class=\"sk-toggleable__control sk-hidden--visually\" id=\"sk-estimator-id-149\" type=\"checkbox\" ><label for=\"sk-estimator-id-149\" class=\"sk-toggleable__label sk-toggleable__label-arrow\">RandomForestClassifier</label><div class=\"sk-toggleable__content\"><pre>RandomForestClassifier(n_jobs=-1, random_state=55)</pre></div></div></div></div></div></div><div class=\"sk-parallel-item\"><div class=\"sk-item\"><div class=\"sk-label-container\"><div class=\"sk-label sk-toggleable\"><label>LightGBM</label></div></div><div class=\"sk-serial\"><div class=\"sk-item\"><div class=\"sk-estimator sk-toggleable\"><input class=\"sk-toggleable__control sk-hidden--visually\" id=\"sk-estimator-id-150\" type=\"checkbox\" ><label for=\"sk-estimator-id-150\" class=\"sk-toggleable__label sk-toggleable__label-arrow\">LGBMClassifier</label><div class=\"sk-toggleable__content\"><pre>LGBMClassifier(n_jobs=-1, random_state=55, verbose=-1)</pre></div></div></div></div></div></div><div class=\"sk-parallel-item\"><div class=\"sk-item\"><div class=\"sk-label-container\"><div class=\"sk-label sk-toggleable\"><label>BaggingForest</label></div></div><div class=\"sk-serial\"><div class=\"sk-item sk-dashed-wrapped\"><div class=\"sk-parallel\"><div class=\"sk-parallel-item\"><div class=\"sk-item\"><div class=\"sk-label-container\"><div class=\"sk-label sk-toggleable\"><input class=\"sk-toggleable__control sk-hidden--visually\" id=\"sk-estimator-id-151\" type=\"checkbox\" ><label for=\"sk-estimator-id-151\" class=\"sk-toggleable__label sk-toggleable__label-arrow\">estimator: RandomForestClassifier</label><div class=\"sk-toggleable__content\"><pre>RandomForestClassifier(n_estimators=10, random_state=55)</pre></div></div></div><div class=\"sk-serial\"><div class=\"sk-item\"><div class=\"sk-estimator sk-toggleable\"><input class=\"sk-toggleable__control sk-hidden--visually\" id=\"sk-estimator-id-152\" type=\"checkbox\" ><label for=\"sk-estimator-id-152\" class=\"sk-toggleable__label sk-toggleable__label-arrow\">RandomForestClassifier</label><div class=\"sk-toggleable__content\"><pre>RandomForestClassifier(n_estimators=10, random_state=55)</pre></div></div></div></div></div></div></div></div></div></div></div><div class=\"sk-parallel-item\"><div class=\"sk-item\"><div class=\"sk-label-container\"><div class=\"sk-label sk-toggleable\"><label>BaggingTree</label></div></div><div class=\"sk-serial\"><div class=\"sk-item sk-dashed-wrapped\"><div class=\"sk-parallel\"><div class=\"sk-parallel-item\"><div class=\"sk-item\"><div class=\"sk-label-container\"><div class=\"sk-label sk-toggleable\"><input class=\"sk-toggleable__control sk-hidden--visually\" id=\"sk-estimator-id-153\" type=\"checkbox\" ><label for=\"sk-estimator-id-153\" class=\"sk-toggleable__label sk-toggleable__label-arrow\">estimator: DecisionTreeClassifier</label><div class=\"sk-toggleable__content\"><pre>DecisionTreeClassifier()</pre></div></div></div><div class=\"sk-serial\"><div class=\"sk-item\"><div class=\"sk-estimator sk-toggleable\"><input class=\"sk-toggleable__control sk-hidden--visually\" id=\"sk-estimator-id-154\" type=\"checkbox\" ><label for=\"sk-estimator-id-154\" class=\"sk-toggleable__label sk-toggleable__label-arrow\">DecisionTreeClassifier</label><div class=\"sk-toggleable__content\"><pre>DecisionTreeClassifier()</pre></div></div></div></div></div></div></div></div></div></div></div><div class=\"sk-parallel-item\"><div class=\"sk-item\"><div class=\"sk-label-container\"><div class=\"sk-label sk-toggleable\"><label>NaiveBayes</label></div></div><div class=\"sk-serial\"><div class=\"sk-item\"><div class=\"sk-estimator sk-toggleable\"><input class=\"sk-toggleable__control sk-hidden--visually\" id=\"sk-estimator-id-155\" type=\"checkbox\" ><label for=\"sk-estimator-id-155\" class=\"sk-toggleable__label sk-toggleable__label-arrow\">GaussianNB</label><div class=\"sk-toggleable__content\"><pre>GaussianNB()</pre></div></div></div></div></div></div></div></div><div class=\"sk-item\"><div class=\"sk-parallel\"><div class=\"sk-parallel-item\"><div class=\"sk-item\"><div class=\"sk-label-container\"><div class=\"sk-label sk-toggleable\"><label>final_estimator</label></div></div><div class=\"sk-serial\"><div class=\"sk-item\"><div class=\"sk-estimator sk-toggleable\"><input class=\"sk-toggleable__control sk-hidden--visually\" id=\"sk-estimator-id-156\" type=\"checkbox\" ><label for=\"sk-estimator-id-156\" class=\"sk-toggleable__label sk-toggleable__label-arrow\">LogisticRegression</label><div class=\"sk-toggleable__content\"><pre>LogisticRegression(max_iter=10000)</pre></div></div></div></div></div></div></div></div></div></div></div></div></div></div>"
      ],
      "text/plain": [
       "Pipeline(steps=[('scaler', StandardScaler()), ('smote', SMOTE(random_state=55)),\n",
       "                ('model',\n",
       "                 StackingClassifier(estimators=[('RandomForest',\n",
       "                                                 RandomForestClassifier(n_jobs=-1,\n",
       "                                                                        random_state=55)),\n",
       "                                                ('LightGBM',\n",
       "                                                 LGBMClassifier(n_jobs=-1,\n",
       "                                                                random_state=55,\n",
       "                                                                verbose=-1)),\n",
       "                                                ('BaggingForest',\n",
       "                                                 BaggingClassifier(estimator=RandomForestClassifier(n_estimators=10,\n",
       "                                                                                                    random_state=55),\n",
       "                                                                   n_jobs=-1,\n",
       "                                                                   random_state=55)),\n",
       "                                                ('BaggingTree',\n",
       "                                                 BaggingClassifier(estimator=DecisionTreeClassifier(),\n",
       "                                                                   n_jobs=-1,\n",
       "                                                                   random_state=55)),\n",
       "                                                ('NaiveBayes', GaussianNB())],\n",
       "                                    final_estimator=LogisticRegression(max_iter=10000),\n",
       "                                    n_jobs=-1))])"
      ]
     },
     "execution_count": 202,
     "metadata": {},
     "output_type": "execute_result"
    }
   ],
   "source": [
    "pipeline.fit(X_train, y_train)"
   ]
  },
  {
   "cell_type": "code",
   "execution_count": 203,
   "metadata": {},
   "outputs": [],
   "source": [
    "y_pred = pipeline.predict(X_test)"
   ]
  },
  {
   "cell_type": "code",
   "execution_count": 204,
   "metadata": {},
   "outputs": [
    {
     "name": "stdout",
     "output_type": "stream",
     "text": [
      "\n",
      "Classification Report:\n",
      "               precision    recall  f1-score   support\n",
      "\n",
      "          -1       0.80      0.75      0.77      1519\n",
      "           0       0.80      0.84      0.82      3629\n",
      "           1       0.80      0.75      0.77      1612\n",
      "\n",
      "    accuracy                           0.80      6760\n",
      "   macro avg       0.80      0.78      0.79      6760\n",
      "weighted avg       0.80      0.80      0.80      6760\n",
      "\n"
     ]
    },
    {
     "data": {
      "image/png": "[encoded data removed]",
      "text/plain": [
       "<Figure size 800x600 with 2 Axes>"
      ]
     },
     "metadata": {},
     "output_type": "display_data"
    }
   ],
   "source": [
    "import matplotlib.pyplot as plt\n",
    "import seaborn as sns\n",
    "from sklearn.metrics import confusion_matrix\n",
    "\n",
    "# Confusion report\n",
    "from sklearn.metrics import classification_report\n",
    "print(\"\\nClassification Report:\\n\", classification_report(y_test, y_pred))\n",
    "\n",
    "# 1. Confusion Matrix\n",
    "conf_matrix = confusion_matrix(y_test, y_pred)\n",
    "# print(conf_matrix)\n",
    "\n",
    "plt.figure(figsize=(8, 6))\n",
    "sns.heatmap(conf_matrix, annot=True, fmt='g', cmap='Blues', \n",
    "            xticklabels=['-1', '0', '+1'], \n",
    "            yticklabels=['-1', '0', '+1'])\n",
    "plt.xlabel('Predicted labels')\n",
    "plt.ylabel('True labels')\n",
    "plt.title('Confusion Matrix')\n",
    "plt.show()\n"
   ]
  },
  {
   "cell_type": "markdown",
   "metadata": {},
   "source": [
    "#### Summary of Feature Refinement and Model Results:\n",
    "\n",
    "1. **Feature Selection**:\n",
    "    - In the revised `get_features_v2` function, the features have been simplified.\n",
    "    - The number of periods for generating features has been slightly adjusted: `[6, 12, 24, 48, 96, 192]`.\n",
    "    - Only two main inputs, `close` and `volume`, are used to derive features as opposed to the previous list which included `high`, `low`, `close`, and `volume`.\n",
    "    - A set of specific technical indicators (`SD`, `ROC`, `VAR`, `ATR`, interaction features, `ADX`, `MFI`, `DX`) have been retained. This streamlined selection could potentially reduce noise and the risk of overfitting.\n",
    "\n",
    "2. **Model Performance**:\n",
    "    - **Accuracy**: Improved by 1% to 80% from the previous 79%.\n",
    "    - **Precision, Recall, and F1-score**: All three metrics show a consistent score of around 0.80 across the classes.\n",
    "        - **Class -1**: Predicts price decreases > -1% of the current close with a precision of 0.80 and recall of 0.75.\n",
    "        - **Class 0**: Predicts price changes between +- 1% of the current close with a precision of 0.80 and recall of 0.84.\n",
    "        - **Class 1**: Predicts price increases > +1% of the current close with a precision of 0.80 and recall of 0.75.\n",
    "\n",
    "3. **Conclusions**:\n",
    "    - The feature refinement resulted in a model with a more focused set of features.\n",
    "    - Model performance improved slightly, which indicates that the refined feature set may be capturing the most influential patterns in the data without unnecessary noise.\n",
    "    - This demonstrates the potential power of effective feature engineering – **sometimes fewer, more meaningful features can lead to better model performance.**\n",
    "\n",
    "Next Steps:\n",
    "- Further hyperparameter tuning can be performed with the new feature set to possibly achieve even better results."
   ]
  },
  {
   "cell_type": "markdown",
   "metadata": {},
   "source": [
    "----"
   ]
  },
  {
   "cell_type": "markdown",
   "metadata": {},
   "source": [
    "### Experiment X: Pre-processing refinements"
   ]
  },
  {
   "cell_type": "markdown",
   "metadata": {},
   "source": [
    "We did pre-processing with SMOTE and StandardScaler. We can try to remove them and see if it improves the model.\n",
    "\n"
   ]
  },
  {
   "cell_type": "code",
   "execution_count": null,
   "metadata": {},
   "outputs": [],
   "source": []
  },
  {
   "cell_type": "markdown",
   "metadata": {},
   "source": [
    "----"
   ]
  },
  {
   "cell_type": "markdown",
   "metadata": {},
   "source": [
    "### Experiment 2: Hyperparameter Tuning"
   ]
  },
  {
   "cell_type": "code",
   "execution_count": 206,
   "metadata": {},
   "outputs": [],
   "source": [
    "from sklearn.model_selection import train_test_split\n",
    "\n",
    "df = get_features_v2_target_next_close()\n",
    "drop_cols = ['datetime', 'open', 'high', 'low', 'close', 'volume', 'target']\n",
    "X = df.drop(drop_cols, axis=1)\n",
    "y = df['target']\n",
    "\n",
    "X_train, X_test, y_train, y_test = train_test_split(X, y, test_size=0.3, random_state=55)"
   ]
  },
  {
   "cell_type": "code",
   "execution_count": 207,
   "metadata": {},
   "outputs": [],
   "source": [
    "from sklearn.ensemble import StackingClassifier\n",
    "from sklearn.ensemble import RandomForestClassifier\n",
    "from sklearn.ensemble import BaggingClassifier\n",
    "from sklearn.linear_model import LogisticRegression\n",
    "from sklearn.tree import DecisionTreeClassifier\n",
    "from sklearn.naive_bayes import GaussianNB\n",
    "from sklearn.preprocessing import StandardScaler\n",
    "from imblearn.over_sampling import SMOTE\n",
    "from imblearn.pipeline import Pipeline as ImbPipeline\n",
    "import lightgbm as lgb\n",
    "\n",
    "random_state = 55\n",
    "\n",
    "# Base models\n",
    "estimators = [\n",
    "    ('RandomForest', RandomForestClassifier(n_estimators=100, random_state=random_state, n_jobs=-1)),\n",
    "    ('LightGBM', lgb.LGBMClassifier(n_estimators=100, random_state=random_state, n_jobs=-1, verbose=-1)),\n",
    "    ('BaggingForest', BaggingClassifier(estimator=RandomForestClassifier(n_estimators=10, random_state=random_state), n_estimators=10, random_state=random_state, n_jobs=-1)),\n",
    "    ('BaggingTree', BaggingClassifier(estimator=DecisionTreeClassifier(), n_estimators=10, random_state=random_state, n_jobs=-1)),\n",
    "    ('NaiveBayes', GaussianNB())\n",
    "]\n",
    "\n",
    "# Stacking Logistic Classifier\n",
    "stacking_logistic_model = StackingClassifier(estimators=estimators, final_estimator=LogisticRegression(max_iter=10000), n_jobs=-1)\n",
    "\n",
    "# Full pipeline\n",
    "pipeline = ImbPipeline([\n",
    "    ('scaler', StandardScaler()),\n",
    "    ('smote', SMOTE(random_state=random_state)),\n",
    "    ('model', stacking_logistic_model)\n",
    "])\n"
   ]
  },
  {
   "cell_type": "code",
   "execution_count": null,
   "metadata": {},
   "outputs": [],
   "source": [
    "from sklearn.model_selection import GridSearchCV\n",
    "\n",
    "# Define the grid of hyperparameters to search\n",
    "param_grid = {\n",
    "    # Random Forest parameters\n",
    "    'model__RandomForest__n_estimators': [50, 100, 150],\n",
    "    'model__RandomForest__max_depth': [None, 10, 20, 30],\n",
    "    'model__RandomForest__min_samples_split': [2, 5, 10],\n",
    "\n",
    "    # LightGBM parameters\n",
    "    'model__LightGBM__n_estimators': [50, 100, 150],\n",
    "    'model__LightGBM__learning_rate': [0.01, 0.05, 0.1],\n",
    "    'model__LightGBM__num_leaves': [31, 62, 124],\n",
    "\n",
    "    # BaggingForest parameters\n",
    "    'model__BaggingForest__n_estimators': [5, 10, 15],\n",
    "\n",
    "    # BaggingTree parameters\n",
    "    'model__BaggingTree__n_estimators': [5, 10, 15],\n",
    "\n",
    "    # SMOTE parameters\n",
    "    'smote__sampling_strategy': ['auto', 0.5, 0.75],\n",
    "\n",
    "    # StackingClassifier final estimator (Logistic Regression) parameters\n",
    "    'model__final_estimator__C': [0.01, 0.1, 1, 10],\n",
    "    'model__final_estimator__solver': ['lbfgs', 'sag']\n",
    "}\n",
    "\n",
    "# Initialize GridSearchCV\n",
    "grid_search = GridSearchCV(pipeline, param_grid, cv=5, n_jobs=-1, verbose=1)\n",
    "\n",
    "# Fit the model (this might take a while given the number of combinations)\n",
    "# X_train and y_train should be your training data and labels, respectively\n",
    "grid_search.fit(X_train, y_train)\n",
    "\n",
    "# Get the best parameters and model\n",
    "best_params = grid_search.best_params_\n",
    "best_model = grid_search.best_estimator_\n",
    "\n",
    "print(\"Best Parameters:\", best_params)\n"
   ]
  },
  {
   "cell_type": "markdown",
   "metadata": {},
   "source": [
    "The optimization has been running more than 24 hours and still not finished. I decided to stop the optimization and use the best parameters found so far."
   ]
  },
  {
   "cell_type": "markdown",
   "metadata": {},
   "source": [
    "#### Alternative ways to speed up the process:\n",
    "\n",
    "##### 1. Randomized Search\n",
    "\n",
    "Instead of an exhaustive grid search, use a randomized search. It samples a fixed number of parameter combinations from the specified hyperparameter space. This can be more efficient and quicker.\n",
    "\n",
    "```python\n",
    "from sklearn.model_selection import RandomizedSearchCV\n",
    "\n",
    "# Use RandomizedSearchCV instead of GridSearchCV\n",
    "rand_search = RandomizedSearchCV(pipeline, param_distributions=param_grid, n_iter=50, scoring='accuracy', n_jobs=-1)\n",
    "```\n",
    "\n",
    "##### 2. Coarse-to-Fine Tuning\n",
    "\n",
    "First perform a rough search over a wide range of parameter values, and then perform a more focused search around the best parameters found.\n",
    "\n",
    "##### 3. Parallelization\n",
    "\n",
    "Increase the number of workers in the search, setting `n_jobs=-1` will use all available CPUs to perform the search.\n",
    "\n",
    "##### 4. Early Stopping\n",
    "\n",
    "For algorithms that support it (e.g., gradient boosting, neural networks), you can set early stopping rules to halt the training process when it's clear the model is not improving.\n",
    "\n",
    "##### 5. Bayesian Optimization\n",
    "\n",
    "This is a probabilistic model based optimization technique, and is more efficient than grid and random search. Libraries like `Hyperopt` or `Optuna` can be used for Bayesian Optimization.\n",
    "\n",
    "##### 6. Reduce Data Size\n",
    "\n",
    "For a quicker run time, you can perform the hyperparameter tuning steps on a smaller subset of your data. Once the best parameters are found, you can use them to train the model on the complete dataset.\n",
    "\n",
    "##### 7. Incremental Training\n",
    "\n",
    "If your model allows for incremental training (also known as \"warm starting\"), you can train it in chunks to allow for more iterative model updates.\n",
    "\n",
    "##### 8. Pre-emption\n",
    "\n",
    "Some optimization frameworks allow you to preemptively halt the least promising trials before they complete, based on interim results.\n",
    "\n",
    "##### 9. Ensemble of Best Models\n",
    "\n",
    "Instead of searching for one set of optimal parameters, you can train multiple models with different parameters and ensemble their predictions.\n",
    "\n",
    "##### 10. Checkpointing\n",
    "\n",
    "Save the model and its best parameters periodically during training, so you can stop and restart the optimization process at will.\n",
    "\n",
    "It may be advisable to use a combination of these techniques to speed up your hyperparameter search effectively."
   ]
  },
  {
   "cell_type": "markdown",
   "metadata": {},
   "source": [
    "----"
   ]
  },
  {
   "cell_type": "markdown",
   "metadata": {},
   "source": [
    "### Experiment 3: Hyperparameter Tuning with Ensemble of Best Models Approach"
   ]
  },
  {
   "cell_type": "markdown",
   "metadata": {},
   "source": [
    "Long running times during hyperparameter optimization are common, especially when the parameter space is large and the model is complex. I decide to use the ensemble of best models approach to spit the hyperparameter tuning into multiple runs. Then I will stack the best models from each run to form the final model."
   ]
  },
  {
   "cell_type": "code",
   "execution_count": 3,
   "metadata": {},
   "outputs": [
    {
     "ename": "NameError",
     "evalue": "name 'get_features_v2_target_next_close' is not defined",
     "output_type": "error",
     "traceback": [
      "\u001b[0;31m---------------------------------------------------------------------------\u001b[0m",
      "\u001b[0;31mNameError\u001b[0m                                 Traceback (most recent call last)",
      "Cell \u001b[0;32mIn[3], line 3\u001b[0m\n\u001b[1;32m      1\u001b[0m \u001b[39mfrom\u001b[39;00m \u001b[39msklearn\u001b[39;00m\u001b[39m.\u001b[39;00m\u001b[39mmodel_selection\u001b[39;00m \u001b[39mimport\u001b[39;00m train_test_split\n\u001b[0;32m----> 3\u001b[0m df \u001b[39m=\u001b[39m get_features_v2_target_next_close()\n\u001b[1;32m      4\u001b[0m drop_cols \u001b[39m=\u001b[39m [\u001b[39m'\u001b[39m\u001b[39mdatetime\u001b[39m\u001b[39m'\u001b[39m, \u001b[39m'\u001b[39m\u001b[39mopen\u001b[39m\u001b[39m'\u001b[39m, \u001b[39m'\u001b[39m\u001b[39mhigh\u001b[39m\u001b[39m'\u001b[39m, \u001b[39m'\u001b[39m\u001b[39mlow\u001b[39m\u001b[39m'\u001b[39m, \u001b[39m'\u001b[39m\u001b[39mclose\u001b[39m\u001b[39m'\u001b[39m, \u001b[39m'\u001b[39m\u001b[39mvolume\u001b[39m\u001b[39m'\u001b[39m, \u001b[39m'\u001b[39m\u001b[39mtarget\u001b[39m\u001b[39m'\u001b[39m]\n\u001b[1;32m      5\u001b[0m X \u001b[39m=\u001b[39m df\u001b[39m.\u001b[39mdrop(drop_cols, axis\u001b[39m=\u001b[39m\u001b[39m1\u001b[39m)\n",
      "\u001b[0;31mNameError\u001b[0m: name 'get_features_v2_target_next_close' is not defined"
     ]
    }
   ],
   "source": [
    "from sklearn.model_selection import train_test_split\n",
    "\n",
    "df = get_features_v2_target_next_close()\n",
    "drop_cols = ['datetime', 'open', 'high', 'low', 'close', 'volume', 'target']\n",
    "X = df.drop(drop_cols, axis=1)\n",
    "y = df['target']\n",
    "\n",
    "X_train, X_test, y_train, y_test = train_test_split(X, y, test_size=0.3, random_state=55)"
   ]
  },
  {
   "cell_type": "code",
   "execution_count": 15,
   "metadata": {},
   "outputs": [],
   "source": [
    "from sklearn.ensemble import StackingClassifier\n",
    "from sklearn.ensemble import RandomForestClassifier\n",
    "from sklearn.ensemble import BaggingClassifier\n",
    "from sklearn.linear_model import LogisticRegression\n",
    "from sklearn.tree import DecisionTreeClassifier\n",
    "from sklearn.naive_bayes import GaussianNB\n",
    "from sklearn.preprocessing import StandardScaler\n",
    "from imblearn.over_sampling import SMOTE\n",
    "from imblearn.pipeline import Pipeline as ImbPipeline\n",
    "import lightgbm as lgb\n",
    "from sklearn.metrics import classification_report\n",
    "\n",
    "random_state = 55\n",
    "\n",
    "# Base models\n",
    "estimators = [\n",
    "    ('RandomForest', RandomForestClassifier(n_estimators=100, random_state=random_state, n_jobs=-1)),\n",
    "    ('LightGBM', lgb.LGBMClassifier(n_estimators=100, random_state=random_state, n_jobs=-1, verbose=-1)),\n",
    "    ('BaggingForest', BaggingClassifier(estimator=RandomForestClassifier(n_estimators=10, random_state=random_state), n_estimators=10, random_state=random_state, n_jobs=-1)),\n",
    "    ('BaggingTree', BaggingClassifier(estimator=DecisionTreeClassifier(), n_estimators=10, random_state=random_state, n_jobs=-1)),\n",
    "    ('NaiveBayes', GaussianNB())\n",
    "]"
   ]
  },
  {
   "cell_type": "markdown",
   "metadata": {},
   "source": [
    "**Step 1: Train Each Base Model Separately and Save Best Parameters**"
   ]
  },
  {
   "cell_type": "markdown",
   "metadata": {},
   "source": [
    "1.1 RandomForestClassifier"
   ]
  },
  {
   "cell_type": "code",
   "execution_count": 24,
   "metadata": {},
   "outputs": [
    {
     "name": "stdout",
     "output_type": "stream",
     "text": [
      "Best Parameters for RandomForest: {'max_depth': 30, 'n_estimators': 350}\n"
     ]
    }
   ],
   "source": [
    "from sklearn.model_selection import GridSearchCV\n",
    "\n",
    "# Parameter grid for RandomForest\n",
    "param_grid_rf = {'n_estimators': [50, 100, 150, 200, 250, 300, 350], 'max_depth': [None, 10, 20, 30, 40, 50]}\n",
    "grid_rf = GridSearchCV(RandomForestClassifier(random_state=random_state, n_jobs=-1), param_grid=param_grid_rf, cv=5)\n",
    "grid_rf.fit(X_train, y_train)\n",
    "\n",
    "# Save best parameters\n",
    "best_params_rf = grid_rf.best_params_\n",
    "print(\"Best Parameters for RandomForest:\", best_params_rf)\n"
   ]
  },
  {
   "cell_type": "code",
   "execution_count": 25,
   "metadata": {},
   "outputs": [
    {
     "name": "stdout",
     "output_type": "stream",
     "text": [
      "\n",
      "Classification Report (Original Model):\n",
      "               precision    recall  f1-score   support\n",
      "\n",
      "          -1       0.81      0.64      0.72      1519\n",
      "           0       0.75      0.88      0.81      3629\n",
      "           1       0.82      0.65      0.73      1612\n",
      "\n",
      "    accuracy                           0.77      6760\n",
      "   macro avg       0.79      0.72      0.75      6760\n",
      "weighted avg       0.78      0.77      0.77      6760\n",
      "\n",
      "\n",
      "Classification Report (Best Model):\n",
      "               precision    recall  f1-score   support\n",
      "\n",
      "          -1       0.83      0.65      0.73      1519\n",
      "           0       0.75      0.89      0.82      3629\n",
      "           1       0.83      0.66      0.74      1612\n",
      "\n",
      "    accuracy                           0.78      6760\n",
      "   macro avg       0.80      0.73      0.76      6760\n",
      "weighted avg       0.79      0.78      0.78      6760\n",
      "\n"
     ]
    }
   ],
   "source": [
    "# predict with original model\n",
    "model = RandomForestClassifier(n_estimators=100, random_state=random_state, n_jobs=-1)\n",
    "model.fit(X_train, y_train)\n",
    "y_pred = model.predict(X_test)\n",
    "\n",
    "# print original score\n",
    "print(\"\\nClassification Report (Original Model):\\n\", classification_report(y_test, y_pred))\n",
    "\n",
    "# predict with best model\n",
    "model = RandomForestClassifier(**best_params_rf, random_state=random_state, n_jobs=-1)\n",
    "model.fit(X_train, y_train)\n",
    "y_pred = model.predict(X_test)\n",
    "\n",
    "# print best score\n",
    "print(\"\\nClassification Report (Best Model):\\n\", classification_report(y_test, y_pred))\n",
    "\n",
    "\n"
   ]
  },
  {
   "cell_type": "markdown",
   "metadata": {},
   "source": [
    "1.2 LightGBM"
   ]
  },
  {
   "cell_type": "code",
   "execution_count": 30,
   "metadata": {},
   "outputs": [
    {
     "name": "stdout",
     "output_type": "stream",
     "text": [
      "Best Parameters for RandomForest: {'learning_rate': 0.1, 'n_estimators': 250, 'num_leaves': 124}\n"
     ]
    }
   ],
   "source": [
    "# Suppress the DeprecationWarning temporarily\n",
    "warnings.filterwarnings(\"ignore\", category=DeprecationWarning)\n",
    "\n",
    "# Parameter grid for LightGBM\n",
    "param_grid_lgb = {'n_estimators': [50, 100, 150, 200, 250], 'learning_rate': [0.01, 0.05, 0.1], 'num_leaves': [31, 62, 124]}\n",
    "grid_lgb = GridSearchCV(lgb.LGBMClassifier(random_state=random_state, n_jobs=-1, verbose=-1), param_grid=param_grid_lgb, cv=5)\n",
    "grid_lgb.fit(X_train, y_train)\n",
    "\n",
    "# Save best parameters\n",
    "best_params_lgb = grid_lgb.best_params_\n",
    "print(\"Best Parameters for RandomForest:\", best_params_lgb)\n"
   ]
  },
  {
   "cell_type": "code",
   "execution_count": 32,
   "metadata": {},
   "outputs": [
    {
     "name": "stdout",
     "output_type": "stream",
     "text": [
      "\n",
      "Classification Report (Original Model):\n",
      "               precision    recall  f1-score   support\n",
      "\n",
      "          -1       0.76      0.52      0.62      1519\n",
      "           0       0.70      0.88      0.78      3629\n",
      "           1       0.76      0.56      0.64      1612\n",
      "\n",
      "    accuracy                           0.72      6760\n",
      "   macro avg       0.74      0.65      0.68      6760\n",
      "weighted avg       0.73      0.72      0.71      6760\n",
      "\n",
      "\n",
      "Classification Report (Best Model):\n",
      "               precision    recall  f1-score   support\n",
      "\n",
      "          -1       0.81      0.70      0.75      1519\n",
      "           0       0.78      0.88      0.83      3629\n",
      "           1       0.84      0.70      0.76      1612\n",
      "\n",
      "    accuracy                           0.80      6760\n",
      "   macro avg       0.81      0.76      0.78      6760\n",
      "weighted avg       0.80      0.80      0.79      6760\n",
      "\n"
     ]
    }
   ],
   "source": [
    "# predict with original model\n",
    "model = lgb.LGBMClassifier(n_estimators=100, random_state=random_state, n_jobs=-1, verbose=-1)\n",
    "model.fit(X_train, y_train)\n",
    "y_pred = model.predict(X_test)\n",
    "\n",
    "# print original score\n",
    "print(\"\\nClassification Report (Original Model):\\n\", classification_report(y_test, y_pred))\n",
    "\n",
    "# predict with best model\n",
    "model = lgb.LGBMClassifier(**best_params_lgb, random_state=random_state, n_jobs=-1, verbose=-1)\n",
    "model.fit(X_train, y_train)\n",
    "y_pred = model.predict(X_test)\n",
    "\n",
    "# print best score\n",
    "print(\"\\nClassification Report (Best Model):\\n\", classification_report(y_test, y_pred))\n",
    "\n",
    "# Re-enable warnings\n",
    "warnings.resetwarnings()"
   ]
  },
  {
   "cell_type": "markdown",
   "metadata": {},
   "source": [
    "1.3 BaggingForest"
   ]
  },
  {
   "cell_type": "code",
   "execution_count": 39,
   "metadata": {},
   "outputs": [
    {
     "name": "stdout",
     "output_type": "stream",
     "text": [
      "Best Parameters for BaggingForest: {'n_estimators': 50}\n"
     ]
    }
   ],
   "source": [
    "warnings.filterwarnings(\"ignore\", category=UserWarning)\n",
    "\n",
    "# Parameter grid for BaggingForest\n",
    "param_grid_bf = {'n_estimators': [10, 25, 50, 100]}\n",
    "# Reuse the best parameters for RandomForest\n",
    "grid_bf = GridSearchCV(BaggingClassifier(\n",
    "        estimator=RandomForestClassifier(**best_params_rf, random_state=random_state), \n",
    "        random_state=random_state, n_jobs=-1), param_grid=param_grid_bf, cv=5)\n",
    "\n",
    "grid_bf.fit(X_train, y_train)\n",
    "\n",
    "# Save best parameters\n",
    "best_params_bf = grid_bf.best_params_\n",
    "print(\"Best Parameters for BaggingForest:\", best_params_bf)"
   ]
  },
  {
   "cell_type": "code",
   "execution_count": 38,
   "metadata": {},
   "outputs": [
    {
     "name": "stdout",
     "output_type": "stream",
     "text": [
      "\n",
      "Classification Report (Original Model):\n",
      "               precision    recall  f1-score   support\n",
      "\n",
      "          -1       0.82      0.53      0.64      1519\n",
      "           0       0.70      0.90      0.79      3629\n",
      "           1       0.79      0.54      0.64      1612\n",
      "\n",
      "    accuracy                           0.73      6760\n",
      "   macro avg       0.77      0.66      0.69      6760\n",
      "weighted avg       0.75      0.73      0.72      6760\n",
      "\n",
      "\n",
      "Classification Report (Best Model):\n",
      "               precision    recall  f1-score   support\n",
      "\n",
      "          -1       0.84      0.54      0.65      1519\n",
      "           0       0.71      0.91      0.80      3629\n",
      "           1       0.81      0.57      0.67      1612\n",
      "\n",
      "    accuracy                           0.74      6760\n",
      "   macro avg       0.79      0.67      0.71      6760\n",
      "weighted avg       0.76      0.74      0.73      6760\n",
      "\n"
     ]
    }
   ],
   "source": [
    "# predict with original model\n",
    "model = BaggingClassifier(estimator=RandomForestClassifier(n_estimators=10, random_state=random_state), n_estimators=10, random_state=random_state, n_jobs=-1)\n",
    "model.fit(X_train, y_train)\n",
    "y_pred = model.predict(X_test)\n",
    "\n",
    "# print original score\n",
    "print(\"\\nClassification Report (Original Model):\\n\", classification_report(y_test, y_pred))\n",
    "\n",
    "# predict with best model\n",
    "model = BaggingClassifier(estimator=RandomForestClassifier(**best_params_rf, random_state=random_state), **best_params_bf, random_state=random_state, n_jobs=-1)\n",
    "model.fit(X_train, y_train)\n",
    "y_pred = model.predict(X_test)\n",
    "\n",
    "# print best score\n",
    "print(\"\\nClassification Report (Best Model):\\n\", classification_report(y_test, y_pred))\n",
    "\n",
    "# Re-enable warnings\n",
    "warnings.resetwarnings()"
   ]
  },
  {
   "cell_type": "markdown",
   "metadata": {},
   "source": [
    "1.4 BaggingTree"
   ]
  },
  {
   "cell_type": "code",
   "execution_count": 40,
   "metadata": {},
   "outputs": [
    {
     "name": "stdout",
     "output_type": "stream",
     "text": [
      "Best Parameters for DecisionTreeClassifier: {'max_depth': None}\n"
     ]
    }
   ],
   "source": [
    "# Parameter grid for DecisionTreeClassifier\n",
    "param_grid_dt = {'max_depth': [None, 10, 20, 30, 40, 50], 'min_samples_split': [2, 5, 10], 'n_estimators': [10, 25, 50, 100, 150, 200]}\n",
    "grid_dt = GridSearchCV(DecisionTreeClassifier(random_state=random_state), param_grid=param_grid_dt, cv=5)\n",
    "grid_dt.fit(X_train, y_train)\n",
    "\n",
    "# Save best parameters\n",
    "best_params_dt = grid_dt.best_params_\n",
    "print(\"Best Parameters for DecisionTreeClassifier:\", best_params_dt)"
   ]
  },
  {
   "cell_type": "code",
   "execution_count": 42,
   "metadata": {},
   "outputs": [
    {
     "name": "stdout",
     "output_type": "stream",
     "text": [
      "Best Parameters for BaggingTree: {'n_estimators': 150}\n"
     ]
    }
   ],
   "source": [
    "# Parameter grid for BaggingTree\n",
    "param_grid_bt = {'n_estimators': [10, 25, 50, 100, 150, 200]}\n",
    "# Reuse the best parameters for DecisionTreeClassifier\n",
    "grid_bt = GridSearchCV(BaggingClassifier(\n",
    "        estimator=DecisionTreeClassifier(**best_params_dt, random_state=random_state), \n",
    "        random_state=random_state, n_jobs=-1), param_grid=param_grid_bt, cv=5)\n",
    "\n",
    "grid_bt.fit(X_train, y_train)\n",
    "\n",
    "# Save best parameters\n",
    "best_params_bt = grid_bt.best_params_\n",
    "print(\"Best Parameters for BaggingTree:\", best_params_bt)"
   ]
  },
  {
   "cell_type": "code",
   "execution_count": 43,
   "metadata": {},
   "outputs": [
    {
     "name": "stdout",
     "output_type": "stream",
     "text": [
      "\n",
      "Classification Report (Original Model):\n",
      "               precision    recall  f1-score   support\n",
      "\n",
      "          -1       0.67      0.62      0.64      1519\n",
      "           0       0.73      0.83      0.77      3629\n",
      "           1       0.73      0.57      0.64      1612\n",
      "\n",
      "    accuracy                           0.72      6760\n",
      "   macro avg       0.71      0.67      0.69      6760\n",
      "weighted avg       0.72      0.72      0.71      6760\n",
      "\n",
      "\n",
      "Classification Report (Best Model):\n",
      "               precision    recall  f1-score   support\n",
      "\n",
      "          -1       0.82      0.66      0.73      1519\n",
      "           0       0.76      0.88      0.82      3629\n",
      "           1       0.82      0.68      0.74      1612\n",
      "\n",
      "    accuracy                           0.78      6760\n",
      "   macro avg       0.80      0.74      0.76      6760\n",
      "weighted avg       0.79      0.78      0.78      6760\n",
      "\n"
     ]
    }
   ],
   "source": [
    "# predict with original model\n",
    "model = BaggingClassifier(estimator=DecisionTreeClassifier(), n_estimators=10, random_state=random_state, n_jobs=-1)\n",
    "model.fit(X_train, y_train)\n",
    "y_pred = model.predict(X_test)\n",
    "\n",
    "# print original score\n",
    "print(\"\\nClassification Report (Original Model):\\n\", classification_report(y_test, y_pred))\n",
    "\n",
    "# predict with best model\n",
    "model = BaggingClassifier(estimator=DecisionTreeClassifier(**best_params_dt, random_state=random_state), **best_params_bt, random_state=random_state, n_jobs=-1)\n",
    "model.fit(X_train, y_train)\n",
    "y_pred = model.predict(X_test)\n",
    "\n",
    "# print best score\n",
    "print(\"\\nClassification Report (Best Model):\\n\", classification_report(y_test, y_pred))"
   ]
  },
  {
   "cell_type": "markdown",
   "metadata": {},
   "source": [
    "1.5 NaiveBayes"
   ]
  },
  {
   "cell_type": "code",
   "execution_count": 44,
   "metadata": {},
   "outputs": [
    {
     "name": "stdout",
     "output_type": "stream",
     "text": [
      "Best Parameters for GaussianNB: {'var_smoothing': 1e-08}\n"
     ]
    }
   ],
   "source": [
    "# Parameter grid for NiaveBayes\n",
    "param_grid_nb = {'var_smoothing': [1e-9, 1e-8, 1e-7, 1e-6, 1e-5]}\n",
    "grid_nb = GridSearchCV(GaussianNB(), param_grid=param_grid_nb, cv=5)\n",
    "grid_nb.fit(X_train, y_train)\n",
    "\n",
    "# Save best parameters\n",
    "best_params_nb = grid_nb.best_params_\n",
    "print(\"Best Parameters for GaussianNB:\", best_params_nb)\n"
   ]
  },
  {
   "cell_type": "code",
   "execution_count": 45,
   "metadata": {},
   "outputs": [
    {
     "name": "stdout",
     "output_type": "stream",
     "text": [
      "\n",
      "Classification Report (Original Model):\n",
      "               precision    recall  f1-score   support\n",
      "\n",
      "          -1       0.38      0.05      0.09      1519\n",
      "           0       0.56      0.92      0.69      3629\n",
      "           1       0.31      0.11      0.16      1612\n",
      "\n",
      "    accuracy                           0.53      6760\n",
      "   macro avg       0.42      0.36      0.31      6760\n",
      "weighted avg       0.46      0.53      0.43      6760\n",
      "\n",
      "\n",
      "Classification Report (Best Model):\n",
      "               precision    recall  f1-score   support\n",
      "\n",
      "          -1       0.40      0.05      0.10      1519\n",
      "           0       0.56      0.92      0.69      3629\n",
      "           1       0.32      0.11      0.16      1612\n",
      "\n",
      "    accuracy                           0.53      6760\n",
      "   macro avg       0.42      0.36      0.32      6760\n",
      "weighted avg       0.46      0.53      0.43      6760\n",
      "\n"
     ]
    }
   ],
   "source": [
    "# predict with original model\n",
    "model = GaussianNB()\n",
    "model.fit(X_train, y_train)\n",
    "y_pred = model.predict(X_test)\n",
    "\n",
    "# print original score\n",
    "print(\"\\nClassification Report (Original Model):\\n\", classification_report(y_test, y_pred))\n",
    "\n",
    "# predict with best model\n",
    "model = GaussianNB(**best_params_nb)\n",
    "model.fit(X_train, y_train)\n",
    "y_pred = model.predict(X_test)\n",
    "\n",
    "# print best score\n",
    "print(\"\\nClassification Report (Best Model):\\n\", classification_report(y_test, y_pred))\n"
   ]
  },
  {
   "cell_type": "code",
   "execution_count": 59,
   "metadata": {},
   "outputs": [
    {
     "name": "stdout",
     "output_type": "stream",
     "text": [
      "\n",
      "Classification Report (Original Model):\n",
      "               precision    recall  f1-score   support\n",
      "\n",
      "          -1       0.27      0.38      0.32      1519\n",
      "           0       0.58      0.20      0.30      3629\n",
      "           1       0.27      0.57      0.37      1612\n",
      "\n",
      "    accuracy                           0.33      6760\n",
      "   macro avg       0.37      0.38      0.33      6760\n",
      "weighted avg       0.44      0.33      0.32      6760\n",
      "\n"
     ]
    }
   ],
   "source": [
    "# predict with NeuralNetwork\n",
    "from sklearn.neural_network import MLPClassifier\n",
    "\n",
    "model = MLPClassifier(random_state=random_state)\n",
    "# apply SMOTE to training data\n",
    "X_train_smote, y_train_smote = SMOTE(random_state=random_state).fit_resample(X_train, y_train)\n",
    "model.fit(X_train_smote, y_train_smote)\n",
    "y_pred = model.predict(X_test)\n",
    "\n",
    "# print original score\n",
    "print(\"\\nClassification Report (Original Model):\\n\", classification_report(y_test, y_pred))\n"
   ]
  },
  {
   "cell_type": "markdown",
   "metadata": {},
   "source": [
    "1.7 LogisticRegression"
   ]
  },
  {
   "cell_type": "markdown",
   "metadata": {},
   "source": [
    "1.6 SVM non-linear"
   ]
  },
  {
   "cell_type": "code",
   "execution_count": 11,
   "metadata": {},
   "outputs": [],
   "source": [
    "df = get_features_target_next_close()\n",
    "\n",
    "from sklearn.model_selection import train_test_split\n",
    "\n",
    "df = get_features_v2_target_next_close()\n",
    "drop_cols = ['datetime', 'open', 'high', 'low', 'close', 'volume', 'target']\n",
    "X = df.drop(drop_cols, axis=1)\n",
    "y = df['target']\n",
    "\n",
    "X_train, X_test, y_train, y_test = train_test_split(X, y, test_size=0.3, random_state=55)"
   ]
  },
  {
   "cell_type": "code",
   "execution_count": 10,
   "metadata": {},
   "outputs": [
    {
     "ename": "KeyboardInterrupt",
     "evalue": "",
     "output_type": "error",
     "traceback": [
      "\u001b[0;31m---------------------------------------------------------------------------\u001b[0m",
      "\u001b[0;31mKeyboardInterrupt\u001b[0m                         Traceback (most recent call last)",
      "Cell \u001b[0;32mIn[10], line 9\u001b[0m\n\u001b[1;32m      7\u001b[0m param_grid_svm \u001b[39m=\u001b[39m {\u001b[39m'\u001b[39m\u001b[39mC\u001b[39m\u001b[39m'\u001b[39m: [\u001b[39m0.01\u001b[39m, \u001b[39m0.1\u001b[39m, \u001b[39m1\u001b[39m, \u001b[39m10\u001b[39m], \u001b[39m'\u001b[39m\u001b[39mgamma\u001b[39m\u001b[39m'\u001b[39m: [\u001b[39m0.01\u001b[39m, \u001b[39m0.1\u001b[39m, \u001b[39m1\u001b[39m, \u001b[39m10\u001b[39m]}\n\u001b[1;32m      8\u001b[0m grid_svm \u001b[39m=\u001b[39m GridSearchCV(SVC(kernel\u001b[39m=\u001b[39m\u001b[39m'\u001b[39m\u001b[39mrbf\u001b[39m\u001b[39m'\u001b[39m, random_state\u001b[39m=\u001b[39mrandom_state), param_grid\u001b[39m=\u001b[39mparam_grid_svm, cv\u001b[39m=\u001b[39m\u001b[39m5\u001b[39m)\n\u001b[0;32m----> 9\u001b[0m grid_svm\u001b[39m.\u001b[39;49mfit(X_train, y_train)\n\u001b[1;32m     11\u001b[0m \u001b[39m# Save best parameters\u001b[39;00m\n\u001b[1;32m     12\u001b[0m best_params_svm \u001b[39m=\u001b[39m grid_svm\u001b[39m.\u001b[39mbest_params_\n",
      "File \u001b[0;32m~/src/npc/btc_live_price_prediction/.venv/lib/python3.10/site-packages/sklearn/base.py:1151\u001b[0m, in \u001b[0;36m_fit_context.<locals>.decorator.<locals>.wrapper\u001b[0;34m(estimator, *args, **kwargs)\u001b[0m\n\u001b[1;32m   1144\u001b[0m     estimator\u001b[39m.\u001b[39m_validate_params()\n\u001b[1;32m   1146\u001b[0m \u001b[39mwith\u001b[39;00m config_context(\n\u001b[1;32m   1147\u001b[0m     skip_parameter_validation\u001b[39m=\u001b[39m(\n\u001b[1;32m   1148\u001b[0m         prefer_skip_nested_validation \u001b[39mor\u001b[39;00m global_skip_validation\n\u001b[1;32m   1149\u001b[0m     )\n\u001b[1;32m   1150\u001b[0m ):\n\u001b[0;32m-> 1151\u001b[0m     \u001b[39mreturn\u001b[39;00m fit_method(estimator, \u001b[39m*\u001b[39;49margs, \u001b[39m*\u001b[39;49m\u001b[39m*\u001b[39;49mkwargs)\n",
      "File \u001b[0;32m~/src/npc/btc_live_price_prediction/.venv/lib/python3.10/site-packages/sklearn/model_selection/_search.py:898\u001b[0m, in \u001b[0;36mBaseSearchCV.fit\u001b[0;34m(self, X, y, groups, **fit_params)\u001b[0m\n\u001b[1;32m    892\u001b[0m     results \u001b[39m=\u001b[39m \u001b[39mself\u001b[39m\u001b[39m.\u001b[39m_format_results(\n\u001b[1;32m    893\u001b[0m         all_candidate_params, n_splits, all_out, all_more_results\n\u001b[1;32m    894\u001b[0m     )\n\u001b[1;32m    896\u001b[0m     \u001b[39mreturn\u001b[39;00m results\n\u001b[0;32m--> 898\u001b[0m \u001b[39mself\u001b[39;49m\u001b[39m.\u001b[39;49m_run_search(evaluate_candidates)\n\u001b[1;32m    900\u001b[0m \u001b[39m# multimetric is determined here because in the case of a callable\u001b[39;00m\n\u001b[1;32m    901\u001b[0m \u001b[39m# self.scoring the return type is only known after calling\u001b[39;00m\n\u001b[1;32m    902\u001b[0m first_test_score \u001b[39m=\u001b[39m all_out[\u001b[39m0\u001b[39m][\u001b[39m\"\u001b[39m\u001b[39mtest_scores\u001b[39m\u001b[39m\"\u001b[39m]\n",
      "File \u001b[0;32m~/src/npc/btc_live_price_prediction/.venv/lib/python3.10/site-packages/sklearn/model_selection/_search.py:1419\u001b[0m, in \u001b[0;36mGridSearchCV._run_search\u001b[0;34m(self, evaluate_candidates)\u001b[0m\n\u001b[1;32m   1417\u001b[0m \u001b[39mdef\u001b[39;00m \u001b[39m_run_search\u001b[39m(\u001b[39mself\u001b[39m, evaluate_candidates):\n\u001b[1;32m   1418\u001b[0m \u001b[39m    \u001b[39m\u001b[39m\"\"\"Search all candidates in param_grid\"\"\"\u001b[39;00m\n\u001b[0;32m-> 1419\u001b[0m     evaluate_candidates(ParameterGrid(\u001b[39mself\u001b[39;49m\u001b[39m.\u001b[39;49mparam_grid))\n",
      "File \u001b[0;32m~/src/npc/btc_live_price_prediction/.venv/lib/python3.10/site-packages/sklearn/model_selection/_search.py:845\u001b[0m, in \u001b[0;36mBaseSearchCV.fit.<locals>.evaluate_candidates\u001b[0;34m(candidate_params, cv, more_results)\u001b[0m\n\u001b[1;32m    837\u001b[0m \u001b[39mif\u001b[39;00m \u001b[39mself\u001b[39m\u001b[39m.\u001b[39mverbose \u001b[39m>\u001b[39m \u001b[39m0\u001b[39m:\n\u001b[1;32m    838\u001b[0m     \u001b[39mprint\u001b[39m(\n\u001b[1;32m    839\u001b[0m         \u001b[39m\"\u001b[39m\u001b[39mFitting \u001b[39m\u001b[39m{0}\u001b[39;00m\u001b[39m folds for each of \u001b[39m\u001b[39m{1}\u001b[39;00m\u001b[39m candidates,\u001b[39m\u001b[39m\"\u001b[39m\n\u001b[1;32m    840\u001b[0m         \u001b[39m\"\u001b[39m\u001b[39m totalling \u001b[39m\u001b[39m{2}\u001b[39;00m\u001b[39m fits\u001b[39m\u001b[39m\"\u001b[39m\u001b[39m.\u001b[39mformat(\n\u001b[1;32m    841\u001b[0m             n_splits, n_candidates, n_candidates \u001b[39m*\u001b[39m n_splits\n\u001b[1;32m    842\u001b[0m         )\n\u001b[1;32m    843\u001b[0m     )\n\u001b[0;32m--> 845\u001b[0m out \u001b[39m=\u001b[39m parallel(\n\u001b[1;32m    846\u001b[0m     delayed(_fit_and_score)(\n\u001b[1;32m    847\u001b[0m         clone(base_estimator),\n\u001b[1;32m    848\u001b[0m         X,\n\u001b[1;32m    849\u001b[0m         y,\n\u001b[1;32m    850\u001b[0m         train\u001b[39m=\u001b[39;49mtrain,\n\u001b[1;32m    851\u001b[0m         test\u001b[39m=\u001b[39;49mtest,\n\u001b[1;32m    852\u001b[0m         parameters\u001b[39m=\u001b[39;49mparameters,\n\u001b[1;32m    853\u001b[0m         split_progress\u001b[39m=\u001b[39;49m(split_idx, n_splits),\n\u001b[1;32m    854\u001b[0m         candidate_progress\u001b[39m=\u001b[39;49m(cand_idx, n_candidates),\n\u001b[1;32m    855\u001b[0m         \u001b[39m*\u001b[39;49m\u001b[39m*\u001b[39;49mfit_and_score_kwargs,\n\u001b[1;32m    856\u001b[0m     )\n\u001b[1;32m    857\u001b[0m     \u001b[39mfor\u001b[39;49;00m (cand_idx, parameters), (split_idx, (train, test)) \u001b[39min\u001b[39;49;00m product(\n\u001b[1;32m    858\u001b[0m         \u001b[39menumerate\u001b[39;49m(candidate_params), \u001b[39menumerate\u001b[39;49m(cv\u001b[39m.\u001b[39;49msplit(X, y, groups))\n\u001b[1;32m    859\u001b[0m     )\n\u001b[1;32m    860\u001b[0m )\n\u001b[1;32m    862\u001b[0m \u001b[39mif\u001b[39;00m \u001b[39mlen\u001b[39m(out) \u001b[39m<\u001b[39m \u001b[39m1\u001b[39m:\n\u001b[1;32m    863\u001b[0m     \u001b[39mraise\u001b[39;00m \u001b[39mValueError\u001b[39;00m(\n\u001b[1;32m    864\u001b[0m         \u001b[39m\"\u001b[39m\u001b[39mNo fits were performed. \u001b[39m\u001b[39m\"\u001b[39m\n\u001b[1;32m    865\u001b[0m         \u001b[39m\"\u001b[39m\u001b[39mWas the CV iterator empty? \u001b[39m\u001b[39m\"\u001b[39m\n\u001b[1;32m    866\u001b[0m         \u001b[39m\"\u001b[39m\u001b[39mWere there no candidates?\u001b[39m\u001b[39m\"\u001b[39m\n\u001b[1;32m    867\u001b[0m     )\n",
      "File \u001b[0;32m~/src/npc/btc_live_price_prediction/.venv/lib/python3.10/site-packages/sklearn/utils/parallel.py:65\u001b[0m, in \u001b[0;36mParallel.__call__\u001b[0;34m(self, iterable)\u001b[0m\n\u001b[1;32m     60\u001b[0m config \u001b[39m=\u001b[39m get_config()\n\u001b[1;32m     61\u001b[0m iterable_with_config \u001b[39m=\u001b[39m (\n\u001b[1;32m     62\u001b[0m     (_with_config(delayed_func, config), args, kwargs)\n\u001b[1;32m     63\u001b[0m     \u001b[39mfor\u001b[39;00m delayed_func, args, kwargs \u001b[39min\u001b[39;00m iterable\n\u001b[1;32m     64\u001b[0m )\n\u001b[0;32m---> 65\u001b[0m \u001b[39mreturn\u001b[39;00m \u001b[39msuper\u001b[39;49m()\u001b[39m.\u001b[39;49m\u001b[39m__call__\u001b[39;49m(iterable_with_config)\n",
      "File \u001b[0;32m~/src/npc/btc_live_price_prediction/.venv/lib/python3.10/site-packages/joblib/parallel.py:1863\u001b[0m, in \u001b[0;36mParallel.__call__\u001b[0;34m(self, iterable)\u001b[0m\n\u001b[1;32m   1861\u001b[0m     output \u001b[39m=\u001b[39m \u001b[39mself\u001b[39m\u001b[39m.\u001b[39m_get_sequential_output(iterable)\n\u001b[1;32m   1862\u001b[0m     \u001b[39mnext\u001b[39m(output)\n\u001b[0;32m-> 1863\u001b[0m     \u001b[39mreturn\u001b[39;00m output \u001b[39mif\u001b[39;00m \u001b[39mself\u001b[39m\u001b[39m.\u001b[39mreturn_generator \u001b[39melse\u001b[39;00m \u001b[39mlist\u001b[39;49m(output)\n\u001b[1;32m   1865\u001b[0m \u001b[39m# Let's create an ID that uniquely identifies the current call. If the\u001b[39;00m\n\u001b[1;32m   1866\u001b[0m \u001b[39m# call is interrupted early and that the same instance is immediately\u001b[39;00m\n\u001b[1;32m   1867\u001b[0m \u001b[39m# re-used, this id will be used to prevent workers that were\u001b[39;00m\n\u001b[1;32m   1868\u001b[0m \u001b[39m# concurrently finalizing a task from the previous call to run the\u001b[39;00m\n\u001b[1;32m   1869\u001b[0m \u001b[39m# callback.\u001b[39;00m\n\u001b[1;32m   1870\u001b[0m \u001b[39mwith\u001b[39;00m \u001b[39mself\u001b[39m\u001b[39m.\u001b[39m_lock:\n",
      "File \u001b[0;32m~/src/npc/btc_live_price_prediction/.venv/lib/python3.10/site-packages/joblib/parallel.py:1792\u001b[0m, in \u001b[0;36mParallel._get_sequential_output\u001b[0;34m(self, iterable)\u001b[0m\n\u001b[1;32m   1790\u001b[0m \u001b[39mself\u001b[39m\u001b[39m.\u001b[39mn_dispatched_batches \u001b[39m+\u001b[39m\u001b[39m=\u001b[39m \u001b[39m1\u001b[39m\n\u001b[1;32m   1791\u001b[0m \u001b[39mself\u001b[39m\u001b[39m.\u001b[39mn_dispatched_tasks \u001b[39m+\u001b[39m\u001b[39m=\u001b[39m \u001b[39m1\u001b[39m\n\u001b[0;32m-> 1792\u001b[0m res \u001b[39m=\u001b[39m func(\u001b[39m*\u001b[39;49margs, \u001b[39m*\u001b[39;49m\u001b[39m*\u001b[39;49mkwargs)\n\u001b[1;32m   1793\u001b[0m \u001b[39mself\u001b[39m\u001b[39m.\u001b[39mn_completed_tasks \u001b[39m+\u001b[39m\u001b[39m=\u001b[39m \u001b[39m1\u001b[39m\n\u001b[1;32m   1794\u001b[0m \u001b[39mself\u001b[39m\u001b[39m.\u001b[39mprint_progress()\n",
      "File \u001b[0;32m~/src/npc/btc_live_price_prediction/.venv/lib/python3.10/site-packages/sklearn/utils/parallel.py:127\u001b[0m, in \u001b[0;36m_FuncWrapper.__call__\u001b[0;34m(self, *args, **kwargs)\u001b[0m\n\u001b[1;32m    125\u001b[0m     config \u001b[39m=\u001b[39m {}\n\u001b[1;32m    126\u001b[0m \u001b[39mwith\u001b[39;00m config_context(\u001b[39m*\u001b[39m\u001b[39m*\u001b[39mconfig):\n\u001b[0;32m--> 127\u001b[0m     \u001b[39mreturn\u001b[39;00m \u001b[39mself\u001b[39;49m\u001b[39m.\u001b[39;49mfunction(\u001b[39m*\u001b[39;49margs, \u001b[39m*\u001b[39;49m\u001b[39m*\u001b[39;49mkwargs)\n",
      "File \u001b[0;32m~/src/npc/btc_live_price_prediction/.venv/lib/python3.10/site-packages/sklearn/model_selection/_validation.py:732\u001b[0m, in \u001b[0;36m_fit_and_score\u001b[0;34m(estimator, X, y, scorer, train, test, verbose, parameters, fit_params, return_train_score, return_parameters, return_n_test_samples, return_times, return_estimator, split_progress, candidate_progress, error_score)\u001b[0m\n\u001b[1;32m    730\u001b[0m         estimator\u001b[39m.\u001b[39mfit(X_train, \u001b[39m*\u001b[39m\u001b[39m*\u001b[39mfit_params)\n\u001b[1;32m    731\u001b[0m     \u001b[39melse\u001b[39;00m:\n\u001b[0;32m--> 732\u001b[0m         estimator\u001b[39m.\u001b[39;49mfit(X_train, y_train, \u001b[39m*\u001b[39;49m\u001b[39m*\u001b[39;49mfit_params)\n\u001b[1;32m    734\u001b[0m \u001b[39mexcept\u001b[39;00m \u001b[39mException\u001b[39;00m:\n\u001b[1;32m    735\u001b[0m     \u001b[39m# Note fit time as time until error\u001b[39;00m\n\u001b[1;32m    736\u001b[0m     fit_time \u001b[39m=\u001b[39m time\u001b[39m.\u001b[39mtime() \u001b[39m-\u001b[39m start_time\n",
      "File \u001b[0;32m~/src/npc/btc_live_price_prediction/.venv/lib/python3.10/site-packages/sklearn/base.py:1151\u001b[0m, in \u001b[0;36m_fit_context.<locals>.decorator.<locals>.wrapper\u001b[0;34m(estimator, *args, **kwargs)\u001b[0m\n\u001b[1;32m   1144\u001b[0m     estimator\u001b[39m.\u001b[39m_validate_params()\n\u001b[1;32m   1146\u001b[0m \u001b[39mwith\u001b[39;00m config_context(\n\u001b[1;32m   1147\u001b[0m     skip_parameter_validation\u001b[39m=\u001b[39m(\n\u001b[1;32m   1148\u001b[0m         prefer_skip_nested_validation \u001b[39mor\u001b[39;00m global_skip_validation\n\u001b[1;32m   1149\u001b[0m     )\n\u001b[1;32m   1150\u001b[0m ):\n\u001b[0;32m-> 1151\u001b[0m     \u001b[39mreturn\u001b[39;00m fit_method(estimator, \u001b[39m*\u001b[39;49margs, \u001b[39m*\u001b[39;49m\u001b[39m*\u001b[39;49mkwargs)\n",
      "File \u001b[0;32m~/src/npc/btc_live_price_prediction/.venv/lib/python3.10/site-packages/sklearn/svm/_base.py:250\u001b[0m, in \u001b[0;36mBaseLibSVM.fit\u001b[0;34m(self, X, y, sample_weight)\u001b[0m\n\u001b[1;32m    247\u001b[0m     \u001b[39mprint\u001b[39m(\u001b[39m\"\u001b[39m\u001b[39m[LibSVM]\u001b[39m\u001b[39m\"\u001b[39m, end\u001b[39m=\u001b[39m\u001b[39m\"\u001b[39m\u001b[39m\"\u001b[39m)\n\u001b[1;32m    249\u001b[0m seed \u001b[39m=\u001b[39m rnd\u001b[39m.\u001b[39mrandint(np\u001b[39m.\u001b[39miinfo(\u001b[39m\"\u001b[39m\u001b[39mi\u001b[39m\u001b[39m\"\u001b[39m)\u001b[39m.\u001b[39mmax)\n\u001b[0;32m--> 250\u001b[0m fit(X, y, sample_weight, solver_type, kernel, random_seed\u001b[39m=\u001b[39;49mseed)\n\u001b[1;32m    251\u001b[0m \u001b[39m# see comment on the other call to np.iinfo in this file\u001b[39;00m\n\u001b[1;32m    253\u001b[0m \u001b[39mself\u001b[39m\u001b[39m.\u001b[39mshape_fit_ \u001b[39m=\u001b[39m X\u001b[39m.\u001b[39mshape \u001b[39mif\u001b[39;00m \u001b[39mhasattr\u001b[39m(X, \u001b[39m\"\u001b[39m\u001b[39mshape\u001b[39m\u001b[39m\"\u001b[39m) \u001b[39melse\u001b[39;00m (n_samples,)\n",
      "File \u001b[0;32m~/src/npc/btc_live_price_prediction/.venv/lib/python3.10/site-packages/sklearn/svm/_base.py:329\u001b[0m, in \u001b[0;36mBaseLibSVM._dense_fit\u001b[0;34m(self, X, y, sample_weight, solver_type, kernel, random_seed)\u001b[0m\n\u001b[1;32m    315\u001b[0m libsvm\u001b[39m.\u001b[39mset_verbosity_wrap(\u001b[39mself\u001b[39m\u001b[39m.\u001b[39mverbose)\n\u001b[1;32m    317\u001b[0m \u001b[39m# we don't pass **self.get_params() to allow subclasses to\u001b[39;00m\n\u001b[1;32m    318\u001b[0m \u001b[39m# add other parameters to __init__\u001b[39;00m\n\u001b[1;32m    319\u001b[0m (\n\u001b[1;32m    320\u001b[0m     \u001b[39mself\u001b[39m\u001b[39m.\u001b[39msupport_,\n\u001b[1;32m    321\u001b[0m     \u001b[39mself\u001b[39m\u001b[39m.\u001b[39msupport_vectors_,\n\u001b[1;32m    322\u001b[0m     \u001b[39mself\u001b[39m\u001b[39m.\u001b[39m_n_support,\n\u001b[1;32m    323\u001b[0m     \u001b[39mself\u001b[39m\u001b[39m.\u001b[39mdual_coef_,\n\u001b[1;32m    324\u001b[0m     \u001b[39mself\u001b[39m\u001b[39m.\u001b[39mintercept_,\n\u001b[1;32m    325\u001b[0m     \u001b[39mself\u001b[39m\u001b[39m.\u001b[39m_probA,\n\u001b[1;32m    326\u001b[0m     \u001b[39mself\u001b[39m\u001b[39m.\u001b[39m_probB,\n\u001b[1;32m    327\u001b[0m     \u001b[39mself\u001b[39m\u001b[39m.\u001b[39mfit_status_,\n\u001b[1;32m    328\u001b[0m     \u001b[39mself\u001b[39m\u001b[39m.\u001b[39m_num_iter,\n\u001b[0;32m--> 329\u001b[0m ) \u001b[39m=\u001b[39m libsvm\u001b[39m.\u001b[39;49mfit(\n\u001b[1;32m    330\u001b[0m     X,\n\u001b[1;32m    331\u001b[0m     y,\n\u001b[1;32m    332\u001b[0m     svm_type\u001b[39m=\u001b[39;49msolver_type,\n\u001b[1;32m    333\u001b[0m     sample_weight\u001b[39m=\u001b[39;49msample_weight,\n\u001b[1;32m    334\u001b[0m     \u001b[39m# TODO(1.4): Replace \"_class_weight\" with \"class_weight_\"\u001b[39;49;00m\n\u001b[1;32m    335\u001b[0m     class_weight\u001b[39m=\u001b[39;49m\u001b[39mgetattr\u001b[39;49m(\u001b[39mself\u001b[39;49m, \u001b[39m\"\u001b[39;49m\u001b[39m_class_weight\u001b[39;49m\u001b[39m\"\u001b[39;49m, np\u001b[39m.\u001b[39;49mempty(\u001b[39m0\u001b[39;49m)),\n\u001b[1;32m    336\u001b[0m     kernel\u001b[39m=\u001b[39;49mkernel,\n\u001b[1;32m    337\u001b[0m     C\u001b[39m=\u001b[39;49m\u001b[39mself\u001b[39;49m\u001b[39m.\u001b[39;49mC,\n\u001b[1;32m    338\u001b[0m     nu\u001b[39m=\u001b[39;49m\u001b[39mself\u001b[39;49m\u001b[39m.\u001b[39;49mnu,\n\u001b[1;32m    339\u001b[0m     probability\u001b[39m=\u001b[39;49m\u001b[39mself\u001b[39;49m\u001b[39m.\u001b[39;49mprobability,\n\u001b[1;32m    340\u001b[0m     degree\u001b[39m=\u001b[39;49m\u001b[39mself\u001b[39;49m\u001b[39m.\u001b[39;49mdegree,\n\u001b[1;32m    341\u001b[0m     shrinking\u001b[39m=\u001b[39;49m\u001b[39mself\u001b[39;49m\u001b[39m.\u001b[39;49mshrinking,\n\u001b[1;32m    342\u001b[0m     tol\u001b[39m=\u001b[39;49m\u001b[39mself\u001b[39;49m\u001b[39m.\u001b[39;49mtol,\n\u001b[1;32m    343\u001b[0m     cache_size\u001b[39m=\u001b[39;49m\u001b[39mself\u001b[39;49m\u001b[39m.\u001b[39;49mcache_size,\n\u001b[1;32m    344\u001b[0m     coef0\u001b[39m=\u001b[39;49m\u001b[39mself\u001b[39;49m\u001b[39m.\u001b[39;49mcoef0,\n\u001b[1;32m    345\u001b[0m     gamma\u001b[39m=\u001b[39;49m\u001b[39mself\u001b[39;49m\u001b[39m.\u001b[39;49m_gamma,\n\u001b[1;32m    346\u001b[0m     epsilon\u001b[39m=\u001b[39;49m\u001b[39mself\u001b[39;49m\u001b[39m.\u001b[39;49mepsilon,\n\u001b[1;32m    347\u001b[0m     max_iter\u001b[39m=\u001b[39;49m\u001b[39mself\u001b[39;49m\u001b[39m.\u001b[39;49mmax_iter,\n\u001b[1;32m    348\u001b[0m     random_seed\u001b[39m=\u001b[39;49mrandom_seed,\n\u001b[1;32m    349\u001b[0m )\n\u001b[1;32m    351\u001b[0m \u001b[39mself\u001b[39m\u001b[39m.\u001b[39m_warn_from_fit_status()\n",
      "\u001b[0;31mKeyboardInterrupt\u001b[0m: "
     ]
    }
   ],
   "source": [
    "from sklearn.svm import SVC\n",
    "from sklearn.model_selection import GridSearchCV\n",
    "\n",
    "random_state = 55\n",
    "\n",
    "# Parameter grid for SVM non-linear\n",
    "param_grid_svm = {'C': [0.01, 0.1, 1, 10], 'gamma': [0.01, 0.1, 1, 10]}\n",
    "grid_svm = GridSearchCV(SVC(kernel='rbf', random_state=random_state), param_grid=param_grid_svm, cv=5)\n",
    "grid_svm.fit(X_train, y_train)\n",
    "\n",
    "# Save best parameters\n",
    "best_params_svm = grid_svm.best_params_\n",
    "print(\"Best Parameters for SVM non-linear:\", best_params_svm)\n"
   ]
  },
  {
   "cell_type": "code",
   "execution_count": 58,
   "metadata": {},
   "outputs": [
    {
     "name": "stdout",
     "output_type": "stream",
     "text": [
      "\n",
      "Classification Report (Original Model):\n",
      "               precision    recall  f1-score   support\n",
      "\n",
      "          -1       0.49      0.07      0.11      1519\n",
      "           0       0.55      0.98      0.70      3629\n",
      "           1       0.57      0.02      0.03      1612\n",
      "\n",
      "    accuracy                           0.55      6760\n",
      "   macro avg       0.54      0.36      0.28      6760\n",
      "weighted avg       0.54      0.55      0.41      6760\n",
      "\n",
      "\n",
      "Classification Report (Best Model):\n",
      "               precision    recall  f1-score   support\n",
      "\n",
      "          -1       0.00      0.00      0.00      1519\n",
      "           0       0.54      1.00      0.70      3629\n",
      "           1       0.00      0.00      0.00      1612\n",
      "\n",
      "    accuracy                           0.54      6760\n",
      "   macro avg       0.18      0.33      0.23      6760\n",
      "weighted avg       0.29      0.54      0.38      6760\n",
      "\n"
     ]
    }
   ],
   "source": [
    "\n",
    "\n",
    "# predict with original model\n",
    "model = SVC(kernel='rbf' , random_state=random_state)\n",
    "model.fit(X_train, y_train)\n",
    "y_pred = model.predict(X_test)\n",
    "\n",
    "# print original score\n",
    "print(\"\\nClassification Report (Original Model):\\n\", classification_report(y_test, y_pred))\n",
    "\n",
    "# predict with best model\n",
    "model = SVC(kernel='rbf', **best_params_svm, random_state=random_state)\n",
    "model.fit(X_train, y_train)\n",
    "y_pred = model.predict(X_test)\n",
    "\n",
    "# print best score\n",
    "print(\"\\nClassification Report (Best Model):\\n\", classification_report(y_test, y_pred))\n"
   ]
  },
  {
   "cell_type": "markdown",
   "metadata": {},
   "source": [
    "**Step 2: Create Best Models Using Saved Parameters**"
   ]
  },
  {
   "cell_type": "code",
   "execution_count": null,
   "metadata": {},
   "outputs": [],
   "source": [
    "best_rf = RandomForestClassifier(**best_params_rf)\n",
    "best_lgbm = lgb.LGBMClassifier(**best_params_lgbm)\n",
    "best_bagging_forest = BaggingClassifier(**best_params_bagging_forest)\n",
    "best_bagging_tree = BaggingClassifier(**best_params_bagging_tree)\n",
    "best_naive_bayes = GaussianNB(**best_params_naive_bayes)"
   ]
  },
  {
   "cell_type": "markdown",
   "metadata": {},
   "source": [
    "----"
   ]
  },
  {
   "cell_type": "code",
   "execution_count": 40,
   "metadata": {},
   "outputs": [],
   "source": [
    "#### Old data\n",
    "\n",
    "df = get_features_v2_target_next_close()\n",
    "\n",
    "from sklearn.model_selection import train_test_split\n",
    "\n",
    "df = get_features_v2_target_next_close()\n",
    "drop_cols = ['datetime', 'open', 'high', 'low', 'close', 'volume', 'target']\n",
    "X = df.drop(drop_cols, axis=1)\n",
    "y = df['target']\n",
    "\n",
    "random_state = 55\n",
    "\n",
    "X_train, X_test, y_train, y_test = train_test_split(X, y, test_size=0.3, random_state=random_state)"
   ]
  },
  {
   "cell_type": "code",
   "execution_count": 41,
   "metadata": {},
   "outputs": [],
   "source": [
    "from imblearn.over_sampling import SMOTE\n",
    "from sklearn.metrics import classification_report\n",
    "from sklearn.preprocessing import StandardScaler\n",
    "\n",
    "# scaler = StandardScaler()\n",
    "# X_train_scaled = scaler.fit_transform(X_train)\n",
    "\n",
    "# # apply SMOTE to training data\n",
    "# X_train_smote, y_train_smote = SMOTE(random_state=random_state).fit_resample(X_train_scaled, y_train)\n",
    "\n",
    "X_train_smote, y_train_smote = SMOTE(random_state=random_state).fit_resample(X_train, y_train)\n"
   ]
  },
  {
   "cell_type": "code",
   "execution_count": 42,
   "metadata": {},
   "outputs": [
    {
     "name": "stdout",
     "output_type": "stream",
     "text": [
      "\n",
      "Classification Report (Original Model):\n",
      "               precision    recall  f1-score   support\n",
      "\n",
      "          -1       0.29      0.46      0.36      1519\n",
      "           0       0.70      0.10      0.17      3629\n",
      "           1       0.26      0.62      0.36      1612\n",
      "\n",
      "    accuracy                           0.30      6760\n",
      "   macro avg       0.42      0.39      0.30      6760\n",
      "weighted avg       0.50      0.30      0.26      6760\n",
      "\n"
     ]
    }
   ],
   "source": [
    "from sklearn.neural_network import MLPClassifier\n",
    "\n",
    "\n",
    "# model = MLPClassifier(random_state=random_state)\n",
    "model = MLPClassifier(hidden_layer_sizes=(50, 50, 50), max_iter=10000, random_state=55)\n",
    "\n",
    "model.fit(X_train_smote, y_train_smote)\n",
    "y_pred = model.predict(X_test)\n",
    "\n",
    "# print original score\n",
    "print(\"\\nClassification Report (Original Model):\\n\", classification_report(y_test, y_pred))"
   ]
  },
  {
   "cell_type": "code",
   "execution_count": 43,
   "metadata": {},
   "outputs": [
    {
     "name": "stdout",
     "output_type": "stream",
     "text": [
      "\n",
      "Classification Report (Original Model):\n",
      "               precision    recall  f1-score   support\n",
      "\n",
      "          -1       0.24      0.83      0.37      1519\n",
      "           0       0.69      0.22      0.34      3629\n",
      "           1       0.39      0.09      0.14      1612\n",
      "\n",
      "    accuracy                           0.33      6760\n",
      "   macro avg       0.44      0.38      0.28      6760\n",
      "weighted avg       0.51      0.33      0.30      6760\n",
      "\n"
     ]
    }
   ],
   "source": [
    "model = SVC(kernel='poly' , random_state=random_state)\n",
    "model.fit(X_train_smote, y_train_smote)\n",
    "y_pred = model.predict(X_test)\n",
    "\n",
    "# print original score\n",
    "print(\"\\nClassification Report (Original Model):\\n\", classification_report(y_test, y_pred))"
   ]
  },
  {
   "cell_type": "code",
   "execution_count": 44,
   "metadata": {},
   "outputs": [
    {
     "name": "stdout",
     "output_type": "stream",
     "text": [
      "\n",
      "Classification Report (Original Model):\n",
      "               precision    recall  f1-score   support\n",
      "\n",
      "          -1       0.39      0.08      0.13      1519\n",
      "           0       0.56      0.90      0.69      3629\n",
      "           1       0.31      0.12      0.17      1612\n",
      "\n",
      "    accuracy                           0.53      6760\n",
      "   macro avg       0.42      0.37      0.33      6760\n",
      "weighted avg       0.46      0.53      0.44      6760\n",
      "\n",
      "\n",
      "Classification Report (Original Model):\n",
      "               precision    recall  f1-score   support\n",
      "\n",
      "          -1       0.38      0.05      0.09      1519\n",
      "           0       0.56      0.92      0.69      3629\n",
      "           1       0.31      0.11      0.16      1612\n",
      "\n",
      "    accuracy                           0.53      6760\n",
      "   macro avg       0.42      0.36      0.31      6760\n",
      "weighted avg       0.46      0.53      0.43      6760\n",
      "\n"
     ]
    }
   ],
   "source": [
    "from sklearn.naive_bayes import GaussianNB\n",
    "\n",
    "model = GaussianNB()\n",
    "model.fit(X_train_smote, y_train_smote)\n",
    "y_pred = model.predict(X_test)\n",
    "\n",
    "# print original score\n",
    "print(\"\\nClassification Report (Original Model):\\n\", classification_report(y_test, y_pred))\n",
    "\n",
    "model = GaussianNB()\n",
    "model.fit(X_train, y_train)\n",
    "y_pred = model.predict(X_test)\n",
    "\n",
    "# print original score\n",
    "print(\"\\nClassification Report (Original Model):\\n\", classification_report(y_test, y_pred))"
   ]
  },
  {
   "cell_type": "code",
   "execution_count": 49,
   "metadata": {},
   "outputs": [
    {
     "name": "stdout",
     "output_type": "stream",
     "text": [
      "\n",
      "Classification Report (Original Model):\n",
      "               precision    recall  f1-score   support\n",
      "\n",
      "          -1       0.67      0.62      0.64      1519\n",
      "           0       0.73      0.83      0.77      3629\n",
      "           1       0.73      0.57      0.64      1612\n",
      "\n",
      "    accuracy                           0.72      6760\n",
      "   macro avg       0.71      0.67      0.69      6760\n",
      "weighted avg       0.72      0.72      0.71      6760\n",
      "\n",
      "\n",
      "Classification Report (Original Model):\n",
      "               precision    recall  f1-score   support\n",
      "\n",
      "          -1       0.65      0.73      0.69      1519\n",
      "           0       0.79      0.76      0.77      3629\n",
      "           1       0.73      0.71      0.72      1612\n",
      "\n",
      "    accuracy                           0.74      6760\n",
      "   macro avg       0.72      0.73      0.73      6760\n",
      "weighted avg       0.74      0.74      0.74      6760\n",
      "\n"
     ]
    }
   ],
   "source": [
    "from sklearn.ensemble import BaggingClassifier\n",
    "from sklearn.tree import DecisionTreeClassifier\n",
    "\n",
    "\n",
    "model = BaggingClassifier(estimator=DecisionTreeClassifier(), n_estimators=10, random_state=random_state, n_jobs=-1)\n",
    "model.fit(X_train, y_train)\n",
    "y_pred = model.predict(X_test)\n",
    "\n",
    "# print original score\n",
    "print(\"\\nClassification Report (Original Model):\\n\", classification_report(y_test, y_pred))\n",
    "\n",
    "# predict with original model\n",
    "model = BaggingClassifier(estimator=DecisionTreeClassifier(), n_estimators=10, random_state=random_state, n_jobs=-1)\n",
    "model.fit(X_train_smote, y_train_smote)\n",
    "y_pred = model.predict(X_test)\n",
    "\n",
    "# print original score\n",
    "print(\"\\nClassification Report (Original Model):\\n\", classification_report(y_test, y_pred))"
   ]
  }
 ],
 "metadata": {
  "kernelspec": {
   "display_name": ".venv",
   "language": "python",
   "name": "python3"
  },
  "language_info": {
   "codemirror_mode": {
    "name": "ipython",
    "version": 3
   },
   "file_extension": ".py",
   "mimetype": "text/x-python",
   "name": "python",
   "nbconvert_exporter": "python",
   "pygments_lexer": "ipython3",
   "version": "3.10.12"
  },
  "orig_nbformat": 4
 },
 "nbformat": 4,
 "nbformat_minor": 2
}
