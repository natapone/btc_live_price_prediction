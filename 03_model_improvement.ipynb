{
 "cells": [
  {
   "cell_type": "markdown",
   "metadata": {},
   "source": [
    "## Model Improvement"
   ]
  },
  {
   "cell_type": "markdown",
   "metadata": {},
   "source": [
    "Summarize the setup and the model from the previous experiment:\n",
    "\n",
    "#### Context\n",
    "The code describes a predictive modeling setup to predict price changes over the next 10 hours based on some given features. \n",
    "The potential outcomes are:\n",
    "- **+1**: The price will increase by more than +1% from the current close.\n",
    "- **-1**: The price will decrease by more than -1% from the current close.\n",
    "- **0**: The price change will be within +- 1% of the current close."
   ]
  },
  {
   "cell_type": "markdown",
   "metadata": {},
   "source": [
    "#### Model Structure\n",
    "\n",
    "##### Data Preprocessing\n",
    "- **Features and Targets**: Dropped 'datetime' and 'target' from features, used 'target' as label.\n",
    "- **Train-Test Split**: 70% training and 30% test data.\n",
    "- **Scaling**: Applied Standard Scaler to normalize feature data.\n",
    "- **Handling Class Imbalance**: Used SMOTE to resample the minority class.\n",
    "\n",
    "##### Base Models for Ensemble\n",
    "1. **K-Nearest Neighbors**: A simple model for classification based on closest data points in the feature space.\n",
    "2. **LightGBM**: A gradient boosting framework that uses tree-based learning algorithms.\n",
    "3. **Bagging with Random Forest**: A Bagging model using RandomForest as the base estimator.\n",
    "4. **Bagging with Decision Tree**: Another Bagging model but using Decision Tree as the base estimator.\n",
    "\n",
    "##### Ensemble Strategy\n",
    "- **Stacking Classifier**: Used as the final model.\n",
    "    - **Base Estimators**: KNN, LightGBM, Bagging with RandomForest, and Bagging with Decision Tree.\n",
    "    - **Final Estimator**: Logistic Regression.\n",
    "\n",
    "##### Model Training\n",
    "- The final stacking model is trained on the resampled (SMOTE) and scaled training data.\n",
    "  \n",
    "##### Evaluation Metrics (on Training Data with Cross-Validation)\n",
    "- **Stacking with Logistic Regression as Final Estimator**: Mean Accuracy: 88.01%, Standard Deviation: 0.0286\n",
    "\n",
    "##### Performance on Unseen Data\n",
    "- The model was also tested on unseen data, with an overall accuracy of 78%.\n",
    "\n",
    "##### Solution for problem with unseen data\n",
    "- **Overfitting** The model may have overfit to the training data, learning the noise in the training data, but not the actual relationship between the variables.\n",
    "- **Solution** Try simplifying the model, for example by reducing the number of features or changing hyperparameters.\n"
   ]
  },
  {
   "cell_type": "markdown",
   "metadata": {},
   "source": [
    "### Current Model"
   ]
  },
  {
   "cell_type": "code",
   "execution_count": 1,
   "metadata": {},
   "outputs": [
    {
     "name": "stdout",
     "output_type": "stream",
     "text": [
      "               datetime      open      high       low     close       volume  \\\n",
      "598 2021-01-25 22:00:00  32715.53  32732.99  31910.00  32462.36  3761.903244   \n",
      "599 2021-01-25 23:00:00  32462.38  32650.00  32201.44  32254.20  2777.021592   \n",
      "600 2021-01-26 00:00:00  32254.19  32793.01  31758.00  32474.33  3799.041198   \n",
      "601 2021-01-26 01:00:00  32474.34  32827.33  32210.01  32758.85  2324.035401   \n",
      "602 2021-01-26 02:00:00  32754.20  32765.41  32230.29  32307.97  2168.256682   \n",
      "\n",
      "     high_pct_4  high_ema_4  high_rsi_4  high_trix_4  ...  volume_var_200  \\\n",
      "598   -3.815782   -1.716759    8.849644    -0.469483  ...    5.152259e+06   \n",
      "599   -3.369146   -1.188915    8.175968    -0.579663  ...    5.155260e+06   \n",
      "600   -2.034151   -0.455044   21.845644    -0.576277  ...    5.155131e+06   \n",
      "601   -1.903168   -0.210814   25.399214    -0.506497  ...    5.153162e+06   \n",
      "602    0.099044   -0.239807   22.894982    -0.426357  ...    5.140007e+06   \n",
      "\n",
      "     volume_lag1_200  volume_lag2_200  price_atr_200  price_interact_200  \\\n",
      "598       102.545726       -17.431208       2.221715          -14.625976   \n",
      "599        32.042845       102.545726       2.231827          -21.702496   \n",
      "600       -36.031537        32.042845       2.221551          -21.254959   \n",
      "601         6.151413       -36.031537       2.200667          -18.903438   \n",
      "602         6.027223         6.151413       2.228503          -21.053520   \n",
      "\n",
      "     pv_interact_200  price_adx_200    mfi_200  price_dx_200  target  \n",
      "598      -210.944150      11.517027  45.237289     13.820209    -1.0  \n",
      "599       350.374052      11.528543  45.097567     13.820209    -1.0  \n",
      "600       -58.854400      11.543267  44.596663     14.473271     0.0  \n",
      "601       -51.773048      11.557579  44.903071     14.405836    -1.0  \n",
      "602      -435.090992      11.571821  44.872249     14.405836    -1.0  \n",
      "\n",
      "[5 rows x 259 columns]\n",
      "                 datetime      open      high       low     close      volume  \\\n",
      "23116 2023-08-22 18:00:00  25832.41  26008.64  25770.14  25905.60  1817.32770   \n",
      "23117 2023-08-22 19:00:00  25905.60  25963.99  25773.96  25779.99  1191.08715   \n",
      "23118 2023-08-22 20:00:00  25780.00  25870.01  25779.99  25864.01   899.40168   \n",
      "23119 2023-08-22 21:00:00  25864.00  25903.78  25300.00  25669.29  5609.68716   \n",
      "23120 2023-08-22 22:00:00  25669.30  25856.63  25643.46  25807.99  1801.76946   \n",
      "\n",
      "       high_pct_4  high_ema_4  high_rsi_4  high_trix_4  ...  volume_var_200  \\\n",
      "23116   -0.193254   -0.083090   27.333871    -0.028193  ...    4.540974e+06   \n",
      "23117   -0.234428   -0.152928   17.047162    -0.041962  ...    4.535598e+06   \n",
      "23118   -0.708969   -0.309239    8.290793    -0.073085  ...    4.534728e+06   \n",
      "23119   -0.496523   -0.107540   26.402835    -0.084072  ...    4.605710e+06   \n",
      "23120   -0.584460   -0.173820   19.305146    -0.093087  ...    4.599817e+06   \n",
      "\n",
      "       volume_lag1_200  volume_lag2_200  price_atr_200  price_interact_200  \\\n",
      "23116       277.079771       269.095011       0.438284           -5.253384   \n",
      "23117       173.470414       277.079771       0.441903           -5.454302   \n",
      "23118       112.887953       173.470414       0.440006           -5.270964   \n",
      "23119        12.363209       112.887953       0.452888           -5.726621   \n",
      "23120       551.920695        12.363209       0.452331           -5.706613   \n",
      "\n",
      "       pv_interact_200  price_adx_200    mfi_200  price_dx_200  target  \n",
      "23116     -2079.258286      19.761073  36.592444     32.715425     0.0  \n",
      "23117     -1393.347193      19.825845  36.536753     32.715425     1.0  \n",
      "23118      -148.102648      19.890292  36.537835     32.715425     0.0  \n",
      "23119     -6978.862261      19.970211  36.083580     35.873910     1.0  \n",
      "23120       460.261979      20.049729  35.832665     35.873910     0.0  \n",
      "\n",
      "[5 rows x 259 columns]\n"
     ]
    }
   ],
   "source": [
    "import pandas as pd\n",
    "import warnings\n",
    "\n",
    "# Ref from data exploration\n",
    "def remove_outlier(df, iqr_threshold = 5):\n",
    "    \n",
    "    # Calculate the first quartile (25th percentile) and third quartile (75th percentile)\n",
    "    q1 = df['volume'].quantile(0.25)\n",
    "    q3 = df['volume'].quantile(0.75)\n",
    "\n",
    "    # Calculate the interquartile range (IQR)\n",
    "    iqr = q3 - q1\n",
    "\n",
    "    # Define lower and upper bounds for outliers\n",
    "    lower_bound = q1 - iqr_threshold * iqr\n",
    "    upper_bound = q3 + iqr_threshold * iqr\n",
    "\n",
    "    lower_bound = 0 if lower_bound < 0 else lower_bound\n",
    "\n",
    "    # remove outliers from df\n",
    "    df = df[(df['volume'] > lower_bound) & (df['volume'] < upper_bound)]\n",
    "    \n",
    "    return df\n",
    "\n",
    "def read_hist_data(name = 'BTC', timeframe = '1h'):\n",
    "    file_path = f\"./data/{name}_USDT-{timeframe}.json\"\n",
    "    df = pd.read_json(file_path)\n",
    "\n",
    "    # set column names\n",
    "    df.columns = ['datetime', 'open', 'high', 'low', 'close', 'volume']\n",
    "\n",
    "    # convert unix timestamp to datetime\n",
    "    df['datetime'] = pd.to_datetime(df['datetime'], unit='ms')\n",
    "    \n",
    "    df = remove_outlier(df)\n",
    "    return df\n",
    "\n",
    "import talib\n",
    "import numpy as np\n",
    "import warnings\n",
    "\n",
    "\n",
    "\n",
    "def get_features(df):\n",
    "\n",
    "    # List of periods\n",
    "    periods = [4, 12, 24, 48, 100, 200]\n",
    "    inputs = ['high', 'low', 'close', 'volume']\n",
    "\n",
    "    \n",
    "    # loop periods and inputs\n",
    "    for period in periods:\n",
    "        for input in inputs:\n",
    "            # Generate indicators\n",
    "\n",
    "            # % of change\n",
    "            df[f'{input}_pct_{period}'] = df[input].pct_change(periods=period) * 100\n",
    "\n",
    "            # % of ema\n",
    "            pct_ema = talib.EMA(df[input].values, timeperiod=period)\n",
    "            df[f'{input}_ema_{period}'] = (df[input] - pct_ema) / pct_ema * 100\n",
    "\n",
    "            # RSI\n",
    "            df[f'{input}_rsi_{period}'] = talib.RSI(df[input].values, timeperiod=period)\n",
    "\n",
    "            # TRIX\n",
    "            df[f'{input}_trix_{period}'] = talib.TRIX(df[input].values, timeperiod=period)\n",
    "\n",
    "            # SD\n",
    "            pct_sd = talib.STDDEV(df[input].values, timeperiod=period)\n",
    "            df[f'{input}_sd_{period}'] = pct_sd / df[input] * 100\n",
    "\n",
    "            # ROC\n",
    "            df[f'{input}_roc_{period}'] = talib.ROC(df[input].values, timeperiod=period)\n",
    "\n",
    "            # VAR\n",
    "            df[f'{input}_var_{period}'] = talib.VAR(df[input].values, timeperiod=period)\n",
    "\n",
    "            # Lagged\n",
    "\n",
    "            # pct change - lagged 1\n",
    "            df[f'{input}_lag1_{period}'] = df[f'{input}_pct_{period}'].shift(1)\n",
    "\n",
    "            # pct change - lagged 2\n",
    "            df[f'{input}_lag2_{period}'] = df[f'{input}_pct_{period}'].shift(2)\n",
    "\n",
    "            \n",
    "\n",
    "\n",
    "        \n",
    "        # Multiple inputs indicators\n",
    "        # ATR\n",
    "        pct_atr = talib.ATR(df['high'].values, df['low'].values, df['close'].values, timeperiod=period)\n",
    "        df[f'price_atr_{period}'] = pct_atr / df['close'] * 100\n",
    "\n",
    "        # Price interaction Features:\n",
    "        df[f'price_interact_{period}'] = df[f'close_roc_{period}'] * df[f'price_atr_{period}']\n",
    "\n",
    "        # Price volume interaction:\n",
    "        df[f'pv_interact_{period}'] = df[f'close_roc_{period}'] * df[f'volume_roc_{period}']\n",
    "\n",
    "        # ADX\n",
    "        df[f'price_adx_{period}'] = talib.ADX(df['high'].values, df['low'].values, df['close'].values, timeperiod=period)\n",
    "\n",
    "        # MFI\n",
    "        df[f'mfi_{period}'] = talib.MFI(df['high'].values, df['low'].values, df['close'].values, df['volume'].values, timeperiod=period)\n",
    "\n",
    "        # DX\n",
    "        df[f'price_dx_{period}'] = talib.DX(df['high'].values, df['low'].values, df['close'].values, timeperiod=period)\n",
    "\n",
    "    return df\n",
    "\n",
    "# to predict if the price will go up (+1%) or down (-1%) in the next 10 periods\n",
    "def get_target_next_close(df, target_shift = 10):\n",
    "\n",
    "    target_treshold = 0.01\n",
    "    conditions = [\n",
    "        (df['close'].shift(target_shift * -1).isnull()), \n",
    "        (df['close'].shift(target_shift * -1) > df['close'] * (1+target_treshold )),\n",
    "        (df['close'].shift(target_shift * -1) < df['close'] * (1-target_treshold)),\n",
    "        (df['close'].shift(target_shift * -1) >= df['close'] * (1-target_treshold)) & \n",
    "        (df['close'].shift(target_shift * -1) <= df['close'] * (1+target_treshold))\n",
    "    ]\n",
    "    values = [np.nan, 1, -1, 0]\n",
    "    df['target'] = np.select(conditions, values)\n",
    "    df = df.dropna()\n",
    "    return df\n",
    "\n",
    "def get_features_target_next_close():\n",
    "\n",
    "    # Disable the PerformanceWarning temporarily\n",
    "    warnings.filterwarnings(\"ignore\", category=pd.errors.PerformanceWarning)\n",
    "\n",
    "    df = read_hist_data()\n",
    "    df = get_features(df)\n",
    "    df = get_target_next_close(df)\n",
    "\n",
    "    # Re-enable warnings\n",
    "    warnings.resetwarnings()\n",
    "\n",
    "    return df\n",
    "\n",
    "df = get_features_target_next_close()\n",
    "\n",
    "print(df.head(5))\n",
    "print(df.tail(5))"
   ]
  },
  {
   "cell_type": "code",
   "execution_count": 2,
   "metadata": {},
   "outputs": [],
   "source": [
    "from sklearn.ensemble import RandomForestClassifier, StackingClassifier, BaggingClassifier\n",
    "from sklearn.neighbors import KNeighborsClassifier\n",
    "from sklearn.tree import DecisionTreeClassifier\n",
    "import lightgbm as lgb\n",
    "from sklearn.model_selection import train_test_split\n",
    "from sklearn.preprocessing import StandardScaler\n",
    "from imblearn.over_sampling import SMOTE\n",
    "from sklearn.linear_model import LogisticRegression\n",
    "from sklearn.metrics import classification_report\n",
    "import joblib\n",
    "\n",
    "# Train model: Stacking Classifier with Logistic Regression as the final estimator\n",
    "def train_model_stacking_lr(X, y, random_state = 55, print_report = True, model_name = 'btc_10h_direction', model_path = './models/'):\n",
    "    # Data Preprocessing: Splitting and Scaling\n",
    "    X_train, X_test, y_train, y_test = train_test_split(X, y, test_size=0.3, random_state=random_state)\n",
    "\n",
    "    scaler = StandardScaler()\n",
    "    X_train_scaled = scaler.fit_transform(X_train)\n",
    "    X_test_scaled = scaler.transform(X_test)\n",
    "\n",
    "    # save scaler\n",
    "    scaler_filepath = model_path + model_name + '_scaler.joblib'\n",
    "    joblib.dump(scaler, scaler_filepath)\n",
    "\n",
    "    # Data Augmentation: SMOTE for imbalance handling\n",
    "    sm = SMOTE(random_state=random_state)\n",
    "    X_train_res, y_train_res = sm.fit_resample(X_train_scaled, y_train)\n",
    "\n",
    "    # Initialize Bagging Classifiers\n",
    "\n",
    "    bagging_rf = BaggingClassifier(estimator=RandomForestClassifier(random_state=random_state, n_jobs=-1),\n",
    "                                n_estimators=10, random_state=random_state, n_jobs=-1)\n",
    "\n",
    "    bagging_dt = BaggingClassifier(estimator=DecisionTreeClassifier(random_state=random_state),\n",
    "                                n_estimators=10, random_state=random_state, n_jobs=-1)\n",
    "\n",
    "    # Initialize base estimators for stacking\n",
    "    base_estimators = [\n",
    "        ('knn', KNeighborsClassifier(n_jobs=-1)),\n",
    "        ('lgbm', lgb.LGBMClassifier(random_state=random_state, n_jobs=-1, verbose=-1)),\n",
    "        ('bagging_rf', bagging_rf),\n",
    "        ('bagging_dt', bagging_dt),\n",
    "        \n",
    "    ]\n",
    "\n",
    "    # Initialize the final Stacking Classifier with Logistic Regression as the final estimator\n",
    "    model = StackingClassifier(estimators=base_estimators, final_estimator=LogisticRegression(max_iter=10000), n_jobs=-1)\n",
    "\n",
    "    # Train the final Stacking model\n",
    "    model.fit(X_train_res, y_train_res)\n",
    "\n",
    "    # save model\n",
    "    model_filepath = model_path + model_name + '_model.joblib'\n",
    "    joblib.dump(model, model_filepath)\n",
    "\n",
    "    if print_report:\n",
    "        # Evaluate the final Stacking model with classification_report\n",
    "        y_pred = model.predict(X_test_scaled)\n",
    "        print(classification_report(y_test, y_pred))\n",
    "    \n",
    "    \n",
    "    return model\n"
   ]
  },
  {
   "cell_type": "code",
   "execution_count": 94,
   "metadata": {},
   "outputs": [
    {
     "name": "stdout",
     "output_type": "stream",
     "text": [
      "              precision    recall  f1-score   support\n",
      "\n",
      "        -1.0       0.77      0.70      0.74      1583\n",
      "         0.0       0.78      0.83      0.80      3534\n",
      "         1.0       0.78      0.73      0.75      1576\n",
      "\n",
      "    accuracy                           0.77      6693\n",
      "   macro avg       0.77      0.75      0.76      6693\n",
      "weighted avg       0.77      0.77      0.77      6693\n",
      "\n"
     ]
    }
   ],
   "source": [
    "# Separate features and target\n",
    "X = df.drop(columns=['datetime', 'target'])\n",
    "y = df['target']\n",
    "\n",
    "# Train the model\n",
    "model = train_model_stacking_lr(X, y)\n"
   ]
  },
  {
   "cell_type": "markdown",
   "metadata": {},
   "source": [
    "##### Test the model with live data"
   ]
  },
  {
   "cell_type": "code",
   "execution_count": 95,
   "metadata": {},
   "outputs": [
    {
     "name": "stdout",
     "output_type": "stream",
     "text": [
      "             datetime      open      high       low     close      volume\n",
      "0 2023-07-17 14:00:00  30286.65  30308.00  30230.38  30274.80  1020.42617\n",
      "1 2023-07-17 15:00:00  30274.81  30291.74  30112.99  30174.83   968.95706\n",
      "2 2023-07-17 16:00:00  30174.84  30241.03  30078.00  30144.01  1466.07769\n",
      "3 2023-07-17 17:00:00  30144.00  30159.99  29920.00  30030.67  2742.68881\n",
      "4 2023-07-17 18:00:00  30030.67  30060.00  29659.20  29802.39  4222.31153\n",
      "               datetime      open      high       low     close      volume\n",
      "994 2023-08-28 00:00:00  26101.78  26105.00  25986.41  26023.51  1227.44710\n",
      "995 2023-08-28 01:00:00  26023.51  26063.39  25993.58  26028.01   857.51904\n",
      "996 2023-08-28 02:00:00  26028.02  26056.93  26019.53  26030.50   481.96317\n",
      "997 2023-08-28 03:00:00  26030.49  26050.75  26012.98  26012.98   742.29889\n",
      "998 2023-08-28 04:00:00  26012.98  26038.83  26009.37  26026.61   514.74670\n"
     ]
    }
   ],
   "source": [
    "# Fetch BTCUSDT-1h data 500 rows from binance API\n",
    "import requests\n",
    "import pandas as pd\n",
    "import json\n",
    "import time\n",
    "import datetime\n",
    "import numpy as np\n",
    "import warnings\n",
    "\n",
    "def format_live_binance_data(df):\n",
    "\n",
    "    # use only completed hour\n",
    "    df = df[df['close_time'] <= datetime.datetime.now(datetime.timezone.utc).strftime(\"%Y-%m-%d %H:%M:%S\")] \n",
    "\n",
    "    df_live = pd.DataFrame()\n",
    "    df_live['datetime'] = df['open_time']\n",
    "    df_live['open'] = df['open']\n",
    "    df_live['high'] = df['high']\n",
    "    df_live['low'] = df['low']\n",
    "    df_live['close'] = df['close']\n",
    "    df_live['volume'] = df['volume']\n",
    "    \n",
    "    return df_live\n",
    "\n",
    "def fetch_live_binance_data(name = 'BTC', timeframe = '1h', limit = 1000):\n",
    "    url = f\"https://api.binance.com/api/v3/klines?symbol={name}USDT&interval={timeframe}&limit={limit}\"\n",
    "    response = requests.get(url)\n",
    "    df = pd.DataFrame(json.loads(response.text))\n",
    "    df.columns = ['open_time',\n",
    "                'open', 'high', 'low', 'close', 'volume',\n",
    "                'close_time', 'quote_asset_volume', 'number_of_trades',\n",
    "                'taker_buy_base_asset_volume', 'taker_buy_quote_asset_volume', 'ignore']\n",
    "    \n",
    "    df = df.astype(float)\n",
    "    df['open_time'] = pd.to_datetime(df['open_time'], unit='ms')\n",
    "    df['close_time'] = pd.to_datetime(df['close_time'], unit='ms')\n",
    "\n",
    "    df = format_live_binance_data(df)\n",
    "    return df\n",
    "\n",
    "df_live = fetch_live_binance_data()\n",
    "\n",
    "print(df_live.head(5))\n",
    "print(df_live.tail(5))"
   ]
  },
  {
   "cell_type": "markdown",
   "metadata": {},
   "source": [
    "##### Calculate feature values for live data"
   ]
  },
  {
   "cell_type": "code",
   "execution_count": 96,
   "metadata": {},
   "outputs": [],
   "source": [
    "# Disable the PerformanceWarning temporarily\n",
    "warnings.filterwarnings(\"ignore\", category=pd.errors.PerformanceWarning)\n",
    "\n",
    "X_live = df_live.copy()\n",
    "X_live = get_features(X_live)\n",
    "X_live.dropna(inplace=True)\n",
    "\n",
    "# Re-enable warnings\n",
    "warnings.resetwarnings()"
   ]
  },
  {
   "cell_type": "code",
   "execution_count": 97,
   "metadata": {},
   "outputs": [],
   "source": [
    "def predict_live_data(X_live, model_name = 'btc_10h_direction', model_path = './models/'):\n",
    "    # Separate features and target\n",
    "    X_live_features = X_live.drop(columns=['datetime'])\n",
    "\n",
    "    # load scaler\n",
    "    scaler_filepath = model_path + model_name + '_scaler.joblib'\n",
    "    scaler = joblib.load(scaler_filepath)\n",
    "    X_live_scaled = scaler.transform(X_live_features)\n",
    "\n",
    "    # load model\n",
    "    model_filepath = model_path + model_name + '_model.joblib'\n",
    "    model = joblib.load(model_filepath)\n",
    "\n",
    "    # predict\n",
    "    y_pred = model.predict(X_live_scaled)\n",
    "\n",
    "    # match prediction with live data\n",
    "    X_live = X_live.copy() # fix fragmented\n",
    "    X_live['prediction'] = y_pred\n",
    "\n",
    "    return X_live\n",
    "\n",
    "y_live_pred = predict_live_data(X_live)"
   ]
  },
  {
   "cell_type": "code",
   "execution_count": 101,
   "metadata": {},
   "outputs": [
    {
     "name": "stdout",
     "output_type": "stream",
     "text": [
      "\n",
      "Classification Report:\n",
      "               precision    recall  f1-score   support\n",
      "\n",
      "        -1.0       0.94      0.64      0.76        45\n",
      "         0.0       0.94      0.99      0.96       333\n",
      "         1.0       0.67      0.31      0.42        13\n",
      "\n",
      "    accuracy                           0.93       391\n",
      "   macro avg       0.85      0.65      0.72       391\n",
      "weighted avg       0.93      0.93      0.92       391\n",
      "\n"
     ]
    },
    {
     "data": {
      "image/png": "[encoded data removed]",
      "text/plain": [
       "<Figure size 800x600 with 2 Axes>"
      ]
     },
     "metadata": {},
     "output_type": "display_data"
    }
   ],
   "source": [
    "from sklearn.metrics import classification_report, confusion_matrix\n",
    "import matplotlib.pyplot as plt\n",
    "import seaborn as sns\n",
    "\n",
    "def evaluate_live_data(y_pred):\n",
    "    pred_result = y_pred[['datetime', 'close', 'prediction']].copy()\n",
    "\n",
    "    pred_target = get_target_next_close(pred_result)\n",
    "\n",
    "    # Confusion report\n",
    "    print(\"\\nClassification Report:\\n\", classification_report(pred_target['target'], pred_target['prediction']))\n",
    "\n",
    "    # 1. Confusion Matrix\n",
    "    conf_matrix = confusion_matrix(pred_target['target'], pred_target['prediction'])\n",
    "\n",
    "    plt.figure(figsize=(8, 6))\n",
    "    sns.heatmap(conf_matrix, annot=True, fmt='g', cmap='Blues', \n",
    "                xticklabels=['-1', '0', '+1'], \n",
    "                yticklabels=['-1', '0', '+1'])\n",
    "    plt.xlabel('Predicted labels')\n",
    "    plt.ylabel('True labels')\n",
    "    plt.title('Confusion Matrix')\n",
    "    plt.show()\n",
    "\n",
    "evaluate_live_data(y_live_pred)"
   ]
  },
  {
   "cell_type": "markdown",
   "metadata": {},
   "source": [
    "The model performs exceptionally well for the majority class (0.0) but struggles to effectively identify instances of the minority classes (-1.0 and 1.0). \n",
    "- High precision but low recall for the minority classes indicates that when the model predicts these classes, it is usually correct, but it also misses a significant number of instances that it should have caught."
   ]
  },
  {
   "cell_type": "code",
   "execution_count": 135,
   "metadata": {},
   "outputs": [
    {
     "data": {
      "image/png": "[encoded data removed]",
      "text/plain": [
       "<Figure size 2500x1000 with 1 Axes>"
      ]
     },
     "metadata": {},
     "output_type": "display_data"
    }
   ],
   "source": [
    "def plot_live_data(y_pred, target_treshold = 0.01, target_shift = 10):\n",
    "    pred_result = y_pred[['datetime', 'close', 'prediction']].copy()\n",
    "\n",
    "    # Calculate future close price, if prediction is 1, then close price will be 1% higher, if prediction is -1, then close price will be 1% lower\n",
    "    pred_result['future_close'] = pred_result['close'] * (1 + pred_result['prediction'] * target_treshold)\n",
    "\n",
    "    # Extend the prediction to the future\n",
    "    date_range = pd.date_range(start=pred_result['datetime'].iloc[-1], periods=(target_shift+1), freq='H')\n",
    "    # remove first row of date_range\n",
    "    date_range = date_range[1:]\n",
    "\n",
    "    pred_result_future = pd.DataFrame()\n",
    "    pred_result_future['datetime'] = date_range\n",
    "    pred_result_future['close'] = np.nan\n",
    "    pred_result_future['prediction'] = np.nan\n",
    "    pred_result_future['future_close'] = np.nan\n",
    "\n",
    "    # concat pred_result and pred_result_future\n",
    "    pred_result = pd.concat([pred_result, pred_result_future])\n",
    "\n",
    "    # shift future_close 10 periods up\n",
    "    pred_result['future_close'] = pred_result['future_close'].shift(target_shift)\n",
    "\n",
    "    # plot 2 lines of close and future_close with sns\n",
    "    plt.figure(figsize=(25, 10))\n",
    "    \n",
    "    sns.lineplot(data=pred_result, x='datetime', y='future_close', label='Predicted Close', color='orange')\n",
    "    sns.lineplot(data=pred_result, x='datetime', y='close', label='Actual Close', color='blue')\n",
    "\n",
    "    plt.scatter(\n",
    "        pred_result[pred_result['prediction'] == 1]['datetime'], \n",
    "        pred_result[pred_result['prediction'] == 1]['close'] - 100, \n",
    "        color='green', \n",
    "        marker='^', \n",
    "        label='Prediction = +1'\n",
    "    )\n",
    "\n",
    "    # Plot scatter points for negative predictions\n",
    "    plt.scatter(\n",
    "        pred_result[pred_result['prediction'] == -1]['datetime'], \n",
    "        pred_result[pred_result['prediction'] == -1]['close'] + 100, \n",
    "        color='red', \n",
    "        marker='v',\n",
    "        label='Prediction = -1'\n",
    "    )\n",
    "\n",
    "    plt.xlabel('Date')\n",
    "    plt.ylabel('Price')\n",
    "    plt.title('Prediction Result')\n",
    "    plt.legend()\n",
    "    plt.show()\n",
    "\n",
    "\n",
    "# print(y_live_pred.tail(5))\n",
    "plot_live_data(y_live_pred)"
   ]
  },
  {
   "cell_type": "markdown",
   "metadata": {},
   "source": [
    "----"
   ]
  },
  {
   "cell_type": "markdown",
   "metadata": {},
   "source": [
    "### Experiment 1: Improvement with Feature Selection"
   ]
  },
  {
   "cell_type": "markdown",
   "metadata": {},
   "source": [
    "The large number of features can add noise or collinearity, which can lead to overfitting. We could improve by reducing the number of features.\n",
    "\n",
    "1. **Feature Importance**: Use algorithms like Random Forests or XGBoost to identify important features. Drop those which do not contribute much to the target variable.\n",
    "   \n",
    "2. **Correlation Analysis**: Remove highly correlated features as they can cause multicollinearity problems."
   ]
  },
  {
   "cell_type": "markdown",
   "metadata": {},
   "source": [
    "##### Feature Importance\n",
    "\n",
    "Refer from least important features in previous experiment, we will drop them and test the model again.\n",
    "- RSIs, EMAs, and ROCs\n",
    "\n",
    "We consider adding more information for the top important features:\n",
    "- ATR lagged\n",
    "\n",
    "Lastly, we try to reduce the number of periods to save computation time:"
   ]
  },
  {
   "cell_type": "code",
   "execution_count": 5,
   "metadata": {},
   "outputs": [],
   "source": [
    "def get_features_v2(df):\n",
    "\n",
    "    # List of periods\n",
    "    periods = [10, 20, 50, 100, 200]\n",
    "    inputs = ['high', 'low', 'close', 'volume']\n",
    "\n",
    "    \n",
    "    # loop periods and inputs\n",
    "    for period in periods:\n",
    "        for input in inputs:\n",
    "            # Generate indicators\n",
    "\n",
    "            # % of change\n",
    "            df[f'{input}_pct_{period}'] = df[input].pct_change(periods=period) * 100\n",
    "\n",
    "            # TRIX\n",
    "            df[f'{input}_trix_{period}'] = talib.TRIX(df[input].values, timeperiod=period)\n",
    "\n",
    "            # SD\n",
    "            pct_sd = talib.STDDEV(df[input].values, timeperiod=period)\n",
    "            df[f'{input}_sd_{period}'] = pct_sd / df[input] * 100\n",
    "\n",
    "            # VAR\n",
    "            df[f'{input}_var_{period}'] = talib.VAR(df[input].values, timeperiod=period)\n",
    "\n",
    "            df = df.copy()\n",
    "\n",
    "            \n",
    "\n",
    "\n",
    "        \n",
    "        # Multiple inputs indicators\n",
    "        # ATR\n",
    "        pct_atr = talib.ATR(df['high'].values, df['low'].values, df['close'].values, timeperiod=period)\n",
    "        df[f'price_atr_{period}'] = pct_atr / df['close'] * 100\n",
    "\n",
    "        # ATR - lagged 1\n",
    "        df[f'price_atr_lag1_{period}'] = df[f'price_atr_{period}'].shift(1)\n",
    "\n",
    "        # ATR - lagged 2\n",
    "        df[f'price_atr_lag2_{period}'] = df[f'price_atr_{period}'].shift(2)\n",
    "\n",
    "        # Price interaction Features:\n",
    "        df[f'price_interact_{period}'] = df[f'close_pct_{period}'] * df[f'price_atr_{period}']\n",
    "\n",
    "        # Price volume interaction:\n",
    "        df[f'pv_interact_{period}'] = df[f'close_pct_{period}'] * df[f'volume_pct_{period}']\n",
    "\n",
    "        # ADX\n",
    "        df[f'price_adx_{period}'] = talib.ADX(df['high'].values, df['low'].values, df['close'].values, timeperiod=period)\n",
    "\n",
    "        # MFI\n",
    "        df[f'mfi_{period}'] = talib.MFI(df['high'].values, df['low'].values, df['close'].values, df['volume'].values, timeperiod=period)\n",
    "\n",
    "        # DX\n",
    "        df[f'price_dx_{period}'] = talib.DX(df['high'].values, df['low'].values, df['close'].values, timeperiod=period)\n",
    "\n",
    "        df = df.copy()\n",
    "\n",
    "    return df\n",
    "\n",
    "def get_features_v2_target_next_close():\n",
    "\n",
    "    df = read_hist_data()\n",
    "    df = get_features_v2(df)\n",
    "    df = get_target_next_close(df)\n",
    "\n",
    "    return df\n",
    "\n",
    "df = get_features_v2_target_next_close()\n",
    "\n"
   ]
  },
  {
   "cell_type": "code",
   "execution_count": 6,
   "metadata": {},
   "outputs": [
    {
     "name": "stdout",
     "output_type": "stream",
     "text": [
      "               datetime      open      high       low     close       volume  \\\n",
      "598 2021-01-25 22:00:00  32715.53  32732.99  31910.00  32462.36  3761.903244   \n",
      "599 2021-01-25 23:00:00  32462.38  32650.00  32201.44  32254.20  2777.021592   \n",
      "600 2021-01-26 00:00:00  32254.19  32793.01  31758.00  32474.33  3799.041198   \n",
      "601 2021-01-26 01:00:00  32474.34  32827.33  32210.01  32758.85  2324.035401   \n",
      "602 2021-01-26 02:00:00  32754.20  32765.41  32230.29  32307.97  2168.256682   \n",
      "\n",
      "     high_pct_10  high_trix_10  high_sd_10    high_var_10  ...  \\\n",
      "598    -4.568542      0.127206    1.981095  420515.414542  ...   \n",
      "599    -5.891319      0.070057    2.236237  533091.604260  ...   \n",
      "600    -5.969864      0.017296    2.144141  494389.700350  ...   \n",
      "601    -5.092822     -0.027989    2.016728  438294.373684  ...   \n",
      "602    -5.302283     -0.066215    1.735132  323218.431721  ...   \n",
      "\n",
      "     volume_var_200  price_atr_200  price_atr_lag1_200  price_atr_lag2_200  \\\n",
      "598    5.152259e+06       2.221715            2.202788            2.144367   \n",
      "599    5.155260e+06       2.231827            2.221715            2.202788   \n",
      "600    5.155131e+06       2.221551            2.231827            2.221715   \n",
      "601    5.153162e+06       2.200667            2.221551            2.231827   \n",
      "602    5.140007e+06       2.228503            2.200667            2.221551   \n",
      "\n",
      "     price_interact_200  pv_interact_200  price_adx_200    mfi_200  \\\n",
      "598          -14.625976      -210.944150      11.517027  45.237289   \n",
      "599          -21.702496       350.374052      11.528543  45.097567   \n",
      "600          -21.254959       -58.854400      11.543267  44.596663   \n",
      "601          -18.903438       -51.773048      11.557579  44.903071   \n",
      "602          -21.053520      -435.090992      11.571821  44.872249   \n",
      "\n",
      "     price_dx_200  target  \n",
      "598     13.820209    -1.0  \n",
      "599     13.820209    -1.0  \n",
      "600     14.473271     0.0  \n",
      "601     14.405836    -1.0  \n",
      "602     14.405836    -1.0  \n",
      "\n",
      "[5 rows x 127 columns]\n",
      "                 datetime      open      high       low     close      volume  \\\n",
      "23116 2023-08-22 18:00:00  25832.41  26008.64  25770.14  25905.60  1817.32770   \n",
      "23117 2023-08-22 19:00:00  25905.60  25963.99  25773.96  25779.99  1191.08715   \n",
      "23118 2023-08-22 20:00:00  25780.00  25870.01  25779.99  25864.01   899.40168   \n",
      "23119 2023-08-22 21:00:00  25864.00  25903.78  25300.00  25669.29  5609.68716   \n",
      "23120 2023-08-22 22:00:00  25669.30  25856.63  25643.46  25807.99  1801.76946   \n",
      "\n",
      "       high_pct_10  high_trix_10  high_sd_10  high_var_10  ...  \\\n",
      "23116    -0.397512     -0.014987    0.099638   671.562973  ...   \n",
      "23117    -0.469172     -0.017394    0.135993  1246.734778  ...   \n",
      "23118    -0.713809     -0.022242    0.240165  3860.210461  ...   \n",
      "23119    -0.622343     -0.027097    0.269258  4864.774033  ...   \n",
      "23120    -0.933325     -0.032457    0.291974  5699.445073  ...   \n",
      "\n",
      "       volume_var_200  price_atr_200  price_atr_lag1_200  price_atr_lag2_200  \\\n",
      "23116    4.540974e+06       0.438284            0.437095            0.430201   \n",
      "23117    4.535598e+06       0.441903            0.438284            0.437095   \n",
      "23118    4.534728e+06       0.440006            0.441903            0.438284   \n",
      "23119    4.605710e+06       0.452888            0.440006            0.441903   \n",
      "23120    4.599817e+06       0.452331            0.452888            0.440006   \n",
      "\n",
      "       price_interact_200  pv_interact_200  price_adx_200    mfi_200  \\\n",
      "23116           -5.253384     -2079.258286      19.761073  36.592444   \n",
      "23117           -5.454302     -1393.347193      19.825845  36.536753   \n",
      "23118           -5.270964      -148.102648      19.890292  36.537835   \n",
      "23119           -5.726621     -6978.862261      19.970211  36.083580   \n",
      "23120           -5.706613       460.261979      20.049729  35.832665   \n",
      "\n",
      "       price_dx_200  target  \n",
      "23116     32.715425     0.0  \n",
      "23117     32.715425     1.0  \n",
      "23118     32.715425     0.0  \n",
      "23119     35.873910     1.0  \n",
      "23120     35.873910     0.0  \n",
      "\n",
      "[5 rows x 127 columns]\n",
      "Total columns: 127\n"
     ]
    }
   ],
   "source": [
    "print(df.head(5))\n",
    "print(df.tail(5))   \n",
    "\n",
    "print(f'Total columns: {len(df.columns)}')"
   ]
  },
  {
   "cell_type": "code",
   "execution_count": 209,
   "metadata": {},
   "outputs": [],
   "source": [
    "from sklearn.model_selection import train_test_split\n",
    "from sklearn.ensemble import RandomForestClassifier\n",
    "import matplotlib.pyplot as plt\n",
    "import numpy as np\n",
    "\n",
    "random_state=55\n",
    "\n",
    "# Assuming df is the DataFrame with features and target variable\n",
    "# Separate features and target\n",
    "X = df.drop(columns=['datetime', 'target'])\n",
    "y = df['target']\n",
    "\n",
    "# Split the data into training and test sets\n",
    "X_train, X_test, y_train, y_test = train_test_split(X, y, test_size=0.3, random_state=random_state)\n",
    "\n",
    "# Initialize and train the model\n",
    "clf = RandomForestClassifier(random_state=random_state, n_jobs=-1)\n",
    "clf.fit(X_train, y_train)\n",
    "\n",
    "# Get feature importances\n",
    "feature_importances = clf.feature_importances_\n",
    "\n",
    "# Sort feature importances in descending order and get the indices\n",
    "indices = np.argsort(feature_importances)[::-1]\n",
    "\n",
    "# Rearrange feature names so they match the sorted feature importances\n",
    "feature_names = [X.columns[i] for i in indices]\n"
   ]
  },
  {
   "cell_type": "code",
   "execution_count": 210,
   "metadata": {},
   "outputs": [
    {
     "data": {
      "image/png": "[encoded data removed]",
      "text/plain": [
       "<Figure size 3000x700 with 1 Axes>"
      ]
     },
     "metadata": {},
     "output_type": "display_data"
    },
    {
     "name": "stdout",
     "output_type": "stream",
     "text": [
      "Total features: 125\n",
      "Top 25 important features:  ['price_atr_lag1_200', 'price_atr_100', 'price_atr_200', 'price_atr_50', 'price_atr_lag2_200', 'price_atr_lag2_100', 'price_adx_100', 'price_adx_200', 'volume_trix_100', 'volume_trix_200', 'volume_var_100', 'price_atr_lag1_50', 'price_atr_lag1_100', 'low_var_200', 'high_var_200', 'price_atr_20', 'volume_var_200', 'close_var_200', 'close', 'volume_var_50', 'price_adx_50', 'volume_trix_20', 'price_atr_lag2_20', 'high', 'price_atr_lag2_50']\n",
      "Least 25 important features:  ['high_pct_100', 'low_var_10', 'low_pct_20', 'price_interact_50', 'close_sd_10', 'close_pct_100', 'price_interact_20', 'price_interact_10', 'volume_pct_100', 'volume_sd_100', 'pv_interact_100', 'high_pct_50', 'low_pct_10', 'high_sd_10', 'volume_pct_50', 'pv_interact_200', 'high_pct_10', 'pv_interact_50', 'high_pct_20', 'volume_pct_10', 'pv_interact_20', 'volume_sd_200', 'volume_pct_20', 'pv_interact_10', 'volume']\n"
     ]
    }
   ],
   "source": [
    "# Create a plot\n",
    "plt.figure(figsize=(30, 7))\n",
    "\n",
    "# Create plot title\n",
    "plt.title(\"Feature Importance\")\n",
    "\n",
    "# Add bars for each feature, small font size to fit the features\n",
    "plt.bar(range(X.shape[1]), feature_importances[indices] )\n",
    "\n",
    "# Add feature names as x-axis labels\n",
    "plt.xticks(range(X.shape[1]), feature_names, rotation=90, fontsize = 8)\n",
    "\n",
    "# Show plot\n",
    "plt.show()\n",
    "\n",
    "# print total features\n",
    "print(f'Total features: {len(feature_names)}')\n",
    "\n",
    "# print most important 25 features\n",
    "print(\"Top 25 important features: \", feature_names[:25])\n",
    "\n",
    "# print least important 25 features\n",
    "print(\"Least 25 important features: \", feature_names[-25:])\n"
   ]
  },
  {
   "cell_type": "code",
   "execution_count": 211,
   "metadata": {},
   "outputs": [
    {
     "name": "stdout",
     "output_type": "stream",
     "text": [
      "Accuracy: 0.7978\n",
      "F1-Score: 0.7956\n",
      "Precision: 0.8016\n",
      "Recall: 0.7978\n"
     ]
    }
   ],
   "source": [
    "from sklearn.metrics import accuracy_score, f1_score, precision_score, recall_score\n",
    "\n",
    "# Predict labels for the test set\n",
    "y_pred = clf.predict(X_test)\n",
    "\n",
    "# Calculate metrics\n",
    "accuracy = accuracy_score(y_test, y_pred)\n",
    "f1 = f1_score(y_test, y_pred, average='weighted')  # Use weighted average if classes are imbalanced\n",
    "precision = precision_score(y_test, y_pred, average='weighted')\n",
    "recall = recall_score(y_test, y_pred, average='weighted')\n",
    "\n",
    "# Print metrics\n",
    "print(f\"Accuracy: {accuracy:0.4f}\")\n",
    "print(f\"F1-Score: {f1:0.4f}\")\n",
    "print(f\"Precision: {precision:0.4f}\")\n",
    "print(f\"Recall: {recall:0.4f}\")"
   ]
  },
  {
   "cell_type": "markdown",
   "metadata": {},
   "source": [
    "##### Observations\n",
    "\n",
    "1. **Improved Performance**: After reducing the number of features, all the performance metrics improved.\n",
    "2. **Feature Importance**: By narrowing down to important features, the model seems to have reduced noise and therefore improved its generalization capability.\n",
    "3. **Lagged Features**: Introducing lagged features ('price_atr_lag1_200', 'price_atr_lag2_200') appeared beneficial.\n",
    "4. **Overfitting**: The model initially suffered from overfitting due to too many features, but this seemed to have been improved by feature reduction."
   ]
  },
  {
   "cell_type": "markdown",
   "metadata": {},
   "source": [
    "##### Rebuild the model with the new features"
   ]
  },
  {
   "cell_type": "code",
   "execution_count": 213,
   "metadata": {},
   "outputs": [
    {
     "name": "stdout",
     "output_type": "stream",
     "text": [
      "              precision    recall  f1-score   support\n",
      "\n",
      "        -1.0       0.78      0.77      0.77      1583\n",
      "         0.0       0.81      0.82      0.82      3534\n",
      "         1.0       0.80      0.79      0.79      1576\n",
      "\n",
      "    accuracy                           0.80      6693\n",
      "   macro avg       0.80      0.79      0.80      6693\n",
      "weighted avg       0.80      0.80      0.80      6693\n",
      "\n"
     ]
    }
   ],
   "source": [
    "# Separate features and target\n",
    "X = df.drop(columns=['datetime', 'target'])\n",
    "y = df['target']\n",
    "\n",
    "# Train the model\n",
    "model = train_model_stacking_lr(X, y, model_name = 'btc_10h_direction_v2')"
   ]
  },
  {
   "cell_type": "markdown",
   "metadata": {},
   "source": [
    "##### Observations\n",
    "\n",
    "1. **Improved Performance**: Your performance metrics have improved across all classes and overall after the feature reduction. This validates that your approach to feature selection was effective.\n",
    "  \n",
    "2. **Balanced Class-wise Metrics**: Your model appears to be balanced across classes after the feature reduction, showing no significant bias towards any specific class.\n",
    "\n",
    "3. **Overall Consistency**: All metrics such as precision, recall, F1-score, and accuracy have improved, suggesting that the model is likely more robust and generalizable than before.\n",
    "\n",
    "##### Next Steps\n",
    "\n",
    "- **Hyperparameter Tuning**: Experimenting with the model hyperparameters might yield even better results."
   ]
  },
  {
   "cell_type": "markdown",
   "metadata": {},
   "source": [
    "----"
   ]
  },
  {
   "cell_type": "markdown",
   "metadata": {},
   "source": [
    "### Experiment 2: Hyperparameter Tuning"
   ]
  },
  {
   "cell_type": "code",
   "execution_count": null,
   "metadata": {},
   "outputs": [],
   "source": [
    "from sklearn.model_selection import GridSearchCV\n",
    "\n",
    "# Function for hyperparameter tuning\n",
    "def tune_model_stacking_lr(X, y, random_state=55, cv_folds=5):\n",
    "    \n",
    "    # Data Preprocessing: Splitting and Scaling\n",
    "    X_train, X_test, y_train, y_test = train_test_split(X, y, test_size=0.3, random_state=random_state)\n",
    "    scaler = StandardScaler()\n",
    "    X_train_scaled = scaler.fit_transform(X_train)\n",
    "\n",
    "    # Data Augmentation: SMOTE\n",
    "    sm = SMOTE(random_state=random_state)\n",
    "    X_train_res, y_train_res = sm.fit_resample(X_train_scaled, y_train)\n",
    "\n",
    "    # Initialize base classifiers\n",
    "    knn = KNeighborsClassifier()\n",
    "    lgbm = lgb.LGBMClassifier()\n",
    "    rf = RandomForestClassifier()\n",
    "    dt = DecisionTreeClassifier()\n",
    "    \n",
    "    # Hyperparameter grid for each base classifier\n",
    "    knn_params = {'n_neighbors': [3, 5, 7], 'weights': ['uniform', 'distance']}\n",
    "    lgbm_params = {'learning_rate': [0.01, 0.1], 'n_estimators': [50, 100]}\n",
    "    rf_params = {'n_estimators': [10, 50], 'max_depth': [None, 10, 20]}\n",
    "    dt_params = {'criterion': ['gini', 'entropy'], 'max_depth': [None, 10, 20]}\n",
    "    lr_params = {'C': [0.1, 1, 10]}\n",
    "    \n",
    "    # Create grid for Stacking Classifier\n",
    "    param_grid = [\n",
    "        {\n",
    "            'knn__n_neighbors': knn_params['n_neighbors'],\n",
    "            'knn__weights': knn_params['weights'],\n",
    "            'lgbm__learning_rate': lgbm_params['learning_rate'],\n",
    "            'lgbm__n_estimators': lgbm_params['n_estimators'],\n",
    "            'bagging_rf__base_estimator__n_estimators': rf_params['n_estimators'],\n",
    "            'bagging_rf__base_estimator__max_depth': rf_params['max_depth'],\n",
    "            'bagging_dt__base_estimator__criterion': dt_params['criterion'],\n",
    "            'bagging_dt__base_estimator__max_depth': dt_params['max_depth'],\n",
    "            'final_estimator__C': lr_params['C']\n",
    "        }\n",
    "    ]\n",
    "    \n",
    "    # Initialize Bagging Classifiers\n",
    "    bagging_rf = BaggingClassifier(estimator=RandomForestClassifier(n_jobs=-1), n_estimators=10, random_state=random_state, n_jobs=-1)\n",
    "    bagging_dt = BaggingClassifier(estimator=DecisionTreeClassifier(), n_estimators=10, random_state=random_state, n_jobs=-1)\n",
    "\n",
    "    # Initialize base estimators for stacking\n",
    "    base_estimators = [\n",
    "        ('knn', knn),\n",
    "        ('lgbm', lgbm),\n",
    "        ('bagging_rf', bagging_rf),\n",
    "        ('bagging_dt', bagging_dt)\n",
    "    ]\n",
    "    \n",
    "    # Initialize Stacking Classifier\n",
    "    model = StackingClassifier(estimators=base_estimators, final_estimator=LogisticRegression(max_iter=10000), n_jobs=-1)\n",
    "    \n",
    "    # Initialize GridSearch\n",
    "    grid_search = GridSearchCV(estimator=model, param_grid=param_grid, \n",
    "                               cv=cv_folds, n_jobs=-1, verbose=2)\n",
    "    \n",
    "    # Perform hyperparameter search\n",
    "    grid_search.fit(X_train_res, y_train_res)\n",
    "    \n",
    "    return grid_search.best_params_, grid_search.best_estimator_\n",
    "\n",
    "# Run hyperparameter tuning\n",
    "best_params, best_model = tune_model_stacking_lr(X, y)\n",
    "print(f\"Best parameters: {best_params}\")\n"
   ]
  },
  {
   "cell_type": "markdown",
   "metadata": {},
   "source": [
    "The optimization has been running **more than 24 hours and still not finished**. I decided to stop the optimization and use the best parameters found so far."
   ]
  },
  {
   "cell_type": "markdown",
   "metadata": {},
   "source": [
    "##### Alternative ways to speed up the process:\n",
    "\n",
    "**1. Randomized Search**\n",
    "\n",
    "Instead of an exhaustive grid search, use a randomized search. It samples a fixed number of parameter combinations from the specified hyperparameter space. This can be more efficient and quicker.\n",
    "\n",
    "**2. Coarse-to-Fine Tuning**\n",
    "\n",
    "First perform a rough search over a wide range of parameter values, and then perform a more focused search around the best parameters found.\n",
    "\n",
    "**3. Parallelization**\n",
    "\n",
    "Increase the number of workers in the search, setting `n_jobs=-1` will use all available CPUs to perform the search.\n",
    "\n",
    "**4. Early Stopping**\n",
    "\n",
    "For algorithms that support it (e.g., gradient boosting, neural networks), you can set early stopping rules to halt the training process when it's clear the model is not improving.\n",
    "\n",
    "**5. Bayesian Optimization**\n",
    "\n",
    "This is a probabilistic model based optimization technique, and is more efficient than grid and random search. Libraries like `Hyperopt` or `Optuna` can be used for Bayesian Optimization.\n",
    "\n",
    "**6. Reduce Data Size**\n",
    "\n",
    "For a quicker run time, you can perform the hyperparameter tuning steps on a smaller subset of your data. Once the best parameters are found, you can use them to train the model on the complete dataset.\n",
    "\n",
    "**7. Incremental Training**\n",
    "\n",
    "If your model allows for incremental training (also known as \"warm starting\"), you can train it in chunks to allow for more iterative model updates.\n",
    "\n",
    "**8. Pre-emption**\n",
    "\n",
    "Some optimization frameworks allow you to preemptively halt the least promising trials before they complete, based on interim results.\n",
    "\n",
    "**9. Ensemble of Best Models**\n",
    "\n",
    "Instead of searching for one set of optimal parameters, you can train multiple models with different parameters and ensemble their predictions.\n",
    "\n",
    "**10. Checkpointing**\n",
    "\n",
    "Save the model and its best parameters periodically during training, so you can stop and restart the optimization process at will."
   ]
  },
  {
   "cell_type": "markdown",
   "metadata": {},
   "source": [
    "----"
   ]
  },
  {
   "cell_type": "markdown",
   "metadata": {},
   "source": [
    "### Experiment 3: Hyperparameter Tuning with Ensemble of Best Models Approach"
   ]
  },
  {
   "cell_type": "markdown",
   "metadata": {},
   "source": [
    "Long running times during hyperparameter optimization are common, especially when the parameter space is large and the model is complex. \n",
    "- I decide to use the ensemble of best models approach to spit the hyperparameter tuning into multiple runs. \n",
    "- Then I will stack the best models from each run to form the final model."
   ]
  },
  {
   "cell_type": "code",
   "execution_count": 10,
   "metadata": {},
   "outputs": [],
   "source": [
    "from sklearn.model_selection import train_test_split\n",
    "from sklearn.preprocessing import StandardScaler\n",
    "from imblearn.over_sampling import SMOTE\n",
    "import matplotlib.pyplot as plt\n",
    "import numpy as np\n",
    "\n",
    "\n",
    "df = get_features_v2_target_next_close()\n",
    "\n",
    "random_state=55\n",
    "\n",
    "# Separate features and target\n",
    "X = df.drop(columns=['datetime', 'target'])\n",
    "y = df['target']\n",
    "\n",
    "# Split the data into training and test sets\n",
    "X_train, X_test, y_train, y_test = train_test_split(X, y, test_size=0.3, random_state=random_state)\n",
    "\n",
    "# scaling\n",
    "scaler = StandardScaler()\n",
    "X_train_scaled = scaler.fit_transform(X_train)\n",
    "X_test_scaled = scaler.transform(X_test)\n",
    "\n",
    "# SMOTE\n",
    "sm = SMOTE(random_state=random_state)\n",
    "X_train_res, y_train_res = sm.fit_resample(X_train_scaled, y_train)"
   ]
  },
  {
   "cell_type": "markdown",
   "metadata": {},
   "source": [
    "Load modules"
   ]
  },
  {
   "cell_type": "code",
   "execution_count": 11,
   "metadata": {},
   "outputs": [],
   "source": [
    "from sklearn.ensemble import RandomForestClassifier, StackingClassifier\n",
    "from sklearn.neighbors import KNeighborsClassifier\n",
    "from sklearn.tree import DecisionTreeClassifier\n",
    "import lightgbm as lgb\n",
    "from sklearn.linear_model import LogisticRegression\n",
    "from sklearn.metrics import classification_report\n",
    "from sklearn.model_selection import GridSearchCV"
   ]
  },
  {
   "cell_type": "markdown",
   "metadata": {},
   "source": [
    "##### Step 1: Tune Each Base Model Separately and Save Best Parameters"
   ]
  },
  {
   "cell_type": "markdown",
   "metadata": {},
   "source": [
    "1.1 K-Nearest Neighbors"
   ]
  },
  {
   "cell_type": "code",
   "execution_count": 15,
   "metadata": {},
   "outputs": [
    {
     "name": "stdout",
     "output_type": "stream",
     "text": [
      "Best parameters for KNN: {'n_neighbors': 3, 'weights': 'distance'}\n"
     ]
    }
   ],
   "source": [
    "# Parameter grid for KNN\n",
    "param_grid_knn = {'n_neighbors': [3, 5, 7], 'weights': ['uniform', 'distance']}\n",
    "grid_knn = GridSearchCV(estimator=KNeighborsClassifier(), param_grid=param_grid_knn, n_jobs=-1, cv=5)\n",
    "grid_knn.fit(X_train_res, y_train_res)\n",
    "\n",
    "# Save best parameters\n",
    "best_params_knn = grid_knn.best_params_\n",
    "print(f\"Best parameters for KNN:\", best_params_knn)"
   ]
  },
  {
   "cell_type": "code",
   "execution_count": 16,
   "metadata": {},
   "outputs": [
    {
     "name": "stdout",
     "output_type": "stream",
     "text": [
      "\n",
      "Classification Report (Original Model):\n",
      "               precision    recall  f1-score   support\n",
      "\n",
      "        -1.0       0.65      0.82      0.73      1583\n",
      "         0.0       0.85      0.68      0.76      3534\n",
      "         1.0       0.70      0.82      0.76      1576\n",
      "\n",
      "    accuracy                           0.75      6693\n",
      "   macro avg       0.73      0.78      0.75      6693\n",
      "weighted avg       0.77      0.75      0.75      6693\n",
      "\n",
      "\n",
      "Classification Report (Best Model):\n",
      "               precision    recall  f1-score   support\n",
      "\n",
      "        -1.0       0.71      0.82      0.76      1583\n",
      "         0.0       0.84      0.74      0.78      3534\n",
      "         1.0       0.73      0.82      0.77      1576\n",
      "\n",
      "    accuracy                           0.78      6693\n",
      "   macro avg       0.76      0.79      0.77      6693\n",
      "weighted avg       0.78      0.78      0.78      6693\n",
      "\n"
     ]
    }
   ],
   "source": [
    "# predict with original model\n",
    "model = KNeighborsClassifier(n_jobs=-1)\n",
    "model.fit(X_train_res, y_train_res)\n",
    "y_pred = model.predict(X_test_scaled)\n",
    "\n",
    "# print original score\n",
    "print(\"\\nClassification Report (Original Model):\\n\", classification_report(y_test, y_pred))\n",
    "\n",
    "# predict with best model\n",
    "model = KNeighborsClassifier(**best_params_knn, n_jobs=-1)\n",
    "model.fit(X_train_res, y_train_res)\n",
    "y_pred = model.predict(X_test_scaled)\n",
    "\n",
    "# print best score\n",
    "print(\"\\nClassification Report (Best Model):\\n\", classification_report(y_test, y_pred))"
   ]
  },
  {
   "cell_type": "markdown",
   "metadata": {},
   "source": [
    "1.2 LightGBM"
   ]
  },
  {
   "cell_type": "code",
   "execution_count": 11,
   "metadata": {},
   "outputs": [
    {
     "name": "stdout",
     "output_type": "stream",
     "text": [
      "Best Parameters for RandomForest: {'learning_rate': 0.15, 'n_estimators': 250, 'num_leaves': 124}\n"
     ]
    }
   ],
   "source": [
    "# Suppress the DeprecationWarning temporarily\n",
    "warnings.filterwarnings(\"ignore\", category=DeprecationWarning)\n",
    "\n",
    "# Parameter grid for LightGBM\n",
    "param_grid_lgb = {'n_estimators': [50, 100, 150, 200, 250], 'learning_rate': [0.05, 0.1, 0.15], 'num_leaves': [31, 62, 124]}\n",
    "grid_lgb = GridSearchCV(lgb.LGBMClassifier(random_state=random_state, n_jobs=-1, verbose=-1), param_grid=param_grid_lgb, cv=5)\n",
    "grid_lgb.fit(X_train_res, y_train_res)\n",
    "\n",
    "# Save best parameters\n",
    "best_params_lgb = grid_lgb.best_params_\n",
    "print(\"Best Parameters for LightGBM:\", best_params_lgb)"
   ]
  },
  {
   "cell_type": "code",
   "execution_count": 13,
   "metadata": {},
   "outputs": [
    {
     "name": "stdout",
     "output_type": "stream",
     "text": [
      "\n",
      "Classification Report (Original Model):\n",
      "               precision    recall  f1-score   support\n",
      "\n",
      "        -1.0       0.65      0.74      0.69      1583\n",
      "         0.0       0.81      0.70      0.75      3534\n",
      "         1.0       0.66      0.77      0.71      1576\n",
      "\n",
      "    accuracy                           0.73      6693\n",
      "   macro avg       0.71      0.74      0.72      6693\n",
      "weighted avg       0.74      0.73      0.73      6693\n",
      "\n",
      "\n",
      "Classification Report (Best Model):\n",
      "               precision    recall  f1-score   support\n",
      "\n",
      "        -1.0       0.77      0.77      0.77      1583\n",
      "         0.0       0.82      0.82      0.82      3534\n",
      "         1.0       0.79      0.79      0.79      1576\n",
      "\n",
      "    accuracy                           0.80      6693\n",
      "   macro avg       0.79      0.79      0.79      6693\n",
      "weighted avg       0.80      0.80      0.80      6693\n",
      "\n"
     ]
    }
   ],
   "source": [
    "# predict with original model\n",
    "model = lgb.LGBMClassifier(random_state=random_state, n_jobs=-1, verbose=-1)\n",
    "model.fit(X_train_res, y_train_res)\n",
    "y_pred = model.predict(X_test_scaled)\n",
    "\n",
    "# print original score\n",
    "print(\"\\nClassification Report (Original Model):\\n\", classification_report(y_test, y_pred))\n",
    "\n",
    "# predict with best model\n",
    "model = lgb.LGBMClassifier(**best_params_lgb, random_state=random_state, n_jobs=-1, verbose=-1)\n",
    "model.fit(X_train_res, y_train_res)\n",
    "y_pred = model.predict(X_test_scaled)\n",
    "\n",
    "# print best score\n",
    "print(\"\\nClassification Report (Best Model):\\n\", classification_report(y_test, y_pred))\n",
    "\n",
    "# Re-enable warnings\n",
    "warnings.resetwarnings()"
   ]
  },
  {
   "cell_type": "markdown",
   "metadata": {},
   "source": [
    "1.3.1 Random Forest"
   ]
  },
  {
   "cell_type": "code",
   "execution_count": 17,
   "metadata": {},
   "outputs": [
    {
     "name": "stdout",
     "output_type": "stream",
     "text": [
      "Best Parameters for RandomForest: {'max_depth': 40, 'n_estimators': 300}\n"
     ]
    }
   ],
   "source": [
    "# Parameter grid for Random Forest\n",
    "param_grid_rf = {'n_estimators': [50, 100, 150, 200, 250, 300, 350], 'max_depth': [None, 10, 20, 30, 40, 50]}\n",
    "grid_rf = GridSearchCV(RandomForestClassifier(random_state=random_state, n_jobs=-1), param_grid=param_grid_rf, cv=5)\n",
    "grid_rf.fit(X_train_res, y_train_res)\n",
    "\n",
    "# Save best parameters\n",
    "best_params_rf = grid_rf.best_params_\n",
    "print(\"Best Parameters for Random Forest:\", best_params_rf)"
   ]
  },
  {
   "cell_type": "code",
   "execution_count": 19,
   "metadata": {},
   "outputs": [
    {
     "name": "stdout",
     "output_type": "stream",
     "text": [
      "\n",
      "Classification Report (Original Model):\n",
      "               precision    recall  f1-score   support\n",
      "\n",
      "        -1.0       0.77      0.79      0.78      1583\n",
      "         0.0       0.82      0.82      0.82      3534\n",
      "         1.0       0.80      0.79      0.80      1576\n",
      "\n",
      "    accuracy                           0.81      6693\n",
      "   macro avg       0.80      0.80      0.80      6693\n",
      "weighted avg       0.81      0.81      0.81      6693\n",
      "\n",
      "\n",
      "Classification Report (Best Model):\n",
      "               precision    recall  f1-score   support\n",
      "\n",
      "        -1.0       0.78      0.80      0.79      1583\n",
      "         0.0       0.83      0.82      0.83      3534\n",
      "         1.0       0.80      0.81      0.81      1576\n",
      "\n",
      "    accuracy                           0.81      6693\n",
      "   macro avg       0.80      0.81      0.81      6693\n",
      "weighted avg       0.81      0.81      0.81      6693\n",
      "\n"
     ]
    }
   ],
   "source": [
    "# predict with original model\n",
    "model = RandomForestClassifier(random_state=random_state, n_jobs=-1)\n",
    "model.fit(X_train_res, y_train_res)\n",
    "y_pred = model.predict(X_test_scaled)\n",
    "\n",
    "# print original score\n",
    "print(\"\\nClassification Report (Original Model):\\n\", classification_report(y_test, y_pred))\n",
    "\n",
    "# predict with best model\n",
    "model = RandomForestClassifier(**best_params_rf, random_state=random_state, n_jobs=-1)\n",
    "model.fit(X_train_res, y_train_res)\n",
    "y_pred = model.predict(X_test_scaled)\n",
    "\n",
    "# print best score\n",
    "print(\"\\nClassification Report (Best Model):\\n\", classification_report(y_test, y_pred))"
   ]
  },
  {
   "cell_type": "markdown",
   "metadata": {},
   "source": [
    "1.3.2 Bagging Random Forest"
   ]
  },
  {
   "cell_type": "code",
   "execution_count": 21,
   "metadata": {},
   "outputs": [
    {
     "name": "stdout",
     "output_type": "stream",
     "text": [
      "Best Parameters for BaggingForest: {'n_estimators': 100}\n"
     ]
    }
   ],
   "source": [
    "# Parameter grid for Bagging Random Forest\n",
    "param_grid_bf = {'n_estimators': [10, 25, 50, 100]}\n",
    "# Reuse the best parameters for RandomForest\n",
    "grid_bf = GridSearchCV(BaggingClassifier(\n",
    "        estimator=RandomForestClassifier(**best_params_rf, random_state=random_state), \n",
    "        random_state=random_state, n_jobs=-1), param_grid=param_grid_bf, cv=5)\n",
    "\n",
    "grid_bf.fit(X_train_res, y_train_res)\n",
    "\n",
    "# Save best parameters\n",
    "best_params_bf = grid_bf.best_params_\n",
    "print(\"Best Parameters for Bagging Random Forest:\", best_params_bf)"
   ]
  },
  {
   "cell_type": "code",
   "execution_count": 22,
   "metadata": {},
   "outputs": [
    {
     "name": "stdout",
     "output_type": "stream",
     "text": [
      "\n",
      "Classification Report (Original Model):\n",
      "               precision    recall  f1-score   support\n",
      "\n",
      "        -1.0       0.75      0.79      0.77      1583\n",
      "         0.0       0.83      0.79      0.81      3534\n",
      "         1.0       0.78      0.82      0.80      1576\n",
      "\n",
      "    accuracy                           0.80      6693\n",
      "   macro avg       0.79      0.80      0.79      6693\n",
      "weighted avg       0.80      0.80      0.80      6693\n",
      "\n",
      "\n",
      "Classification Report (Best Model):\n",
      "               precision    recall  f1-score   support\n",
      "\n",
      "        -1.0       0.75      0.79      0.77      1583\n",
      "         0.0       0.83      0.80      0.81      3534\n",
      "         1.0       0.78      0.82      0.80      1576\n",
      "\n",
      "    accuracy                           0.80      6693\n",
      "   macro avg       0.79      0.80      0.79      6693\n",
      "weighted avg       0.80      0.80      0.80      6693\n",
      "\n"
     ]
    }
   ],
   "source": [
    "# predict with original model\n",
    "model = BaggingClassifier(estimator=RandomForestClassifier(random_state=random_state), n_estimators=10, random_state=random_state, n_jobs=-1)\n",
    "model.fit(X_train_res, y_train_res)\n",
    "y_pred = model.predict(X_test_scaled)\n",
    "\n",
    "# print original score\n",
    "print(\"\\nClassification Report (Original Model):\\n\", classification_report(y_test, y_pred))\n",
    "\n",
    "# predict with best model\n",
    "model = BaggingClassifier(estimator=RandomForestClassifier(**best_params_rf, random_state=random_state), **best_params_bf, random_state=random_state, n_jobs=-1)\n",
    "model.fit(X_train_res, y_train_res)\n",
    "y_pred = model.predict(X_test_scaled)\n",
    "\n",
    "# print best score\n",
    "print(\"\\nClassification Report (Best Model):\\n\", classification_report(y_test, y_pred))\n",
    "\n",
    "# Re-enable warnings\n",
    "warnings.resetwarnings()"
   ]
  },
  {
   "cell_type": "markdown",
   "metadata": {},
   "source": [
    "NOTE: \n",
    "- The best parameters for Random Forest and Bagging Random Forest are the same.\n",
    "- We will use the simpliest model and best accuracy, **Random Forest**, for the base model."
   ]
  },
  {
   "cell_type": "markdown",
   "metadata": {},
   "source": [
    "1.4.1 Decision Tree"
   ]
  },
  {
   "cell_type": "code",
   "execution_count": 27,
   "metadata": {},
   "outputs": [
    {
     "name": "stdout",
     "output_type": "stream",
     "text": [
      "Best Parameters for DecisionTreeClassifier: {'class_weight': 'balanced', 'criterion': 'entropy', 'max_depth': None, 'max_features': 'sqrt', 'min_samples_split': 2, 'splitter': 'best'}\n"
     ]
    }
   ],
   "source": [
    "# Parameter grid for Decision Tree\n",
    "param_grid_dt = {'max_depth': [None, 10, 20, 30, 40, 50], 'min_samples_split': [2, 3, 5, 10, 20], 'max_features': ['sqrt', 'log2'], 'class_weight': ['balanced', None], 'criterion': ['gini', 'entropy'], 'splitter': ['best', 'random']}\n",
    "grid_dt = GridSearchCV(DecisionTreeClassifier(random_state=random_state), param_grid=param_grid_dt, cv=5, n_jobs=-1)\n",
    "grid_dt.fit(X_train, y_train)\n",
    "\n",
    "# Save best parameters\n",
    "best_params_dt = grid_dt.best_params_\n",
    "print(\"Best Parameters for Decision Tree:\", best_params_dt)"
   ]
  },
  {
   "cell_type": "code",
   "execution_count": 28,
   "metadata": {},
   "outputs": [
    {
     "name": "stdout",
     "output_type": "stream",
     "text": [
      "\n",
      "Classification Report (Original Model):\n",
      "               precision    recall  f1-score   support\n",
      "\n",
      "        -1.0       0.61      0.66      0.63      1583\n",
      "         0.0       0.75      0.70      0.72      3534\n",
      "         1.0       0.63      0.66      0.65      1576\n",
      "\n",
      "    accuracy                           0.68      6693\n",
      "   macro avg       0.66      0.67      0.67      6693\n",
      "weighted avg       0.69      0.68      0.68      6693\n",
      "\n",
      "\n",
      "Classification Report (Best Model):\n",
      "               precision    recall  f1-score   support\n",
      "\n",
      "        -1.0       0.62      0.66      0.64      1583\n",
      "         0.0       0.75      0.71      0.73      3534\n",
      "         1.0       0.65      0.68      0.66      1576\n",
      "\n",
      "    accuracy                           0.69      6693\n",
      "   macro avg       0.67      0.68      0.68      6693\n",
      "weighted avg       0.70      0.69      0.69      6693\n",
      "\n"
     ]
    }
   ],
   "source": [
    "# predict with original model\n",
    "model = DecisionTreeClassifier(random_state=random_state)\n",
    "model.fit(X_train_res, y_train_res)\n",
    "y_pred = model.predict(X_test_scaled)\n",
    "\n",
    "# print original score\n",
    "print(\"\\nClassification Report (Original Model):\\n\", classification_report(y_test, y_pred))\n",
    "\n",
    "# predict with best model\n",
    "model = DecisionTreeClassifier(**best_params_dt, random_state=random_state)\n",
    "model.fit(X_train_res, y_train_res)\n",
    "y_pred = model.predict(X_test_scaled)\n",
    "\n",
    "# print best score\n",
    "print(\"\\nClassification Report (Best Model):\\n\", classification_report(y_test, y_pred))"
   ]
  },
  {
   "cell_type": "markdown",
   "metadata": {},
   "source": [
    "1.4.2 Bagging Decision Tree"
   ]
  },
  {
   "cell_type": "code",
   "execution_count": 55,
   "metadata": {},
   "outputs": [
    {
     "name": "stdout",
     "output_type": "stream",
     "text": [
      "Best Parameters for Bagging Decision Tree: {'max_features': 0.75, 'max_samples': 1.0, 'n_estimators': 250}\n"
     ]
    }
   ],
   "source": [
    "# Parameter grid for Bagging Decision Tree\n",
    "param_grid_bt = {'n_estimators': [10, 25, 50, 100, 150, 200, 250], 'max_samples': [0.1, 0.25, 0.5, 0.75, 1.0], 'max_features': [0.1, 0.25, 0.5, 0.75, 1.0]}\n",
    "# Reuse the best parameters for DecisionTreeClassifier\n",
    "grid_bt = GridSearchCV(BaggingClassifier(\n",
    "        estimator=DecisionTreeClassifier(**best_params_dt, random_state=random_state), \n",
    "        random_state=random_state, n_jobs=-1), param_grid=param_grid_bt, cv=5)\n",
    "\n",
    "grid_bt.fit(X_train_res, y_train_res)\n",
    "\n",
    "# Save best parameters\n",
    "best_params_bt = grid_bt.best_params_\n",
    "print(\"Best Parameters for Bagging Decision Tree:\", best_params_bt)"
   ]
  },
  {
   "cell_type": "code",
   "execution_count": 56,
   "metadata": {},
   "outputs": [
    {
     "name": "stdout",
     "output_type": "stream",
     "text": [
      "\n",
      "Classification Report (Original Model):\n",
      "               precision    recall  f1-score   support\n",
      "\n",
      "        -1.0       0.70      0.77      0.73      1583\n",
      "         0.0       0.80      0.78      0.79      3534\n",
      "         1.0       0.77      0.73      0.75      1576\n",
      "\n",
      "    accuracy                           0.76      6693\n",
      "   macro avg       0.75      0.76      0.76      6693\n",
      "weighted avg       0.77      0.76      0.76      6693\n",
      "\n",
      "\n",
      "Classification Report (Best Model):\n",
      "               precision    recall  f1-score   support\n",
      "\n",
      "        -1.0       0.77      0.79      0.78      1583\n",
      "         0.0       0.83      0.82      0.83      3534\n",
      "         1.0       0.80      0.81      0.81      1576\n",
      "\n",
      "    accuracy                           0.81      6693\n",
      "   macro avg       0.80      0.81      0.81      6693\n",
      "weighted avg       0.81      0.81      0.81      6693\n",
      "\n"
     ]
    }
   ],
   "source": [
    "# predict with original model\n",
    "model = BaggingClassifier(estimator=DecisionTreeClassifier(), n_estimators=10, random_state=random_state, n_jobs=-1)\n",
    "model.fit(X_train_res, y_train_res)\n",
    "y_pred = model.predict(X_test_scaled)\n",
    "\n",
    "# print original score\n",
    "print(\"\\nClassification Report (Original Model):\\n\", classification_report(y_test, y_pred))\n",
    "\n",
    "# predict with best model\n",
    "model = BaggingClassifier(estimator=DecisionTreeClassifier(**best_params_dt, random_state=random_state), **best_params_bt, random_state=random_state, n_jobs=-1)\n",
    "model.fit(X_train_res, y_train_res)\n",
    "y_pred = model.predict(X_test_scaled)\n",
    "\n",
    "# print best score\n",
    "print(\"\\nClassification Report (Best Model):\\n\", classification_report(y_test, y_pred))"
   ]
  },
  {
   "cell_type": "markdown",
   "metadata": {},
   "source": [
    "Hyperparameter tuning results for each base model:\n",
    "- Best parameters for KNN: {'n_neighbors': 3, 'weights': 'distance'}\n",
    "- Best Parameters for LightGBM: {'learning_rate': 0.15, 'n_estimators': 250, 'num_leaves': 124}\n",
    "- Best Parameters for Random Forest: {'max_depth': 40, 'n_estimators': 300} _(replace Bagging Random Forest)_\n",
    "- Best Parameters for Decision Tree: {'class_weight': 'balanced', 'criterion': 'entropy', 'max_depth': None, 'max_features': 'sqrt', 'min_samples_split': 2, 'splitter': 'best'} _(base for Bagging Decision Tree)_\n",
    "- Best Parameters for Bagging Decision Tree: {'max_features': 0.75, 'max_samples': 1.0, 'n_estimators': 250}"
   ]
  },
  {
   "cell_type": "markdown",
   "metadata": {},
   "source": [
    "##### Step 2: Create base Models Using best parameters"
   ]
  },
  {
   "cell_type": "code",
   "execution_count": 57,
   "metadata": {},
   "outputs": [],
   "source": [
    "# Initialize base models with best hyperparameters\n",
    "knn_best = KNeighborsClassifier(n_neighbors=3, weights='distance', n_jobs=-1)\n",
    "lgbm_best = lgb.LGBMClassifier(learning_rate=0.15, n_estimators=250, num_leaves=124, random_state=random_state, n_jobs=-1, verbose=-1)\n",
    "rf_best = RandomForestClassifier(max_depth=40, n_estimators=300, random_state=random_state, n_jobs=-1)\n",
    "\n",
    "dt_best = DecisionTreeClassifier(\n",
    "    class_weight='balanced',\n",
    "    criterion='entropy',\n",
    "    max_depth=None,\n",
    "    max_features='sqrt',\n",
    "    min_samples_split=2,\n",
    "    splitter='best',\n",
    "    random_state=random_state\n",
    ")\n",
    "\n",
    "bagging_dt_best = BaggingClassifier(\n",
    "    estimator=dt_best,\n",
    "    n_estimators=250,\n",
    "    max_features=0.75,\n",
    "    max_samples=1.0,\n",
    "    random_state=random_state,\n",
    "    n_jobs=-1\n",
    ")\n",
    "\n",
    "# Base estimators for stacking\n",
    "base_estimators = [\n",
    "    ('knn_best', knn_best),\n",
    "    ('lgbm_best', lgbm_best),\n",
    "    ('rf_best', rf_best),\n",
    "    ('bagging_dt_best', bagging_dt_best),\n",
    "]"
   ]
  },
  {
   "cell_type": "markdown",
   "metadata": {},
   "source": [
    "##### Step 3: Tune Stacking Classifier using base models with best parameters "
   ]
  },
  {
   "cell_type": "markdown",
   "metadata": {},
   "source": [
    "3.1 Tune with GridSearchCV"
   ]
  },
  {
   "cell_type": "code",
   "execution_count": null,
   "metadata": {},
   "outputs": [],
   "source": [
    "# Stacking Classifier with Logistic Regression as Final Estimator\n",
    "\n",
    "from sklearn.model_selection import GridSearchCV\n",
    "\n",
    "# Parameter grid for Logistic Regression\n",
    "param_grid_stack_lr = {\n",
    "    'final_estimator__C': [0.001, 0.01, 0.1, 1, 10, 100],\n",
    "    'final_estimator__penalty': ['l1', 'l2'],\n",
    "    'final_estimator__solver': ['liblinear', 'saga']\n",
    "}\n",
    "\n",
    "# Initialize the Stacking Classifier with the base estimators\n",
    "stacking_model = StackingClassifier(estimators=base_estimators, final_estimator=LogisticRegression(max_iter=10000), n_jobs=-1)\n",
    "\n",
    "# Initialize GridSearchCV\n",
    "grid_stack_lr = GridSearchCV(stacking_model, param_grid=param_grid_stack_lr, cv=5, scoring='accuracy', n_jobs=-1, verbose=2, scoring=   )\n",
    "grid_stack_lr.fit(X_train_res, y_train_res)\n",
    "\n",
    "# Save best parameters\n",
    "best_params_stack_lr = grid_stack_lr.best_params_\n",
    "print(\"Best Parameters for Final Estimator in Stacking Logistic Regression:\", best_params_stack_lr)\n"
   ]
  },
  {
   "cell_type": "markdown",
   "metadata": {},
   "source": [
    "This method is very slow. it took more than 20 hr but still can't finished, so I decide to use tune final estimator separately instead."
   ]
  },
  {
   "cell_type": "markdown",
   "metadata": {},
   "source": [
    "3.2 Tuning final estimator separately"
   ]
  },
  {
   "cell_type": "markdown",
   "metadata": {},
   "source": [
    "1. **Train Base Models on Training Data**: Train base models using the best hyperparameters with **training dataset**.\n",
    "\n",
    "2. **Generate Meta-Features for Training Data**: Use the trained base models to make predictions on the **training dataset**. These predictions will serve as \"meta-features\" for training final estimator.\n",
    "\n",
    "3. **Generate Meta-Features for Validation Data**: Similarly, generate meta-features for validation set.\n",
    "\n",
    "4. **Train Final Estimator on Meta-Features**: Train final estimator (Logistic Regression) using these meta-features and original labels.\n",
    "\n",
    "5. **Evaluation**: Evaluate the performance of final estimator on the validation set."
   ]
  },
  {
   "cell_type": "code",
   "execution_count": 59,
   "metadata": {},
   "outputs": [
    {
     "name": "stdout",
     "output_type": "stream",
     "text": [
      "Best Parameters for Stacking Logistic Regression : {'C': 0.001, 'penalty': 'l1', 'solver': 'liblinear'}\n"
     ]
    }
   ],
   "source": [
    "# Reuse the best parameters for base estimators\n",
    "knn_best.fit(X_train_res, y_train_res)\n",
    "lgbm_best.fit(X_train_res, y_train_res)\n",
    "rf_best.fit(X_train_res, y_train_res)\n",
    "bagging_dt_best.fit(X_train_res, y_train_res)\n",
    "\n",
    "# Generate meta-features for training and validation set\n",
    "meta_features_train = np.column_stack([\n",
    "    knn_best.predict(X_train_res),\n",
    "    lgbm_best.predict(X_train_res),\n",
    "    rf_best.predict(X_train_res),\n",
    "    bagging_dt_best.predict(X_train_res),\n",
    "])\n",
    "\n",
    "meta_features_val = np.column_stack([\n",
    "    knn_best.predict(X_test_scaled),\n",
    "    lgbm_best.predict(X_test_scaled),\n",
    "    rf_best.predict(X_test_scaled),\n",
    "    bagging_dt_best.predict(X_test_scaled)\n",
    "])\n",
    "\n",
    "# Parameter grid for Stacking Logistic Regression\n",
    "param_grid_stack_lr = {\n",
    "    'C': [0.001, 0.01, 0.1, 1, 10],\n",
    "    'penalty': ['l1', 'l2'],\n",
    "    'solver': ['liblinear', 'saga'],\n",
    "}\n",
    "\n",
    "# Train final estimator on meta-features\n",
    "grid_stack_lr = GridSearchCV(LogisticRegression(max_iter=10000), param_grid_stack_lr, cv=5, scoring='accuracy', n_jobs=-1)\n",
    "grid_stack_lr.fit(meta_features_train, y_train_res)\n",
    "\n",
    "# Save best parameters\n",
    "best_params_stack_lr = grid_stack_lr.best_params_\n",
    "print(\"Best Parameters for Stacking Logistic Regression :\", best_params_stack_lr)"
   ]
  },
  {
   "cell_type": "markdown",
   "metadata": {},
   "source": [
    "3.3 Compare with previous model without hyperparameter tuning"
   ]
  },
  {
   "cell_type": "code",
   "execution_count": 58,
   "metadata": {},
   "outputs": [
    {
     "name": "stdout",
     "output_type": "stream",
     "text": [
      "\n",
      "Classification Report (Original Model + best base parameters):\n",
      "               precision    recall  f1-score   support\n",
      "\n",
      "        -1.0       0.80      0.76      0.78      1583\n",
      "         0.0       0.81      0.85      0.83      3534\n",
      "         1.0       0.83      0.78      0.80      1576\n",
      "\n",
      "    accuracy                           0.81      6693\n",
      "   macro avg       0.81      0.80      0.81      6693\n",
      "weighted avg       0.81      0.81      0.81      6693\n",
      "\n"
     ]
    }
   ],
   "source": [
    "# predict with original model + best base parameters\n",
    "model = StackingClassifier(estimators=base_estimators, final_estimator=LogisticRegression(max_iter=10000), n_jobs=-1)\n",
    "model.fit(X_train_res, y_train_res)\n",
    "y_pred = model.predict(X_test_scaled)\n",
    "\n",
    "# print original score\n",
    "print(\"\\nClassification Report (Original Model + best base parameters):\\n\", classification_report(y_test, y_pred))"
   ]
  },
  {
   "cell_type": "code",
   "execution_count": 60,
   "metadata": {},
   "outputs": [
    {
     "name": "stdout",
     "output_type": "stream",
     "text": [
      "\n",
      "Classification Report (Best Model):\n",
      "               precision    recall  f1-score   support\n",
      "\n",
      "        -1.0       0.78      0.77      0.77      1583\n",
      "         0.0       0.82      0.82      0.82      3534\n",
      "         1.0       0.79      0.80      0.80      1576\n",
      "\n",
      "    accuracy                           0.80      6693\n",
      "   macro avg       0.80      0.80      0.80      6693\n",
      "weighted avg       0.80      0.80      0.80      6693\n",
      "\n"
     ]
    }
   ],
   "source": [
    "# predict with best model\n",
    "model = StackingClassifier(estimators=base_estimators, final_estimator=LogisticRegression(**best_params_stack_lr, max_iter=10000), n_jobs=-1)\n",
    "model.fit(X_train_res, y_train_res)\n",
    "y_pred = model.predict(X_test_scaled)\n",
    "\n",
    "# print best score\n",
    "print(\"\\nClassification Report (Best Model):\\n\", classification_report(y_test, y_pred))"
   ]
  },
  {
   "cell_type": "markdown",
   "metadata": {},
   "source": [
    "3.4 Compare with Random Forest as a final estimator"
   ]
  },
  {
   "cell_type": "code",
   "execution_count": 62,
   "metadata": {},
   "outputs": [
    {
     "name": "stdout",
     "output_type": "stream",
     "text": [
      "Best Parameters for Stacking Random Forest : {'max_depth': None, 'n_estimators': 10}\n"
     ]
    }
   ],
   "source": [
    "# Parameter grid for Stacking Random Forest\n",
    "param_grid_stack_rf = {\n",
    "    'n_estimators': [10, 50, 100, 150, 200, 250, 300],\n",
    "    'max_depth': [None, 10, 20, 30, 40, 50]\n",
    "}\n",
    "\n",
    "# Train final estimator on meta-features\n",
    "grid_stack_rf = GridSearchCV(RandomForestClassifier(random_state=random_state, n_jobs=-1), param_grid_stack_rf, cv=5, scoring='accuracy', n_jobs=-1)\n",
    "grid_stack_rf.fit(meta_features_train, y_train_res)\n",
    "\n",
    "# Save best parameters\n",
    "best_params_stack_rf = grid_stack_rf.best_params_\n",
    "print(\"Best Parameters for Stacking Random Forest :\", best_params_stack_rf)"
   ]
  },
  {
   "cell_type": "code",
   "execution_count": 63,
   "metadata": {},
   "outputs": [
    {
     "name": "stdout",
     "output_type": "stream",
     "text": [
      "\n",
      "Classification Report (Best Model):\n",
      "               precision    recall  f1-score   support\n",
      "\n",
      "        -1.0       0.80      0.73      0.77      1583\n",
      "         0.0       0.78      0.87      0.82      3534\n",
      "         1.0       0.83      0.69      0.75      1576\n",
      "\n",
      "    accuracy                           0.79      6693\n",
      "   macro avg       0.80      0.76      0.78      6693\n",
      "weighted avg       0.80      0.79      0.79      6693\n",
      "\n"
     ]
    }
   ],
   "source": [
    "# predict with best model\n",
    "model = StackingClassifier(estimators=base_estimators, final_estimator=RandomForestClassifier(**best_params_stack_rf, random_state=random_state, n_jobs=-1), n_jobs=-1)\n",
    "model.fit(X_train_res, y_train_res)\n",
    "y_pred = model.predict(X_test_scaled)\n",
    "\n",
    "# print best score\n",
    "print(\"\\nClassification Report (Best Model):\\n\", classification_report(y_test, y_pred))"
   ]
  },
  {
   "cell_type": "markdown",
   "metadata": {},
   "source": [
    "##### Observations\n",
    "\n",
    "Results of using base models with best parameters in stacking with Logistic Regression (Accuracy: 81%) are actually slightly better than performing hyperparameter tuning for the stacking model itself (Accuracy: 80%).\n",
    "\n",
    "**Stacking,** \n",
    "- It increases the complexity of the model. \n",
    "- While improving accuracy, it can also sometimes **overfit to the training data**, which might be why the hyperparameter-tuned stacking model didn't perform as well.\n",
    "\n",
    "##### Based on the results:\n",
    "\n",
    "We will Use the **Original Stacking Logistic Regression Model with Best Base Parameters**\n",
    "- Given that it already achieves an accuracy of 81%"
   ]
  },
  {
   "cell_type": "markdown",
   "metadata": {},
   "source": [
    "----"
   ]
  },
  {
   "cell_type": "markdown",
   "metadata": {},
   "source": [
    "### Experiment 4: Test Stacking Logistic Regression model with live data"
   ]
  },
  {
   "cell_type": "markdown",
   "metadata": {},
   "source": [
    "Note:\n",
    "\n",
    "Bitcoin added 6% after the ruling in Grayscale v. SEC on Aug. 29, 2023. The price of the world's largest cryptocurrency jumped 6% on Tuesday after a federal judge issued a long-anticipated decision regarding the Securities and Exchange Commission's denial of Grayscale's application for a spot Bitcoin ETF"
   ]
  },
  {
   "cell_type": "markdown",
   "metadata": {},
   "source": [
    "##### 4.1 Update pre-processing functions"
   ]
  },
  {
   "cell_type": "code",
   "execution_count": 6,
   "metadata": {},
   "outputs": [
    {
     "name": "stdout",
     "output_type": "stream",
     "text": [
      "               datetime      open      high       low     close       volume  \\\n",
      "598 2021-01-25 22:00:00  32715.53  32732.99  31910.00  32462.36  3761.903244   \n",
      "599 2021-01-25 23:00:00  32462.38  32650.00  32201.44  32254.20  2777.021592   \n",
      "600 2021-01-26 00:00:00  32254.19  32793.01  31758.00  32474.33  3799.041198   \n",
      "601 2021-01-26 01:00:00  32474.34  32827.33  32210.01  32758.85  2324.035401   \n",
      "602 2021-01-26 02:00:00  32754.20  32765.41  32230.29  32307.97  2168.256682   \n",
      "\n",
      "     high_pct_10  high_trix_10  high_sd_10    high_var_10  ...  \\\n",
      "598    -4.568542      0.127206    1.981095  420515.414542  ...   \n",
      "599    -5.891319      0.070057    2.236237  533091.604260  ...   \n",
      "600    -5.969864      0.017296    2.144141  494389.700350  ...   \n",
      "601    -5.092822     -0.027989    2.016728  438294.373684  ...   \n",
      "602    -5.302283     -0.066215    1.735132  323218.431721  ...   \n",
      "\n",
      "     volume_var_200  price_atr_200  price_atr_lag1_200  price_atr_lag2_200  \\\n",
      "598    5.152259e+06       2.221715            2.202788            2.144367   \n",
      "599    5.155260e+06       2.231827            2.221715            2.202788   \n",
      "600    5.155131e+06       2.221551            2.231827            2.221715   \n",
      "601    5.153162e+06       2.200667            2.221551            2.231827   \n",
      "602    5.140007e+06       2.228503            2.200667            2.221551   \n",
      "\n",
      "     price_interact_200  pv_interact_200  price_adx_200    mfi_200  \\\n",
      "598          -14.625976      -210.944150      11.517027  45.237289   \n",
      "599          -21.702496       350.374052      11.528543  45.097567   \n",
      "600          -21.254959       -58.854400      11.543267  44.596663   \n",
      "601          -18.903438       -51.773048      11.557579  44.903071   \n",
      "602          -21.053520      -435.090992      11.571821  44.872249   \n",
      "\n",
      "     price_dx_200  target  \n",
      "598     13.820209    -1.0  \n",
      "599     13.820209    -1.0  \n",
      "600     14.473271     0.0  \n",
      "601     14.405836    -1.0  \n",
      "602     14.405836    -1.0  \n",
      "\n",
      "[5 rows x 127 columns]\n",
      "                 datetime      open      high       low     close      volume  \\\n",
      "23116 2023-08-22 18:00:00  25832.41  26008.64  25770.14  25905.60  1817.32770   \n",
      "23117 2023-08-22 19:00:00  25905.60  25963.99  25773.96  25779.99  1191.08715   \n",
      "23118 2023-08-22 20:00:00  25780.00  25870.01  25779.99  25864.01   899.40168   \n",
      "23119 2023-08-22 21:00:00  25864.00  25903.78  25300.00  25669.29  5609.68716   \n",
      "23120 2023-08-22 22:00:00  25669.30  25856.63  25643.46  25807.99  1801.76946   \n",
      "\n",
      "       high_pct_10  high_trix_10  high_sd_10  high_var_10  ...  \\\n",
      "23116    -0.397512     -0.014987    0.099638   671.562973  ...   \n",
      "23117    -0.469172     -0.017394    0.135993  1246.734778  ...   \n",
      "23118    -0.713809     -0.022242    0.240165  3860.210461  ...   \n",
      "23119    -0.622343     -0.027097    0.269258  4864.774033  ...   \n",
      "23120    -0.933325     -0.032457    0.291974  5699.445073  ...   \n",
      "\n",
      "       volume_var_200  price_atr_200  price_atr_lag1_200  price_atr_lag2_200  \\\n",
      "23116    4.540974e+06       0.438284            0.437095            0.430201   \n",
      "23117    4.535598e+06       0.441903            0.438284            0.437095   \n",
      "23118    4.534728e+06       0.440006            0.441903            0.438284   \n",
      "23119    4.605710e+06       0.452888            0.440006            0.441903   \n",
      "23120    4.599817e+06       0.452331            0.452888            0.440006   \n",
      "\n",
      "       price_interact_200  pv_interact_200  price_adx_200    mfi_200  \\\n",
      "23116           -5.253384     -2079.258286      19.761073  36.592444   \n",
      "23117           -5.454302     -1393.347193      19.825845  36.536753   \n",
      "23118           -5.270964      -148.102648      19.890292  36.537835   \n",
      "23119           -5.726621     -6978.862261      19.970211  36.083580   \n",
      "23120           -5.706613       460.261979      20.049729  35.832665   \n",
      "\n",
      "       price_dx_200  target  \n",
      "23116     32.715425     0.0  \n",
      "23117     32.715425     1.0  \n",
      "23118     32.715425     0.0  \n",
      "23119     35.873910     1.0  \n",
      "23120     35.873910     0.0  \n",
      "\n",
      "[5 rows x 127 columns]\n",
      "Total columns: 127\n"
     ]
    }
   ],
   "source": [
    "import pandas as pd\n",
    "import numpy as np\n",
    "import talib\n",
    "import warnings\n",
    "\n",
    "# Ref from data exploration\n",
    "def remove_outlier(df, iqr_threshold = 5):\n",
    "    \n",
    "    # Calculate the first quartile (25th percentile) and third quartile (75th percentile)\n",
    "    q1 = df['volume'].quantile(0.25)\n",
    "    q3 = df['volume'].quantile(0.75)\n",
    "\n",
    "    # Calculate the interquartile range (IQR)\n",
    "    iqr = q3 - q1\n",
    "\n",
    "    # Define lower and upper bounds for outliers\n",
    "    lower_bound = q1 - iqr_threshold * iqr\n",
    "    upper_bound = q3 + iqr_threshold * iqr\n",
    "\n",
    "    lower_bound = 0 if lower_bound < 0 else lower_bound\n",
    "\n",
    "    # remove outliers from df\n",
    "    df = df[(df['volume'] > lower_bound) & (df['volume'] < upper_bound)]\n",
    "    \n",
    "    return df\n",
    "\n",
    "def read_hist_data(name = 'BTC', timeframe = '1h'):\n",
    "    file_path = f\"./data/{name}_USDT-{timeframe}.json\"\n",
    "    df = pd.read_json(file_path)\n",
    "\n",
    "    # set column names\n",
    "    df.columns = ['datetime', 'open', 'high', 'low', 'close', 'volume']\n",
    "\n",
    "    # convert unix timestamp to datetime\n",
    "    df['datetime'] = pd.to_datetime(df['datetime'], unit='ms')\n",
    "    \n",
    "    df = remove_outlier(df)\n",
    "    return df\n",
    "\n",
    "def get_features_predict_price_direction(df):\n",
    "\n",
    "    # List of periods\n",
    "    periods = [10, 20, 50, 100, 200]\n",
    "    inputs = ['high', 'low', 'close', 'volume']\n",
    "\n",
    "    # loop periods and inputs\n",
    "    for period in periods:\n",
    "        for input in inputs:\n",
    "            # Generate indicators\n",
    "\n",
    "            # % of change\n",
    "            df[f'{input}_pct_{period}'] = df[input].pct_change(periods=period) * 100\n",
    "\n",
    "            # TRIX\n",
    "            df[f'{input}_trix_{period}'] = talib.TRIX(df[input].values, timeperiod=period)\n",
    "\n",
    "            # SD\n",
    "            pct_sd = talib.STDDEV(df[input].values, timeperiod=period)\n",
    "            df[f'{input}_sd_{period}'] = pct_sd / df[input] * 100\n",
    "\n",
    "            # VAR\n",
    "            df[f'{input}_var_{period}'] = talib.VAR(df[input].values, timeperiod=period)\n",
    "\n",
    "            df = df.copy()\n",
    "\n",
    "\n",
    "        # Multiple inputs indicators\n",
    "        # ATR\n",
    "        pct_atr = talib.ATR(df['high'].values, df['low'].values, df['close'].values, timeperiod=period)\n",
    "        df[f'price_atr_{period}'] = pct_atr / df['close'] * 100\n",
    "\n",
    "        # ATR - lagged 1\n",
    "        df[f'price_atr_lag1_{period}'] = df[f'price_atr_{period}'].shift(1)\n",
    "\n",
    "        # ATR - lagged 2\n",
    "        df[f'price_atr_lag2_{period}'] = df[f'price_atr_{period}'].shift(2)\n",
    "\n",
    "        # Price interaction Features:\n",
    "        df[f'price_interact_{period}'] = df[f'close_pct_{period}'] * df[f'price_atr_{period}']\n",
    "\n",
    "        # Price volume interaction:\n",
    "        df[f'pv_interact_{period}'] = df[f'close_pct_{period}'] * df[f'volume_pct_{period}']\n",
    "\n",
    "        # ADX\n",
    "        df[f'price_adx_{period}'] = talib.ADX(df['high'].values, df['low'].values, df['close'].values, timeperiod=period)\n",
    "\n",
    "        # MFI\n",
    "        df[f'mfi_{period}'] = talib.MFI(df['high'].values, df['low'].values, df['close'].values, df['volume'].values, timeperiod=period)\n",
    "\n",
    "        # DX\n",
    "        df[f'price_dx_{period}'] = talib.DX(df['high'].values, df['low'].values, df['close'].values, timeperiod=period)\n",
    "\n",
    "        df = df.copy()\n",
    "\n",
    "    return df\n",
    "\n",
    "# to predict if the price will go up (+1%) or down (-1%) in the next 10 periods\n",
    "def get_target_next_close(df, target_shift = 10):\n",
    "\n",
    "    target_treshold = 0.01\n",
    "    conditions = [\n",
    "        (df['close'].shift(target_shift * -1).isnull()), \n",
    "        (df['close'].shift(target_shift * -1) > df['close'] * (1+target_treshold )),\n",
    "        (df['close'].shift(target_shift * -1) < df['close'] * (1-target_treshold)),\n",
    "        (df['close'].shift(target_shift * -1) >= df['close'] * (1-target_treshold)) & \n",
    "        (df['close'].shift(target_shift * -1) <= df['close'] * (1+target_treshold))\n",
    "    ]\n",
    "    values = [np.nan, 1, -1, 0]\n",
    "    df['target'] = np.select(conditions, values)\n",
    "    df = df.dropna()\n",
    "    return df\n",
    "\n",
    "def get_train_set_btc_10h_direction():\n",
    "\n",
    "    df = read_hist_data()\n",
    "    df = get_features_predict_price_direction(df)\n",
    "    df = get_target_next_close(df)\n",
    "\n",
    "    return df\n",
    "\n",
    "df = get_train_set_btc_10h_direction()\n",
    "\n",
    "print(df.head(5))\n",
    "print(df.tail(5))\n",
    "\n",
    "print(f'Total columns: {len(df.columns)}')"
   ]
  },
  {
   "cell_type": "markdown",
   "metadata": {},
   "source": [
    "##### 4.2 Update new ensemble model functions"
   ]
  },
  {
   "cell_type": "code",
   "execution_count": 7,
   "metadata": {},
   "outputs": [],
   "source": [
    "from sklearn.ensemble import RandomForestClassifier, StackingClassifier, BaggingClassifier\n",
    "from sklearn.neighbors import KNeighborsClassifier\n",
    "from sklearn.tree import DecisionTreeClassifier\n",
    "import lightgbm as lgb\n",
    "from sklearn.model_selection import train_test_split\n",
    "from sklearn.preprocessing import StandardScaler\n",
    "from imblearn.over_sampling import SMOTE\n",
    "from sklearn.linear_model import LogisticRegression\n",
    "from sklearn.metrics import classification_report\n",
    "import joblib\n",
    "\n",
    "# Train model: Stacking Classifier with Logistic Regression as the final estimator\n",
    "def train_model_stacking_lr(df, random_state = 55, print_report = True, model_name = 'btc_10h_direction', model_path = './models/'):\n",
    "\n",
    "    # Separate features and target\n",
    "    X = df.drop(columns=['datetime', 'target'])\n",
    "    y = df['target']\n",
    "\n",
    "    # Data Preprocessing: Splitting and Scaling\n",
    "    X_train, X_test, y_train, y_test = train_test_split(X, y, test_size=0.3, random_state=random_state)\n",
    "\n",
    "    scaler = StandardScaler()\n",
    "    X_train_scaled = scaler.fit_transform(X_train)\n",
    "    X_test_scaled = scaler.transform(X_test)\n",
    "\n",
    "    # save scaler\n",
    "    scaler_filepath = model_path + model_name + '_scaler.joblib'\n",
    "    joblib.dump(scaler, scaler_filepath)\n",
    "\n",
    "    # Data Augmentation: SMOTE for imbalance handling\n",
    "    sm = SMOTE(random_state=random_state)\n",
    "    X_train_res, y_train_res = sm.fit_resample(X_train_scaled, y_train)\n",
    "\n",
    "    # Initialize base models with best hyperparameters\n",
    "    knn_best = KNeighborsClassifier(n_neighbors=3, weights='distance', n_jobs=-1)\n",
    "    lgbm_best = lgb.LGBMClassifier(learning_rate=0.15, n_estimators=250, num_leaves=124, random_state=random_state, n_jobs=-1, verbose=-1)\n",
    "    rf_best = RandomForestClassifier(max_depth=40, n_estimators=300, random_state=random_state, n_jobs=-1)\n",
    "\n",
    "    dt_best = DecisionTreeClassifier(\n",
    "        class_weight='balanced',\n",
    "        criterion='entropy',\n",
    "        max_depth=None,\n",
    "        max_features='sqrt',\n",
    "        min_samples_split=2,\n",
    "        splitter='best',\n",
    "        random_state=random_state\n",
    "    )\n",
    "\n",
    "    bagging_dt_best = BaggingClassifier(\n",
    "        estimator=dt_best,\n",
    "        n_estimators=250,\n",
    "        max_features=0.75,\n",
    "        max_samples=1.0,\n",
    "        random_state=random_state,\n",
    "        n_jobs=-1\n",
    "    )\n",
    "\n",
    "    # Base estimators for stacking\n",
    "    base_estimators = [\n",
    "        ('knn_best', knn_best),\n",
    "        ('lgbm_best', lgbm_best),\n",
    "        ('rf_best', rf_best),\n",
    "        ('bagging_dt_best', bagging_dt_best),\n",
    "    ]\n",
    "\n",
    "    # Initialize the Stacking Classifier with Logistic Regression as the final estimator\n",
    "    model = StackingClassifier(estimators=base_estimators, final_estimator=LogisticRegression(max_iter=10000), n_jobs=-1)\n",
    "    model.fit(X_train_res, y_train_res)\n",
    "    y_pred = model.predict(X_test_scaled)\n",
    "\n",
    "    # print original score\n",
    "    # print(\"\\nClassification Report (Original Model + best base parameters):\\n\", classification_report(y_test, y_pred))\n",
    "\n",
    "    # Train the final Stacking model\n",
    "    # model.fit(X_train_res, y_train_res)\n",
    "\n",
    "    # save model\n",
    "    model_filepath = model_path + model_name + '_model.joblib'\n",
    "    joblib.dump(model, model_filepath)\n",
    "\n",
    "    if print_report:\n",
    "        # Evaluate the final Stacking model with classification_report\n",
    "        y_pred = model.predict(X_test_scaled)\n",
    "        print(classification_report(y_test, y_pred))\n",
    "    \n",
    "    \n",
    "    return model"
   ]
  },
  {
   "cell_type": "markdown",
   "metadata": {},
   "source": [
    "##### 4.3 Train the model"
   ]
  },
  {
   "cell_type": "code",
   "execution_count": 8,
   "metadata": {},
   "outputs": [
    {
     "name": "stdout",
     "output_type": "stream",
     "text": [
      "              precision    recall  f1-score   support\n",
      "\n",
      "        -1.0       0.80      0.76      0.78      1583\n",
      "         0.0       0.81      0.85      0.83      3534\n",
      "         1.0       0.83      0.78      0.80      1576\n",
      "\n",
      "    accuracy                           0.81      6693\n",
      "   macro avg       0.81      0.80      0.81      6693\n",
      "weighted avg       0.81      0.81      0.81      6693\n",
      "\n"
     ]
    }
   ],
   "source": [
    "# Train the model\n",
    "model = train_model_stacking_lr(df)"
   ]
  },
  {
   "cell_type": "markdown",
   "metadata": {},
   "source": [
    "##### 4.4 Test the model with live data"
   ]
  },
  {
   "cell_type": "markdown",
   "metadata": {},
   "source": [
    "----"
   ]
  },
  {
   "cell_type": "markdown",
   "metadata": {},
   "source": [
    "----"
   ]
  },
  {
   "cell_type": "markdown",
   "metadata": {},
   "source": [
    "----"
   ]
  }
 ],
 "metadata": {
  "kernelspec": {
   "display_name": ".venv",
   "language": "python",
   "name": "python3"
  },
  "language_info": {
   "codemirror_mode": {
    "name": "ipython",
    "version": 3
   },
   "file_extension": ".py",
   "mimetype": "text/x-python",
   "name": "python",
   "nbconvert_exporter": "python",
   "pygments_lexer": "ipython3",
   "version": "3.10.12"
  },
  "orig_nbformat": 4
 },
 "nbformat": 4,
 "nbformat_minor": 2
}
